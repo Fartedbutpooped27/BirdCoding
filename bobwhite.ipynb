{
 "cells": [
  {
   "cell_type": "code",
   "execution_count": null,
   "metadata": {},
   "outputs": [],
   "source": [
    "# the cnn module provides classes for training/predicting with various types of CNNs\n",
    "from opensoundscape.torch.models.cnn import CNN\n",
    "\n",
    "#other utilities and packages\n",
    "import torch\n",
    "import pandas as pd\n",
    "from pathlib import Path\n",
    "import numpy as np\n",
    "import pandas as pd\n",
    "import random\n",
    "import subprocess\n",
    "\n",
    "#set up plotting\n",
    "from matplotlib import pyplot as plt\n",
    "plt.rcParams['figure.figsize']=[15,5] #for large visuals\n",
    "%config InlineBackend.figure_format = 'retina'"
   ]
  },
  {
   "cell_type": "code",
   "execution_count": null,
   "metadata": {},
   "outputs": [],
   "source": [
    "import os\n",
    "import csv\n",
    "\n",
    "# Define the directory containing the sound files\n",
    "directory = \"./training_recording\"\n",
    "\n",
    "# Create an empty list to hold the data\n",
    "data = []\n",
    "\n",
    "# Loop over all files in the directory\n",
    "for filename in os.listdir(directory):\n",
    "    if filename.endswith(\".wav\"):\n",
    "        # Extract the sound type from the filename\n",
    "        if \"Absence\" in filename:\n",
    "            bird = \"absent\"\n",
    "            sound_type = \"na\"\n",
    "        else:\n",
    "            bird = \"present\"\n",
    "            sound_type = \"song\"\n",
    "\n",
    "        # Create a dictionary for the sound file\n",
    "        sound = {\"filename\": os.path.join(directory, filename), \"NorthernBobwhite\": bird, \"sound_type\": sound_type}\n",
    "\n",
    "        # Append the sound dictionary to the data list\n",
    "        data.append(sound)\n",
    "\n",
    "# Define the fieldnames for the CSV file\n",
    "fieldnames = [\"filename\", \"NorthernBobwhite\", \"sound_type\"]\n",
    "\n",
    "# Open a new CSV file in write mode\n",
    "with open(\"bobwhite_data.csv\", mode=\"w\", newline='') as file:\n",
    "\n",
    "    # Create a CSV writer object\n",
    "    writer = csv.DictWriter(file, fieldnames=fieldnames)\n",
    "\n",
    "    # Write the header row to the CSV file\n",
    "    writer.writeheader()\n",
    "\n",
    "    # Write each dictionary to a row in the CSV file\n",
    "    for row in data:\n",
    "        writer.writerow(row)\n"
   ]
  },
  {
   "cell_type": "code",
   "execution_count": null,
   "metadata": {},
   "outputs": [],
   "source": [
    "import pandas as pd\n",
    "\n",
    "bobwhite_data = pd.read_csv('bobwhite_data.csv')\n",
    "\n",
    "# create a new dataframe with the filenames from the previous table as the index\n",
    "labels = pd.DataFrame(index=bobwhite_data['filename'])\n",
    "\n",
    "#convert 'present' to 1 and 'absent' to 0\n",
    "labels['NorthernBobwhite']=[1 if l=='present' else 0 for l in bobwhite_data['NorthernBobwhite']]\n",
    "\n",
    "#look at the first rows\n",
    "labels.head(3)"
   ]
  },
  {
   "cell_type": "code",
   "execution_count": null,
   "metadata": {},
   "outputs": [],
   "source": [
    "from sklearn.model_selection import train_test_split\n",
    "train_df,validation_df = train_test_split(labels,test_size=0.2,random_state=1)"
   ]
  },
  {
   "cell_type": "code",
   "execution_count": null,
   "metadata": {},
   "outputs": [],
   "source": [
    "from opensoundscape.torch.models.cnn import load_model\n",
    "import os\n",
    "\n",
    "# Define constants\n",
    "SAMPLE_DURATION = 4.0\n",
    "NUM_EPOCHS = 15\n",
    "BATCH_SIZE = 10\n",
    "SAVE_INTERVAL = 150\n",
    "\n",
    "# Specify paths\n",
    "model_path = './bird_training/bobwhite/best.model'\n",
    "save_path = './bird_training/bobwhite'\n",
    "\n",
    "# Create model object\n",
    "classes = train_df.columns #in this case, there's just one class: [\"woodcock\"]\n",
    "\n",
    "if os.path.exists(model_path):\n",
    "    model = load_model(model_path)\n",
    "else:\n",
    "    model = CNN('resnet18', classes=classes, sample_duration=SAMPLE_DURATION)\n",
    "\n",
    "model.train(\n",
    "    train_df=train_df,\n",
    "    validation_df=validation_df,\n",
    "    save_path=save_path,\n",
    "    epochs=NUM_EPOCHS,\n",
    "    batch_size=BATCH_SIZE,\n",
    "    save_interval=SAVE_INTERVAL,\n",
    "    num_workers=0, #specify 4 if you have 4 CPU processes, eg; 0 means only the root process\n",
    ")\n",
    "\n",
    "model.save(model_path)\n",
    "model = load_model(model_path)"
   ]
  },
  {
   "cell_type": "code",
   "execution_count": null,
   "metadata": {},
   "outputs": [],
   "source": [
    "plt.scatter(model.loss_hist.keys(),model.loss_hist.values())\n",
    "plt.xlabel('epoch')\n",
    "plt.ylabel('loss')"
   ]
  },
  {
   "cell_type": "code",
   "execution_count": null,
   "metadata": {},
   "outputs": [],
   "source": [
    "from glob import glob\n",
    "field_recordings = glob('./analysis_recording/*.WAV')\n",
    "\n",
    "field_recordings"
   ]
  },
  {
   "cell_type": "code",
   "execution_count": null,
   "metadata": {},
   "outputs": [],
   "source": [
    "#all with overlap\n",
    "import os\n",
    "import pandas as pd\n",
    "# import Audio and Spectrogram classes from OpenSoundscape\n",
    "from opensoundscape.audio import Audio\n",
    "from opensoundscape.spectrogram import Spectrogram\n",
    "\n",
    "\n",
    "\n",
    "#predict method returns a LIST of dataframes, so in this case, prediction_scores_df is list of one dataframe\n",
    "prediction_scores_df = model.predict(field_recordings, activation_layer='sigmoid', overlap_fraction = .5)\n",
    "\n",
    "\n",
    "\n",
    "# Add a new column 'Presence' based on the value of 'woodcock' column\n",
    "prediction_scores_df[0]['Presence'] = ['Present' if float(score) > 0.9 else '' for score in prediction_scores_df[0]['NorthernBobwhite']]\n",
    "\n",
    "\n",
    "      \n",
    "prediction_scores_df[0].to_csv(\"bobwhite.csv\")\n",
    "\n",
    "# Read the CSV file into a pandas DataFrame\n",
    "df = pd.read_csv('bobwhite.csv')\n",
    "\n",
    "# Convert the seconds column to a \"minute:second\" format\n",
    "df['start_time'] = pd.to_datetime(df['start_time'], unit='s').apply(lambda x: x.strftime('%H:%M:%S'))\n",
    "df['end_time'] = pd.to_datetime(df['end_time'], unit='s').apply(lambda x: x.strftime('%H:%M:%S'))\n",
    "\n",
    "# Save the updated DataFrame to the same CSV file\n",
    "df.to_csv('bobwhite.csv', index=False)"
   ]
  }
 ],
 "metadata": {
  "kernelspec": {
   "display_name": "Python (opensoundscape2)",
   "language": "python",
   "name": "opensoundscape2"
  },
  "language_info": {
   "name": "python",
   "version": "3.9.16"
  },
  "orig_nbformat": 4,
  "vscode": {
   "interpreter": {
    "hash": "59f0617734f8e50410e195d283de377ed9d593ae6e4eefe353054cb1dcfc1d4a"
   }
  }
 },
 "nbformat": 4,
 "nbformat_minor": 2
}
