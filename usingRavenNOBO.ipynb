{
 "cells": [
  {
   "cell_type": "code",
   "execution_count": 61,
   "metadata": {},
   "outputs": [],
   "source": [
    "# OpenSoundscape imports\n",
    "from opensoundscape import Audio, Spectrogram\n",
    "from opensoundscape.annotations import BoxedAnnotations\n",
    "\n",
    "# General-purpose packages\n",
    "import numpy as np\n",
    "import pandas as pd\n",
    "from glob import glob\n",
    "from pathlib import Path\n",
    "\n",
    "\n",
    "from matplotlib import pyplot as plt\n",
    "plt.rcParams['figure.figsize']=[15,5] #for big visuals\n",
    "%config InlineBackend.figure_format = 'retina'\n"
   ]
  },
  {
   "cell_type": "markdown",
   "metadata": {},
   "source": [
    "Loading Raven Files"
   ]
  },
  {
   "cell_type": "code",
   "execution_count": 62,
   "metadata": {},
   "outputs": [
    {
     "name": "stdout",
     "output_type": "stream",
     "text": [
      "Renamed: c:\\Users\\jonat\\Documents\\bobwhite\\ravenSelectionTables\\20221022_060000.txt to c:\\Users\\jonat\\Documents\\bobwhite\\ravenSelectionTables\\20221022_060000.txt\n",
      "Renamed: c:\\Users\\jonat\\Documents\\bobwhite\\ravenSelectionTables\\20221024_060000.txt to c:\\Users\\jonat\\Documents\\bobwhite\\ravenSelectionTables\\20221024_060000.txt\n",
      "Renamed: c:\\Users\\jonat\\Documents\\bobwhite\\ravenSelectionTables\\20221025_060000.txt to c:\\Users\\jonat\\Documents\\bobwhite\\ravenSelectionTables\\20221025_060000.txt\n",
      "Renamed: c:\\Users\\jonat\\Documents\\bobwhite\\ravenSelectionTables\\20221027_060000.txt to c:\\Users\\jonat\\Documents\\bobwhite\\ravenSelectionTables\\20221027_060000.txt\n",
      "Renamed: c:\\Users\\jonat\\Documents\\bobwhite\\ravenSelectionTables\\20221029_060000.txt to c:\\Users\\jonat\\Documents\\bobwhite\\ravenSelectionTables\\20221029_060000.txt\n",
      "Renamed: c:\\Users\\jonat\\Documents\\bobwhite\\ravenSelectionTables\\20221101_060000.txt to c:\\Users\\jonat\\Documents\\bobwhite\\ravenSelectionTables\\20221101_060000.txt\n",
      "Renamed: c:\\Users\\jonat\\Documents\\bobwhite\\ravenSelectionTables\\20221103_060000.txt to c:\\Users\\jonat\\Documents\\bobwhite\\ravenSelectionTables\\20221103_060000.txt\n",
      "Renamed: c:\\Users\\jonat\\Documents\\bobwhite\\ravenSelectionTables\\20221104_060000.txt to c:\\Users\\jonat\\Documents\\bobwhite\\ravenSelectionTables\\20221104_060000.txt\n",
      "Renamed: c:\\Users\\jonat\\Documents\\bobwhite\\ravenSelectionTables\\20221106_060000.txt to c:\\Users\\jonat\\Documents\\bobwhite\\ravenSelectionTables\\20221106_060000.txt\n",
      "Renamed: c:\\Users\\jonat\\Documents\\bobwhite\\ravenSelectionTables\\20221108_060000.txt to c:\\Users\\jonat\\Documents\\bobwhite\\ravenSelectionTables\\20221108_060000.txt\n",
      "Renamed: c:\\Users\\jonat\\Documents\\bobwhite\\ravenSelectionTables\\20221109_060000.txt to c:\\Users\\jonat\\Documents\\bobwhite\\ravenSelectionTables\\20221109_060000.txt\n",
      "Renamed: c:\\Users\\jonat\\Documents\\bobwhite\\ravenSelectionTables\\20221111_060000.txt to c:\\Users\\jonat\\Documents\\bobwhite\\ravenSelectionTables\\20221111_060000.txt\n",
      "Renamed: c:\\Users\\jonat\\Documents\\bobwhite\\ravenSelectionTables\\20221113_060000.txt to c:\\Users\\jonat\\Documents\\bobwhite\\ravenSelectionTables\\20221113_060000.txt\n",
      "Renamed: c:\\Users\\jonat\\Documents\\bobwhite\\ravenSelectionTables\\20221114_060000.txt to c:\\Users\\jonat\\Documents\\bobwhite\\ravenSelectionTables\\20221114_060000.txt\n",
      "Renamed: c:\\Users\\jonat\\Documents\\bobwhite\\ravenSelectionTables\\20221116_060000.txt to c:\\Users\\jonat\\Documents\\bobwhite\\ravenSelectionTables\\20221116_060000.txt\n",
      "Renamed: c:\\Users\\jonat\\Documents\\bobwhite\\ravenSelectionTables\\20221118_060000.txt to c:\\Users\\jonat\\Documents\\bobwhite\\ravenSelectionTables\\20221118_060000.txt\n",
      "Renamed: c:\\Users\\jonat\\Documents\\bobwhite\\ravenSelectionTables\\20221119_060000.txt to c:\\Users\\jonat\\Documents\\bobwhite\\ravenSelectionTables\\20221119_060000.txt\n",
      "Renamed: c:\\Users\\jonat\\Documents\\bobwhite\\ravenSelectionTables\\20221123_060000.txt to c:\\Users\\jonat\\Documents\\bobwhite\\ravenSelectionTables\\20221123_060000.txt\n",
      "Renamed: c:\\Users\\jonat\\Documents\\bobwhite\\ravenSelectionTables\\20221124_060000.txt to c:\\Users\\jonat\\Documents\\bobwhite\\ravenSelectionTables\\20221124_060000.txt\n",
      "Renamed: c:\\Users\\jonat\\Documents\\bobwhite\\ravenSelectionTables\\20221128_060000.txt to c:\\Users\\jonat\\Documents\\bobwhite\\ravenSelectionTables\\20221128_060000.txt\n",
      "Renamed: c:\\Users\\jonat\\Documents\\bobwhite\\ravenSelectionTables\\20221129_060000.txt to c:\\Users\\jonat\\Documents\\bobwhite\\ravenSelectionTables\\20221129_060000.txt\n",
      "Renamed: c:\\Users\\jonat\\Documents\\bobwhite\\ravenSelectionTables\\20221203_060000.txt to c:\\Users\\jonat\\Documents\\bobwhite\\ravenSelectionTables\\20221203_060000.txt\n",
      "Renamed: c:\\Users\\jonat\\Documents\\bobwhite\\ravenSelectionTables\\20221204_060000.txt to c:\\Users\\jonat\\Documents\\bobwhite\\ravenSelectionTables\\20221204_060000.txt\n",
      "['c:\\\\Users\\\\jonat\\\\Documents\\\\bobwhite\\\\ravenSelectionTables\\\\20221022_060000.txt', 'c:\\\\Users\\\\jonat\\\\Documents\\\\bobwhite\\\\ravenSelectionTables\\\\20221024_060000.txt', 'c:\\\\Users\\\\jonat\\\\Documents\\\\bobwhite\\\\ravenSelectionTables\\\\20221025_060000.txt', 'c:\\\\Users\\\\jonat\\\\Documents\\\\bobwhite\\\\ravenSelectionTables\\\\20221027_060000.txt', 'c:\\\\Users\\\\jonat\\\\Documents\\\\bobwhite\\\\ravenSelectionTables\\\\20221029_060000.txt', 'c:\\\\Users\\\\jonat\\\\Documents\\\\bobwhite\\\\ravenSelectionTables\\\\20221101_060000.txt', 'c:\\\\Users\\\\jonat\\\\Documents\\\\bobwhite\\\\ravenSelectionTables\\\\20221103_060000.txt', 'c:\\\\Users\\\\jonat\\\\Documents\\\\bobwhite\\\\ravenSelectionTables\\\\20221104_060000.txt', 'c:\\\\Users\\\\jonat\\\\Documents\\\\bobwhite\\\\ravenSelectionTables\\\\20221106_060000.txt', 'c:\\\\Users\\\\jonat\\\\Documents\\\\bobwhite\\\\ravenSelectionTables\\\\20221108_060000.txt', 'c:\\\\Users\\\\jonat\\\\Documents\\\\bobwhite\\\\ravenSelectionTables\\\\20221109_060000.txt', 'c:\\\\Users\\\\jonat\\\\Documents\\\\bobwhite\\\\ravenSelectionTables\\\\20221111_060000.txt', 'c:\\\\Users\\\\jonat\\\\Documents\\\\bobwhite\\\\ravenSelectionTables\\\\20221113_060000.txt', 'c:\\\\Users\\\\jonat\\\\Documents\\\\bobwhite\\\\ravenSelectionTables\\\\20221114_060000.txt', 'c:\\\\Users\\\\jonat\\\\Documents\\\\bobwhite\\\\ravenSelectionTables\\\\20221116_060000.txt', 'c:\\\\Users\\\\jonat\\\\Documents\\\\bobwhite\\\\ravenSelectionTables\\\\20221118_060000.txt', 'c:\\\\Users\\\\jonat\\\\Documents\\\\bobwhite\\\\ravenSelectionTables\\\\20221119_060000.txt', 'c:\\\\Users\\\\jonat\\\\Documents\\\\bobwhite\\\\ravenSelectionTables\\\\20221123_060000.txt', 'c:\\\\Users\\\\jonat\\\\Documents\\\\bobwhite\\\\ravenSelectionTables\\\\20221124_060000.txt', 'c:\\\\Users\\\\jonat\\\\Documents\\\\bobwhite\\\\ravenSelectionTables\\\\20221128_060000.txt', 'c:\\\\Users\\\\jonat\\\\Documents\\\\bobwhite\\\\ravenSelectionTables\\\\20221129_060000.txt', 'c:\\\\Users\\\\jonat\\\\Documents\\\\bobwhite\\\\ravenSelectionTables\\\\20221203_060000.txt', 'c:\\\\Users\\\\jonat\\\\Documents\\\\bobwhite\\\\ravenSelectionTables\\\\20221204_060000.txt']\n"
     ]
    }
   ],
   "source": [
    "from glob import glob\n",
    "import os\n",
    "import re\n",
    "\n",
    "# Assuming your current working directory is the base path\n",
    "base_path = os.getcwd()\n",
    "\n",
    "# Folder name\n",
    "folder_name = \"ravenSelectionTables\"\n",
    "\n",
    "# Construct the relative path\n",
    "relative_folder_path = os.path.join(base_path, folder_name)\n",
    "\n",
    "# Use glob to find all .txt files directly in the folder\n",
    "selections = glob(os.path.join(relative_folder_path, \"*.txt\"))\n",
    "# Regular expression pattern to extract the date and time part\n",
    "pattern = r\"(\\d{8}_\\d{6})\" #NOTE THIS MAY NOT WORK FOR ALL RECORDINGS IN OTHER FILES\n",
    "\n",
    "# Iterate through files and rename to include only the date and time part\n",
    "for old_file_path in selections:\n",
    "    old_file_name = os.path.basename(old_file_path)\n",
    "    \n",
    "    # Use regex to find the date and time part\n",
    "    match = re.search(pattern, old_file_name)\n",
    "    \n",
    "    if match:\n",
    "        new_file_name = match.group(1)\n",
    "        \n",
    "        # Construct the new file path\n",
    "        new_file_path = os.path.join(relative_folder_path, new_file_name + \".txt\")\n",
    "        \n",
    "        # Rename the file\n",
    "        os.rename(old_file_path, new_file_path)\n",
    "        print(f\"Renamed: {old_file_path} to {new_file_path}\")\n",
    "    else:\n",
    "        print(f\"No match found in filename: {old_file_name}\")\n",
    "\n",
    "# Optional: Print the updated list of files in ravenSelectionTables\n",
    "updated_selections = glob(os.path.join(relative_folder_path, \"*.txt\"))\n",
    "print(updated_selections)\n",
    "\n",
    "\n"
   ]
  },
  {
   "cell_type": "markdown",
   "metadata": {},
   "source": [
    "Rename audio files to match raven txt selection file names"
   ]
  },
  {
   "cell_type": "code",
   "execution_count": 63,
   "metadata": {},
   "outputs": [
    {
     "name": "stdout",
     "output_type": "stream",
     "text": [
      "Renamed: c:\\Users\\jonat\\Documents\\bobwhite\\ravenSelectionTables\\20221022_060000.wav to c:\\Users\\jonat\\Documents\\bobwhite\\ravenSelectionTables\\20221022_060000.wav\n",
      "Renamed: c:\\Users\\jonat\\Documents\\bobwhite\\ravenSelectionTables\\20221024_060000.wav to c:\\Users\\jonat\\Documents\\bobwhite\\ravenSelectionTables\\20221024_060000.wav\n",
      "Renamed: c:\\Users\\jonat\\Documents\\bobwhite\\ravenSelectionTables\\20221025_060000.wav to c:\\Users\\jonat\\Documents\\bobwhite\\ravenSelectionTables\\20221025_060000.wav\n",
      "Renamed: c:\\Users\\jonat\\Documents\\bobwhite\\ravenSelectionTables\\20221027_060000.wav to c:\\Users\\jonat\\Documents\\bobwhite\\ravenSelectionTables\\20221027_060000.wav\n",
      "Renamed: c:\\Users\\jonat\\Documents\\bobwhite\\ravenSelectionTables\\20221029_060000.wav to c:\\Users\\jonat\\Documents\\bobwhite\\ravenSelectionTables\\20221029_060000.wav\n",
      "Renamed: c:\\Users\\jonat\\Documents\\bobwhite\\ravenSelectionTables\\20221101_060000.wav to c:\\Users\\jonat\\Documents\\bobwhite\\ravenSelectionTables\\20221101_060000.wav\n",
      "Renamed: c:\\Users\\jonat\\Documents\\bobwhite\\ravenSelectionTables\\20221103_060000.wav to c:\\Users\\jonat\\Documents\\bobwhite\\ravenSelectionTables\\20221103_060000.wav\n",
      "Renamed: c:\\Users\\jonat\\Documents\\bobwhite\\ravenSelectionTables\\20221104_060000.wav to c:\\Users\\jonat\\Documents\\bobwhite\\ravenSelectionTables\\20221104_060000.wav\n",
      "Renamed: c:\\Users\\jonat\\Documents\\bobwhite\\ravenSelectionTables\\20221106_060000.wav to c:\\Users\\jonat\\Documents\\bobwhite\\ravenSelectionTables\\20221106_060000.wav\n",
      "Renamed: c:\\Users\\jonat\\Documents\\bobwhite\\ravenSelectionTables\\20221108_060000.wav to c:\\Users\\jonat\\Documents\\bobwhite\\ravenSelectionTables\\20221108_060000.wav\n",
      "Renamed: c:\\Users\\jonat\\Documents\\bobwhite\\ravenSelectionTables\\20221109_060000.wav to c:\\Users\\jonat\\Documents\\bobwhite\\ravenSelectionTables\\20221109_060000.wav\n",
      "Renamed: c:\\Users\\jonat\\Documents\\bobwhite\\ravenSelectionTables\\20221111_060000.wav to c:\\Users\\jonat\\Documents\\bobwhite\\ravenSelectionTables\\20221111_060000.wav\n",
      "Renamed: c:\\Users\\jonat\\Documents\\bobwhite\\ravenSelectionTables\\20221113_060000.wav to c:\\Users\\jonat\\Documents\\bobwhite\\ravenSelectionTables\\20221113_060000.wav\n",
      "Renamed: c:\\Users\\jonat\\Documents\\bobwhite\\ravenSelectionTables\\20221114_060000.wav to c:\\Users\\jonat\\Documents\\bobwhite\\ravenSelectionTables\\20221114_060000.wav\n",
      "Renamed: c:\\Users\\jonat\\Documents\\bobwhite\\ravenSelectionTables\\20221116_060000.wav to c:\\Users\\jonat\\Documents\\bobwhite\\ravenSelectionTables\\20221116_060000.wav\n",
      "Renamed: c:\\Users\\jonat\\Documents\\bobwhite\\ravenSelectionTables\\20221118_060000.wav to c:\\Users\\jonat\\Documents\\bobwhite\\ravenSelectionTables\\20221118_060000.wav\n",
      "Renamed: c:\\Users\\jonat\\Documents\\bobwhite\\ravenSelectionTables\\20221119_060000.wav to c:\\Users\\jonat\\Documents\\bobwhite\\ravenSelectionTables\\20221119_060000.wav\n",
      "Renamed: c:\\Users\\jonat\\Documents\\bobwhite\\ravenSelectionTables\\20221123_060000.wav to c:\\Users\\jonat\\Documents\\bobwhite\\ravenSelectionTables\\20221123_060000.wav\n",
      "Renamed: c:\\Users\\jonat\\Documents\\bobwhite\\ravenSelectionTables\\20221124_060000.wav to c:\\Users\\jonat\\Documents\\bobwhite\\ravenSelectionTables\\20221124_060000.wav\n",
      "Renamed: c:\\Users\\jonat\\Documents\\bobwhite\\ravenSelectionTables\\20221128_060000.wav to c:\\Users\\jonat\\Documents\\bobwhite\\ravenSelectionTables\\20221128_060000.wav\n",
      "Renamed: c:\\Users\\jonat\\Documents\\bobwhite\\ravenSelectionTables\\20221129_060000.wav to c:\\Users\\jonat\\Documents\\bobwhite\\ravenSelectionTables\\20221129_060000.wav\n",
      "Renamed: c:\\Users\\jonat\\Documents\\bobwhite\\ravenSelectionTables\\20221203_060000.wav to c:\\Users\\jonat\\Documents\\bobwhite\\ravenSelectionTables\\20221203_060000.wav\n",
      "Renamed: c:\\Users\\jonat\\Documents\\bobwhite\\ravenSelectionTables\\20221204_060000.wav to c:\\Users\\jonat\\Documents\\bobwhite\\ravenSelectionTables\\20221204_060000.wav\n",
      "['c:\\\\Users\\\\jonat\\\\Documents\\\\bobwhite\\\\ravenSelectionTables\\\\20221022_060000.wav', 'c:\\\\Users\\\\jonat\\\\Documents\\\\bobwhite\\\\ravenSelectionTables\\\\20221024_060000.wav', 'c:\\\\Users\\\\jonat\\\\Documents\\\\bobwhite\\\\ravenSelectionTables\\\\20221025_060000.wav', 'c:\\\\Users\\\\jonat\\\\Documents\\\\bobwhite\\\\ravenSelectionTables\\\\20221027_060000.wav', 'c:\\\\Users\\\\jonat\\\\Documents\\\\bobwhite\\\\ravenSelectionTables\\\\20221029_060000.wav', 'c:\\\\Users\\\\jonat\\\\Documents\\\\bobwhite\\\\ravenSelectionTables\\\\20221101_060000.wav', 'c:\\\\Users\\\\jonat\\\\Documents\\\\bobwhite\\\\ravenSelectionTables\\\\20221103_060000.wav', 'c:\\\\Users\\\\jonat\\\\Documents\\\\bobwhite\\\\ravenSelectionTables\\\\20221104_060000.wav', 'c:\\\\Users\\\\jonat\\\\Documents\\\\bobwhite\\\\ravenSelectionTables\\\\20221106_060000.wav', 'c:\\\\Users\\\\jonat\\\\Documents\\\\bobwhite\\\\ravenSelectionTables\\\\20221108_060000.wav', 'c:\\\\Users\\\\jonat\\\\Documents\\\\bobwhite\\\\ravenSelectionTables\\\\20221109_060000.wav', 'c:\\\\Users\\\\jonat\\\\Documents\\\\bobwhite\\\\ravenSelectionTables\\\\20221111_060000.wav', 'c:\\\\Users\\\\jonat\\\\Documents\\\\bobwhite\\\\ravenSelectionTables\\\\20221113_060000.wav', 'c:\\\\Users\\\\jonat\\\\Documents\\\\bobwhite\\\\ravenSelectionTables\\\\20221114_060000.wav', 'c:\\\\Users\\\\jonat\\\\Documents\\\\bobwhite\\\\ravenSelectionTables\\\\20221116_060000.wav', 'c:\\\\Users\\\\jonat\\\\Documents\\\\bobwhite\\\\ravenSelectionTables\\\\20221118_060000.wav', 'c:\\\\Users\\\\jonat\\\\Documents\\\\bobwhite\\\\ravenSelectionTables\\\\20221119_060000.wav', 'c:\\\\Users\\\\jonat\\\\Documents\\\\bobwhite\\\\ravenSelectionTables\\\\20221123_060000.wav', 'c:\\\\Users\\\\jonat\\\\Documents\\\\bobwhite\\\\ravenSelectionTables\\\\20221124_060000.wav', 'c:\\\\Users\\\\jonat\\\\Documents\\\\bobwhite\\\\ravenSelectionTables\\\\20221128_060000.wav', 'c:\\\\Users\\\\jonat\\\\Documents\\\\bobwhite\\\\ravenSelectionTables\\\\20221129_060000.wav', 'c:\\\\Users\\\\jonat\\\\Documents\\\\bobwhite\\\\ravenSelectionTables\\\\20221203_060000.wav', 'c:\\\\Users\\\\jonat\\\\Documents\\\\bobwhite\\\\ravenSelectionTables\\\\20221204_060000.wav']\n"
     ]
    }
   ],
   "source": [
    "# create a list of audio files, one corresponding to each Raven file\n",
    "'''so this is going through the ravenSelectionTables folder and finidng the audio files. \n",
    "For now, we manually make sure the audio name is EXACT SAME as the txt file name.'''\n",
    "audio_files = glob(os.path.join(relative_folder_path, \"*.wav\"))\n",
    "\n",
    "# Regular expression pattern to extract the date and time part\n",
    "pattern = r\"(\\d{8}_\\d{6})\" #NOTE THIS MAY NOT WORK FOR ALL RECORDINGS IN OTHER FILES\n",
    "\n",
    "# Iterate through files and rename to include only the date and time part\n",
    "for old_file_path in audio_files:\n",
    "    old_file_name = os.path.basename(old_file_path)\n",
    "    \n",
    "    # Use regex to find the date and time part\n",
    "    match = re.search(pattern, old_file_name)\n",
    "    \n",
    "    if match:\n",
    "        new_file_name = match.group(1)\n",
    "        \n",
    "        # Construct the new file path\n",
    "        new_file_path = os.path.join(relative_folder_path, new_file_name + \".wav\")\n",
    "        \n",
    "        # Rename the file\n",
    "        os.rename(old_file_path, new_file_path)\n",
    "        print(f\"Renamed: {old_file_path} to {new_file_path}\")\n",
    "    else:\n",
    "        print(f\"No match found in filename: {old_file_name}\")\n",
    "\n",
    "# Optional: Print the updated list of files in ravenSelectionTables\n",
    "updated_audio_files = glob(os.path.join(relative_folder_path, \"*.wav\"))\n",
    "print(updated_audio_files)\n"
   ]
  },
  {
   "cell_type": "code",
   "execution_count": 64,
   "metadata": {},
   "outputs": [],
   "source": [
    "import os\n",
    "\n",
    "def find_matching_pairs(folder_path):\n",
    "    matching_pairs = []\n",
    "    missing_pairs = []\n",
    "    duplicate_files = []\n",
    "\n",
    "    all_files = [file for file in os.listdir(folder_path) if file.endswith((\".wav\", \".txt\"))]\n",
    "    wav_files = set(file for file in all_files if file.endswith(\".wav\"))\n",
    "    txt_files = set(file for file in all_files if file.endswith(\".txt\"))\n",
    "\n",
    "    # Check for matching pairs\n",
    "    for wav_file in wav_files:\n",
    "        txt_file = wav_file.replace(\".wav\", \".txt\")\n",
    "        if txt_file in txt_files:\n",
    "            matching_pairs.append((wav_file, txt_file))\n",
    "        else:\n",
    "            missing_pairs.append(wav_file)\n",
    "\n",
    "    for txt_file in txt_files:\n",
    "        wav_file = txt_file.replace(\".txt\", \".wav\")\n",
    "        if wav_file not in wav_files:\n",
    "            missing_pairs.append(txt_file)\n",
    "\n",
    "    # Check for duplicates\n",
    "    file_count = {}\n",
    "    for file in all_files:\n",
    "        if file in file_count:\n",
    "            file_count[file] += 1\n",
    "        else:\n",
    "            file_count[file] = 1\n",
    "\n",
    "    for file, count in file_count.items():\n",
    "        if count > 1:\n",
    "            duplicate_files.append(file)\n",
    "\n",
    "    # Print warnings\n",
    "    if missing_pairs:\n",
    "        print(\"Warning: Some files do not have corresponding pairs:\")\n",
    "        for file in missing_pairs:\n",
    "            print(file)\n",
    "\n",
    "    if duplicate_files:\n",
    "        print(\"Warning: Some files are duplicated:\")\n",
    "        for file in duplicate_files:\n",
    "            print(file)\n",
    "\n",
    "    return matching_pairs\n",
    "\n",
    "# Replace 'folder_path' with the path to your ravenSelectiontable folder\n",
    "folder_path = './ravenSelectionTables'\n",
    "matching_pairs = find_matching_pairs(folder_path)\n",
    "#for pair in matching_pairs:\n",
    "    #print(pair)\n"
   ]
  },
  {
   "cell_type": "markdown",
   "metadata": {},
   "source": [
    "It seems like the column \"annotations\" is a number, while at the end there is a column \"Annotations\" thats not supposed to be there"
   ]
  },
  {
   "cell_type": "code",
   "execution_count": 65,
   "metadata": {},
   "outputs": [
    {
     "data": {
      "text/html": [
       "<div>\n",
       "<style scoped>\n",
       "    .dataframe tbody tr th:only-of-type {\n",
       "        vertical-align: middle;\n",
       "    }\n",
       "\n",
       "    .dataframe tbody tr th {\n",
       "        vertical-align: top;\n",
       "    }\n",
       "\n",
       "    .dataframe thead th {\n",
       "        text-align: right;\n",
       "    }\n",
       "</style>\n",
       "<table border=\"1\" class=\"dataframe\">\n",
       "  <thead>\n",
       "    <tr style=\"text-align: right;\">\n",
       "      <th></th>\n",
       "      <th>audio_file</th>\n",
       "      <th>annotation_file</th>\n",
       "      <th>length</th>\n",
       "      <th>start_time</th>\n",
       "      <th>end_time</th>\n",
       "      <th>low_f</th>\n",
       "      <th>high_f</th>\n",
       "      <th>View</th>\n",
       "      <th>Delta Freq (Hz)</th>\n",
       "      <th>annotation</th>\n",
       "      <th>Avg Power Density (dB FS/Hz)</th>\n",
       "      <th>Channel</th>\n",
       "      <th>Selection</th>\n",
       "    </tr>\n",
       "  </thead>\n",
       "  <tbody>\n",
       "    <tr>\n",
       "      <th>0</th>\n",
       "      <td>c:\\Users\\jonat\\Documents\\bobwhite\\ravenSelecti...</td>\n",
       "      <td>c:\\Users\\jonat\\Documents\\bobwhite\\ravenSelecti...</td>\n",
       "      <td>0.4319</td>\n",
       "      <td>3.965968</td>\n",
       "      <td>4.397906</td>\n",
       "      <td>875.324</td>\n",
       "      <td>2379.786</td>\n",
       "      <td>Spectrogram 1</td>\n",
       "      <td>1504.462</td>\n",
       "      <td>NOBO?</td>\n",
       "      <td>-69.59</td>\n",
       "      <td>1</td>\n",
       "      <td>1</td>\n",
       "    </tr>\n",
       "    <tr>\n",
       "      <th>1</th>\n",
       "      <td>c:\\Users\\jonat\\Documents\\bobwhite\\ravenSelecti...</td>\n",
       "      <td>c:\\Users\\jonat\\Documents\\bobwhite\\ravenSelecti...</td>\n",
       "      <td>0.3829</td>\n",
       "      <td>6.253273</td>\n",
       "      <td>6.636125</td>\n",
       "      <td>711.201</td>\n",
       "      <td>2407.140</td>\n",
       "      <td>Spectrogram 1</td>\n",
       "      <td>1695.939</td>\n",
       "      <td>NOBO?</td>\n",
       "      <td>-69.65</td>\n",
       "      <td>1</td>\n",
       "      <td>2</td>\n",
       "    </tr>\n",
       "    <tr>\n",
       "      <th>2</th>\n",
       "      <td>c:\\Users\\jonat\\Documents\\bobwhite\\ravenSelecti...</td>\n",
       "      <td>c:\\Users\\jonat\\Documents\\bobwhite\\ravenSelecti...</td>\n",
       "      <td>0.4319</td>\n",
       "      <td>7.794502</td>\n",
       "      <td>8.226439</td>\n",
       "      <td>711.201</td>\n",
       "      <td>2407.140</td>\n",
       "      <td>Spectrogram 1</td>\n",
       "      <td>1695.939</td>\n",
       "      <td>NOBO?</td>\n",
       "      <td>-71.17</td>\n",
       "      <td>1</td>\n",
       "      <td>3</td>\n",
       "    </tr>\n",
       "    <tr>\n",
       "      <th>3</th>\n",
       "      <td>c:\\Users\\jonat\\Documents\\bobwhite\\ravenSelecti...</td>\n",
       "      <td>c:\\Users\\jonat\\Documents\\bobwhite\\ravenSelecti...</td>\n",
       "      <td>0.4319</td>\n",
       "      <td>9.090314</td>\n",
       "      <td>9.522251</td>\n",
       "      <td>656.493</td>\n",
       "      <td>2434.494</td>\n",
       "      <td>Spectrogram 1</td>\n",
       "      <td>1778.001</td>\n",
       "      <td>NOBO?</td>\n",
       "      <td>-69.66</td>\n",
       "      <td>1</td>\n",
       "      <td>4</td>\n",
       "    </tr>\n",
       "    <tr>\n",
       "      <th>4</th>\n",
       "      <td>c:\\Users\\jonat\\Documents\\bobwhite\\ravenSelecti...</td>\n",
       "      <td>c:\\Users\\jonat\\Documents\\bobwhite\\ravenSelecti...</td>\n",
       "      <td>0.3534</td>\n",
       "      <td>173.404513</td>\n",
       "      <td>173.757917</td>\n",
       "      <td>1340.340</td>\n",
       "      <td>2434.494</td>\n",
       "      <td>Spectrogram 1</td>\n",
       "      <td>1094.154</td>\n",
       "      <td>NOBO?</td>\n",
       "      <td>-75.79</td>\n",
       "      <td>1</td>\n",
       "      <td>5</td>\n",
       "    </tr>\n",
       "    <tr>\n",
       "      <th>5</th>\n",
       "      <td>c:\\Users\\jonat\\Documents\\bobwhite\\ravenSelecti...</td>\n",
       "      <td>c:\\Users\\jonat\\Documents\\bobwhite\\ravenSelecti...</td>\n",
       "      <td>0.5497</td>\n",
       "      <td>203.125508</td>\n",
       "      <td>203.675246</td>\n",
       "      <td>1312.986</td>\n",
       "      <td>2325.079</td>\n",
       "      <td>Spectrogram 1</td>\n",
       "      <td>1012.093</td>\n",
       "      <td>NOBO?</td>\n",
       "      <td>-75.56</td>\n",
       "      <td>1</td>\n",
       "      <td>6</td>\n",
       "    </tr>\n",
       "    <tr>\n",
       "      <th>6</th>\n",
       "      <td>c:\\Users\\jonat\\Documents\\bobwhite\\ravenSelecti...</td>\n",
       "      <td>c:\\Users\\jonat\\Documents\\bobwhite\\ravenSelecti...</td>\n",
       "      <td>0.9762</td>\n",
       "      <td>228.023939</td>\n",
       "      <td>229.000169</td>\n",
       "      <td>1340.340</td>\n",
       "      <td>2543.910</td>\n",
       "      <td>Spectrogram 1</td>\n",
       "      <td>1203.570</td>\n",
       "      <td>NOBO?</td>\n",
       "      <td>-76.43</td>\n",
       "      <td>1</td>\n",
       "      <td>7</td>\n",
       "    </tr>\n",
       "    <tr>\n",
       "      <th>7</th>\n",
       "      <td>c:\\Users\\jonat\\Documents\\bobwhite\\ravenSelecti...</td>\n",
       "      <td>c:\\Users\\jonat\\Documents\\bobwhite\\ravenSelecti...</td>\n",
       "      <td>1.0652</td>\n",
       "      <td>238.451164</td>\n",
       "      <td>239.516400</td>\n",
       "      <td>957.385</td>\n",
       "      <td>2352.433</td>\n",
       "      <td>Spectrogram 1</td>\n",
       "      <td>1395.048</td>\n",
       "      <td>NOBO?</td>\n",
       "      <td>-73.78</td>\n",
       "      <td>1</td>\n",
       "      <td>8</td>\n",
       "    </tr>\n",
       "    <tr>\n",
       "      <th>8</th>\n",
       "      <td>c:\\Users\\jonat\\Documents\\bobwhite\\ravenSelecti...</td>\n",
       "      <td>c:\\Users\\jonat\\Documents\\bobwhite\\ravenSelecti...</td>\n",
       "      <td>0.9087</td>\n",
       "      <td>381.698337</td>\n",
       "      <td>382.607028</td>\n",
       "      <td>1121.509</td>\n",
       "      <td>2243.017</td>\n",
       "      <td>Spectrogram 1</td>\n",
       "      <td>1121.508</td>\n",
       "      <td>NOBO?</td>\n",
       "      <td>-69.67</td>\n",
       "      <td>1</td>\n",
       "      <td>9</td>\n",
       "    </tr>\n",
       "    <tr>\n",
       "      <th>9</th>\n",
       "      <td>c:\\Users\\jonat\\Documents\\bobwhite\\ravenSelecti...</td>\n",
       "      <td>c:\\Users\\jonat\\Documents\\bobwhite\\ravenSelecti...</td>\n",
       "      <td>1.0671</td>\n",
       "      <td>389.420798</td>\n",
       "      <td>390.487866</td>\n",
       "      <td>1340.340</td>\n",
       "      <td>2379.786</td>\n",
       "      <td>Spectrogram 1</td>\n",
       "      <td>1039.446</td>\n",
       "      <td>NOBO?</td>\n",
       "      <td>-74.70</td>\n",
       "      <td>1</td>\n",
       "      <td>10</td>\n",
       "    </tr>\n",
       "  </tbody>\n",
       "</table>\n",
       "</div>"
      ],
      "text/plain": [
       "                                          audio_file  \\\n",
       "0  c:\\Users\\jonat\\Documents\\bobwhite\\ravenSelecti...   \n",
       "1  c:\\Users\\jonat\\Documents\\bobwhite\\ravenSelecti...   \n",
       "2  c:\\Users\\jonat\\Documents\\bobwhite\\ravenSelecti...   \n",
       "3  c:\\Users\\jonat\\Documents\\bobwhite\\ravenSelecti...   \n",
       "4  c:\\Users\\jonat\\Documents\\bobwhite\\ravenSelecti...   \n",
       "5  c:\\Users\\jonat\\Documents\\bobwhite\\ravenSelecti...   \n",
       "6  c:\\Users\\jonat\\Documents\\bobwhite\\ravenSelecti...   \n",
       "7  c:\\Users\\jonat\\Documents\\bobwhite\\ravenSelecti...   \n",
       "8  c:\\Users\\jonat\\Documents\\bobwhite\\ravenSelecti...   \n",
       "9  c:\\Users\\jonat\\Documents\\bobwhite\\ravenSelecti...   \n",
       "\n",
       "                                     annotation_file  length  start_time  \\\n",
       "0  c:\\Users\\jonat\\Documents\\bobwhite\\ravenSelecti...  0.4319    3.965968   \n",
       "1  c:\\Users\\jonat\\Documents\\bobwhite\\ravenSelecti...  0.3829    6.253273   \n",
       "2  c:\\Users\\jonat\\Documents\\bobwhite\\ravenSelecti...  0.4319    7.794502   \n",
       "3  c:\\Users\\jonat\\Documents\\bobwhite\\ravenSelecti...  0.4319    9.090314   \n",
       "4  c:\\Users\\jonat\\Documents\\bobwhite\\ravenSelecti...  0.3534  173.404513   \n",
       "5  c:\\Users\\jonat\\Documents\\bobwhite\\ravenSelecti...  0.5497  203.125508   \n",
       "6  c:\\Users\\jonat\\Documents\\bobwhite\\ravenSelecti...  0.9762  228.023939   \n",
       "7  c:\\Users\\jonat\\Documents\\bobwhite\\ravenSelecti...  1.0652  238.451164   \n",
       "8  c:\\Users\\jonat\\Documents\\bobwhite\\ravenSelecti...  0.9087  381.698337   \n",
       "9  c:\\Users\\jonat\\Documents\\bobwhite\\ravenSelecti...  1.0671  389.420798   \n",
       "\n",
       "     end_time     low_f    high_f           View  Delta Freq (Hz) annotation  \\\n",
       "0    4.397906   875.324  2379.786  Spectrogram 1         1504.462      NOBO?   \n",
       "1    6.636125   711.201  2407.140  Spectrogram 1         1695.939      NOBO?   \n",
       "2    8.226439   711.201  2407.140  Spectrogram 1         1695.939      NOBO?   \n",
       "3    9.522251   656.493  2434.494  Spectrogram 1         1778.001      NOBO?   \n",
       "4  173.757917  1340.340  2434.494  Spectrogram 1         1094.154      NOBO?   \n",
       "5  203.675246  1312.986  2325.079  Spectrogram 1         1012.093      NOBO?   \n",
       "6  229.000169  1340.340  2543.910  Spectrogram 1         1203.570      NOBO?   \n",
       "7  239.516400   957.385  2352.433  Spectrogram 1         1395.048      NOBO?   \n",
       "8  382.607028  1121.509  2243.017  Spectrogram 1         1121.508      NOBO?   \n",
       "9  390.487866  1340.340  2379.786  Spectrogram 1         1039.446      NOBO?   \n",
       "\n",
       "   Avg Power Density (dB FS/Hz) Channel Selection  \n",
       "0                        -69.59       1         1  \n",
       "1                        -69.65       1         2  \n",
       "2                        -71.17       1         3  \n",
       "3                        -69.66       1         4  \n",
       "4                        -75.79       1         5  \n",
       "5                        -75.56       1         6  \n",
       "6                        -76.43       1         7  \n",
       "7                        -73.78       1         8  \n",
       "8                        -69.67       1         9  \n",
       "9                        -74.70       1        10  "
      ]
     },
     "execution_count": 65,
     "metadata": {},
     "output_type": "execute_result"
    }
   ],
   "source": [
    "from opensoundscape import BoxedAnnotations\n",
    "\n",
    "all_annotations = BoxedAnnotations.from_raven_files(\n",
    "    updated_selections,audio_files)\n",
    "\n",
    "#RENAME DUPLICATE ANNOTATION TEST\n",
    "all_annotations.df.rename(columns={'annotation': 'length'}, inplace=True)\n",
    "all_annotations.df.rename(columns={'Annotation': 'annotation'}, inplace=True)\n",
    "\n",
    "all_annotations.df.head(10)\n",
    "\n",
    "\n"
   ]
  },
  {
   "cell_type": "code",
   "execution_count": 66,
   "metadata": {},
   "outputs": [
    {
     "data": {
      "text/plain": [
       "annotation\n",
       "NOBO     630\n",
       "NOBOF    120\n",
       "NOBO?     21\n",
       "NOOB       1\n",
       "Name: count, dtype: int64"
      ]
     },
     "execution_count": 66,
     "metadata": {},
     "output_type": "execute_result"
    }
   ],
   "source": [
    "all_annotations.df.annotation.value_counts() "
   ]
  },
  {
   "cell_type": "code",
   "execution_count": 67,
   "metadata": {},
   "outputs": [],
   "source": [
    "#keep only annotations that say \"NOBO\"\n",
    "class_list = ['NOBO']"
   ]
  },
  {
   "cell_type": "markdown",
   "metadata": {},
   "source": [
    "Now time for one hot encoding for the model\n"
   ]
  },
  {
   "cell_type": "code",
   "execution_count": 68,
   "metadata": {},
   "outputs": [
    {
     "data": {
      "text/html": [
       "<div>\n",
       "<style scoped>\n",
       "    .dataframe tbody tr th:only-of-type {\n",
       "        vertical-align: middle;\n",
       "    }\n",
       "\n",
       "    .dataframe tbody tr th {\n",
       "        vertical-align: top;\n",
       "    }\n",
       "\n",
       "    .dataframe thead th {\n",
       "        text-align: right;\n",
       "    }\n",
       "</style>\n",
       "<table border=\"1\" class=\"dataframe\">\n",
       "  <thead>\n",
       "    <tr style=\"text-align: right;\">\n",
       "      <th></th>\n",
       "      <th></th>\n",
       "      <th></th>\n",
       "      <th>NOBO</th>\n",
       "    </tr>\n",
       "    <tr>\n",
       "      <th>file</th>\n",
       "      <th>start_time</th>\n",
       "      <th>end_time</th>\n",
       "      <th></th>\n",
       "    </tr>\n",
       "  </thead>\n",
       "  <tbody>\n",
       "    <tr>\n",
       "      <th rowspan=\"5\" valign=\"top\">c:\\Users\\jonat\\Documents\\bobwhite\\ravenSelectionTables\\20221129_060000.wav</th>\n",
       "      <th>0.0</th>\n",
       "      <th>1.0</th>\n",
       "      <td>0.0</td>\n",
       "    </tr>\n",
       "    <tr>\n",
       "      <th>0.5</th>\n",
       "      <th>1.5</th>\n",
       "      <td>0.0</td>\n",
       "    </tr>\n",
       "    <tr>\n",
       "      <th>1.0</th>\n",
       "      <th>2.0</th>\n",
       "      <td>0.0</td>\n",
       "    </tr>\n",
       "    <tr>\n",
       "      <th>1.5</th>\n",
       "      <th>2.5</th>\n",
       "      <td>0.0</td>\n",
       "    </tr>\n",
       "    <tr>\n",
       "      <th>2.0</th>\n",
       "      <th>3.0</th>\n",
       "      <td>0.0</td>\n",
       "    </tr>\n",
       "  </tbody>\n",
       "</table>\n",
       "</div>"
      ],
      "text/plain": [
       "                                                                        NOBO\n",
       "file                                               start_time end_time      \n",
       "c:\\Users\\jonat\\Documents\\bobwhite\\ravenSelectio... 0.0        1.0        0.0\n",
       "                                                   0.5        1.5        0.0\n",
       "                                                   1.0        2.0        0.0\n",
       "                                                   1.5        2.5        0.0\n",
       "                                                   2.0        3.0        0.0"
      ]
     },
     "execution_count": 68,
     "metadata": {},
     "output_type": "execute_result"
    }
   ],
   "source": [
    "# create labels for fixed-duration (2 second) clips \n",
    "\n",
    "'''since we aren't in the ravenselectiontable directory since the beginning, \n",
    "I ASSUME that i need to reference the audio file path manually under audio_files parameter'''\n",
    "\n",
    "audio_location = glob(os.path.join(relative_folder_path, \"*.wav\"))\n",
    "\n",
    "#print(audio_location)\n",
    "\n",
    "#change labels\n",
    "labels = all_annotations.one_hot_clip_labels(\n",
    "  clip_duration=1,\n",
    "  clip_overlap=0.5,\n",
    "  min_label_overlap=0.1,\n",
    "  class_subset=class_list, #maybe we can add NOBO?\n",
    "  audio_files= audio_location\n",
    ")\n",
    "\n",
    "# Set the option to display all rows\n",
    "pd.set_option('display.max_rows', None)\n",
    "\n",
    "labels.head()\n",
    "\n"
   ]
  },
  {
   "cell_type": "markdown",
   "metadata": {},
   "source": [
    "Training the model"
   ]
  },
  {
   "cell_type": "code",
   "execution_count": 69,
   "metadata": {},
   "outputs": [
    {
     "name": "stdout",
     "output_type": "stream",
     "text": [
      "\n",
      "Training Epoch 0\n"
     ]
    },
    {
     "data": {
      "application/vnd.jupyter.widget-view+json": {
       "model_id": "4783f513606e41b7bbbf1f8710976018",
       "version_major": 2,
       "version_minor": 0
      },
      "text/plain": [
       "  0%|          | 0/675 [00:00<?, ?it/s]"
      ]
     },
     "metadata": {},
     "output_type": "display_data"
    },
    {
     "name": "stdout",
     "output_type": "stream",
     "text": [
      "Epoch: 0 [batch 0/675, 0.00%] \n",
      "\tDistLoss: 0.850\n",
      "Metrics:\n",
      "Metrics:\n",
      "\tMAP: 0.221\n",
      "\n",
      "Validation.\n"
     ]
    },
    {
     "data": {
      "application/vnd.jupyter.widget-view+json": {
       "model_id": "a46d61374e254400a16d5e1eb73e5b3e",
       "version_major": 2,
       "version_minor": 0
      },
      "text/plain": [
       "  0%|          | 0/188 [00:00<?, ?it/s]"
      ]
     },
     "metadata": {},
     "output_type": "display_data"
    },
    {
     "name": "stdout",
     "output_type": "stream",
     "text": [
      "Metrics:\n",
      "\tMAP: 0.369\n",
      "\n",
      "Training Epoch 1\n"
     ]
    },
    {
     "data": {
      "application/vnd.jupyter.widget-view+json": {
       "model_id": "5f28b3de0ed844eb963741af7ece5d54",
       "version_major": 2,
       "version_minor": 0
      },
      "text/plain": [
       "  0%|          | 0/675 [00:00<?, ?it/s]"
      ]
     },
     "metadata": {},
     "output_type": "display_data"
    },
    {
     "name": "stdout",
     "output_type": "stream",
     "text": [
      "Epoch: 1 [batch 0/675, 0.00%] \n",
      "\tDistLoss: 0.053\n",
      "Metrics:\n",
      "Metrics:\n",
      "\tMAP: 0.441\n",
      "\n",
      "Validation.\n"
     ]
    },
    {
     "data": {
      "application/vnd.jupyter.widget-view+json": {
       "model_id": "bbbcb1d91f02462895a51ed27919a700",
       "version_major": 2,
       "version_minor": 0
      },
      "text/plain": [
       "  0%|          | 0/188 [00:00<?, ?it/s]"
      ]
     },
     "metadata": {},
     "output_type": "display_data"
    },
    {
     "name": "stdout",
     "output_type": "stream",
     "text": [
      "Metrics:\n",
      "\tMAP: 0.484\n",
      "\n",
      "Training Epoch 2\n"
     ]
    },
    {
     "data": {
      "application/vnd.jupyter.widget-view+json": {
       "model_id": "e4a357e6b8884b92bc5ddfeba541f496",
       "version_major": 2,
       "version_minor": 0
      },
      "text/plain": [
       "  0%|          | 0/675 [00:00<?, ?it/s]"
      ]
     },
     "metadata": {},
     "output_type": "display_data"
    },
    {
     "name": "stdout",
     "output_type": "stream",
     "text": [
      "Epoch: 2 [batch 0/675, 0.00%] \n",
      "\tDistLoss: 0.112\n",
      "Metrics:\n",
      "Metrics:\n",
      "\tMAP: 0.497\n",
      "\n",
      "Validation.\n"
     ]
    },
    {
     "data": {
      "application/vnd.jupyter.widget-view+json": {
       "model_id": "14358ed8e0dd4f27ae603775b202099e",
       "version_major": 2,
       "version_minor": 0
      },
      "text/plain": [
       "  0%|          | 0/188 [00:00<?, ?it/s]"
      ]
     },
     "metadata": {},
     "output_type": "display_data"
    },
    {
     "name": "stdout",
     "output_type": "stream",
     "text": [
      "Metrics:\n",
      "\tMAP: 0.542\n",
      "\n",
      "Training Epoch 3\n"
     ]
    },
    {
     "data": {
      "application/vnd.jupyter.widget-view+json": {
       "model_id": "5d582e130ddb4e5cab002324e88a75dc",
       "version_major": 2,
       "version_minor": 0
      },
      "text/plain": [
       "  0%|          | 0/675 [00:00<?, ?it/s]"
      ]
     },
     "metadata": {},
     "output_type": "display_data"
    },
    {
     "name": "stdout",
     "output_type": "stream",
     "text": [
      "Epoch: 3 [batch 0/675, 0.00%] \n",
      "\tDistLoss: 0.047\n",
      "Metrics:\n",
      "Metrics:\n",
      "\tMAP: 0.537\n",
      "\n",
      "Validation.\n"
     ]
    },
    {
     "data": {
      "application/vnd.jupyter.widget-view+json": {
       "model_id": "b52d15d568bb48c598c8a6cf8ca9fa11",
       "version_major": 2,
       "version_minor": 0
      },
      "text/plain": [
       "  0%|          | 0/188 [00:00<?, ?it/s]"
      ]
     },
     "metadata": {},
     "output_type": "display_data"
    },
    {
     "name": "stdout",
     "output_type": "stream",
     "text": [
      "Metrics:\n",
      "\tMAP: 0.685\n",
      "\n",
      "Training Epoch 4\n"
     ]
    },
    {
     "data": {
      "application/vnd.jupyter.widget-view+json": {
       "model_id": "03ca9ed67800433a8338db1ea5063511",
       "version_major": 2,
       "version_minor": 0
      },
      "text/plain": [
       "  0%|          | 0/675 [00:00<?, ?it/s]"
      ]
     },
     "metadata": {},
     "output_type": "display_data"
    },
    {
     "name": "stdout",
     "output_type": "stream",
     "text": [
      "Epoch: 4 [batch 0/675, 0.00%] \n",
      "\tDistLoss: 0.005\n",
      "Metrics:\n",
      "Metrics:\n",
      "\tMAP: 0.567\n",
      "\n",
      "Validation.\n"
     ]
    },
    {
     "data": {
      "application/vnd.jupyter.widget-view+json": {
       "model_id": "dee3f2f60e184c3295baae9cd109d249",
       "version_major": 2,
       "version_minor": 0
      },
      "text/plain": [
       "  0%|          | 0/188 [00:00<?, ?it/s]"
      ]
     },
     "metadata": {},
     "output_type": "display_data"
    },
    {
     "name": "stdout",
     "output_type": "stream",
     "text": [
      "Metrics:\n",
      "\tMAP: 0.740\n",
      "\n",
      "Training Epoch 5\n"
     ]
    },
    {
     "data": {
      "application/vnd.jupyter.widget-view+json": {
       "model_id": "04d38fd3549147be8a6264a6836b0397",
       "version_major": 2,
       "version_minor": 0
      },
      "text/plain": [
       "  0%|          | 0/675 [00:00<?, ?it/s]"
      ]
     },
     "metadata": {},
     "output_type": "display_data"
    },
    {
     "name": "stdout",
     "output_type": "stream",
     "text": [
      "Epoch: 5 [batch 0/675, 0.00%] \n",
      "\tDistLoss: 0.079\n",
      "Metrics:\n",
      "Metrics:\n",
      "\tMAP: 0.585\n",
      "\n",
      "Validation.\n"
     ]
    },
    {
     "data": {
      "application/vnd.jupyter.widget-view+json": {
       "model_id": "a857526716774f088b1d2ab541857a08",
       "version_major": 2,
       "version_minor": 0
      },
      "text/plain": [
       "  0%|          | 0/188 [00:00<?, ?it/s]"
      ]
     },
     "metadata": {},
     "output_type": "display_data"
    },
    {
     "name": "stdout",
     "output_type": "stream",
     "text": [
      "Metrics:\n",
      "\tMAP: 0.685\n",
      "\n",
      "Training Epoch 6\n"
     ]
    },
    {
     "data": {
      "application/vnd.jupyter.widget-view+json": {
       "model_id": "0a290d17fd2345df864bd6c713a20e98",
       "version_major": 2,
       "version_minor": 0
      },
      "text/plain": [
       "  0%|          | 0/675 [00:00<?, ?it/s]"
      ]
     },
     "metadata": {},
     "output_type": "display_data"
    },
    {
     "name": "stdout",
     "output_type": "stream",
     "text": [
      "Epoch: 6 [batch 0/675, 0.00%] \n",
      "\tDistLoss: 0.006\n",
      "Metrics:\n",
      "Metrics:\n",
      "\tMAP: 0.635\n",
      "\n",
      "Validation.\n"
     ]
    },
    {
     "data": {
      "application/vnd.jupyter.widget-view+json": {
       "model_id": "65b061c45c974995bfeb93bca24d93f2",
       "version_major": 2,
       "version_minor": 0
      },
      "text/plain": [
       "  0%|          | 0/188 [00:00<?, ?it/s]"
      ]
     },
     "metadata": {},
     "output_type": "display_data"
    },
    {
     "name": "stdout",
     "output_type": "stream",
     "text": [
      "Metrics:\n",
      "\tMAP: 0.776\n",
      "\n",
      "Training Epoch 7\n"
     ]
    },
    {
     "data": {
      "application/vnd.jupyter.widget-view+json": {
       "model_id": "d488c5a2266544fcb687944083a74e33",
       "version_major": 2,
       "version_minor": 0
      },
      "text/plain": [
       "  0%|          | 0/675 [00:00<?, ?it/s]"
      ]
     },
     "metadata": {},
     "output_type": "display_data"
    },
    {
     "name": "stdout",
     "output_type": "stream",
     "text": [
      "Epoch: 7 [batch 0/675, 0.00%] \n",
      "\tDistLoss: 0.011\n",
      "Metrics:\n",
      "Metrics:\n",
      "\tMAP: 0.650\n",
      "\n",
      "Validation.\n"
     ]
    },
    {
     "data": {
      "application/vnd.jupyter.widget-view+json": {
       "model_id": "216be9ef1bb8408a8290f43a8b237995",
       "version_major": 2,
       "version_minor": 0
      },
      "text/plain": [
       "  0%|          | 0/188 [00:00<?, ?it/s]"
      ]
     },
     "metadata": {},
     "output_type": "display_data"
    },
    {
     "name": "stdout",
     "output_type": "stream",
     "text": [
      "Metrics:\n",
      "\tMAP: 0.533\n",
      "\n",
      "Training Epoch 8\n"
     ]
    },
    {
     "data": {
      "application/vnd.jupyter.widget-view+json": {
       "model_id": "dee288ba837341d194ff92112ea2af91",
       "version_major": 2,
       "version_minor": 0
      },
      "text/plain": [
       "  0%|          | 0/675 [00:00<?, ?it/s]"
      ]
     },
     "metadata": {},
     "output_type": "display_data"
    },
    {
     "name": "stdout",
     "output_type": "stream",
     "text": [
      "Epoch: 8 [batch 0/675, 0.00%] \n",
      "\tDistLoss: 0.022\n",
      "Metrics:\n",
      "Metrics:\n",
      "\tMAP: 0.663\n",
      "\n",
      "Validation.\n"
     ]
    },
    {
     "data": {
      "application/vnd.jupyter.widget-view+json": {
       "model_id": "fb8ff58f1cfb4c00a9db191abb24a8f8",
       "version_major": 2,
       "version_minor": 0
      },
      "text/plain": [
       "  0%|          | 0/188 [00:00<?, ?it/s]"
      ]
     },
     "metadata": {},
     "output_type": "display_data"
    },
    {
     "name": "stdout",
     "output_type": "stream",
     "text": [
      "Metrics:\n",
      "\tMAP: 0.679\n",
      "\n",
      "Training Epoch 9\n"
     ]
    },
    {
     "data": {
      "application/vnd.jupyter.widget-view+json": {
       "model_id": "34432cff4caf40ff8b570fffcea2e68d",
       "version_major": 2,
       "version_minor": 0
      },
      "text/plain": [
       "  0%|          | 0/675 [00:00<?, ?it/s]"
      ]
     },
     "metadata": {},
     "output_type": "display_data"
    },
    {
     "name": "stdout",
     "output_type": "stream",
     "text": [
      "Epoch: 9 [batch 0/675, 0.00%] \n",
      "\tDistLoss: 0.010\n",
      "Metrics:\n",
      "Metrics:\n",
      "\tMAP: 0.666\n",
      "\n",
      "Validation.\n"
     ]
    },
    {
     "data": {
      "application/vnd.jupyter.widget-view+json": {
       "model_id": "dbb7a23afdb74b78b6d32b3247860387",
       "version_major": 2,
       "version_minor": 0
      },
      "text/plain": [
       "  0%|          | 0/188 [00:00<?, ?it/s]"
      ]
     },
     "metadata": {},
     "output_type": "display_data"
    },
    {
     "name": "stdout",
     "output_type": "stream",
     "text": [
      "Metrics:\n",
      "\tMAP: 0.395\n",
      "\n",
      "Best Model Appears at Epoch 6 with Validation score 0.776.\n"
     ]
    }
   ],
   "source": [
    "from sklearn.model_selection import train_test_split\n",
    "from opensoundscape import CNN\n",
    "from opensoundscape.ml.cnn import load_model\n",
    "\n",
    "import shutup; shutup.please()\n",
    "\n",
    "#train_df, validation_df = train_test_split(labels, test_size=0.2, random_state=1) #old\n",
    "\n",
    "# Reset the index to convert \"file\" index into a column\n",
    "labels_reset_index = labels.reset_index()\n",
    "\n",
    "# Split the DataFrame based on unique values in the 'file' column\n",
    "train_files, test_files = train_test_split(labels_reset_index['file'].unique(), test_size=0.2, random_state=1)\n",
    "\n",
    "# Filter the labels DataFrame based on the split file names\n",
    "train_df = labels_reset_index[labels_reset_index['file'].isin(train_files)]\n",
    "test_df = labels_reset_index[labels_reset_index['file'].isin(test_files)]\n",
    "\n",
    "# Set \"file\" column as the index again\n",
    "train_df = train_df.set_index(['file', 'start_time', 'end_time'])\n",
    "test_df = test_df.set_index(['file', 'start_time', 'end_time'])\n",
    "\n",
    "# just make two different csv of train and validation\n",
    "# Define constants\n",
    "SAMPLE_DURATION = 1.0 #what is this; has to be same as clip duration, so 1\n",
    "NUM_EPOCHS = 10\n",
    "BATCH_SIZE = 32 #too SLOW, maybe 256, \n",
    "SAVE_INTERVAL = 1000\n",
    "\n",
    "# Specify paths\n",
    "model_path = './bird_training/bobwhite/best.model'\n",
    "save_path = './bird_training/bobwhite'\n",
    "\n",
    "if os.path.exists(model_path):\n",
    "    model = load_model(model_path)\n",
    "else:\n",
    "    model = CNN('resnet18', classes=class_list, sample_duration=SAMPLE_DURATION)\n",
    "\n",
    "    model.train(\n",
    "        train_df=train_df,\n",
    "        validation_df=test_df,\n",
    "        save_path=save_path,\n",
    "        epochs=NUM_EPOCHS,\n",
    "        batch_size=BATCH_SIZE,\n",
    "        save_interval=SAVE_INTERVAL,\n",
    "        log_interval=720,\n",
    "        num_workers=4, #specify 4 if you have 4 CPU processes, eg; 0 means only the root process i have 8\n",
    "    )\n",
    "\n",
    "    model.save(model_path)\n",
    "    model = load_model(model_path)"
   ]
  },
  {
   "cell_type": "markdown",
   "metadata": {},
   "source": [
    "After training"
   ]
  },
  {
   "cell_type": "code",
   "execution_count": 70,
   "metadata": {},
   "outputs": [
    {
     "name": "stdout",
     "output_type": "stream",
     "text": [
      "[[], ['./analysis_recording/2022GrasslandFall\\\\Chino\\\\009 (field 2)\\\\20221021_060000.WAV'], []]\n"
     ]
    }
   ],
   "source": [
    "from glob import glob\n",
    "\n",
    "# Search for .wav and .WAV files in all subdirectories of the directory\n",
    "forest_recordings = glob('./analysis_recording/2022Forest/**/*.[wW][aA][vV]', recursive=True)\n",
    "grasslandfall_recordings = glob('./analysis_recording/2022GrasslandFall/**/*.[wW][aA][vV]', recursive=True)\n",
    "grasslandsummer_recordings = glob('./analysis_recording/2022GrasslandSummer/**/*.[wW][aA][vV]', recursive=True)\n",
    "\n",
    "everything_list = [forest_recordings, grasslandfall_recordings, grasslandsummer_recordings]\n",
    "\n",
    "#maybe add code here that says if file name is in csv_output, remove from this list\n",
    "# Path to the csv_output folder\n",
    "csv_output_folder = './csv_output'\n",
    "\n",
    "# Iterate over files in the csv_output folder\n",
    "for file in os.listdir(csv_output_folder):\n",
    "    # Read the CSV file\n",
    "    csv_file_path = os.path.join(csv_output_folder, file)\n",
    "    df = pd.read_csv(csv_file_path)\n",
    "    # Get the filenames from the \"file\" column\n",
    "    filenames = df.iloc[:, 0].tolist()\n",
    "    # Iterate over each list in everything_list\n",
    "    for recording_list in everything_list:\n",
    "        # Check if any filename matches a value in the \"file\" column\n",
    "        for filename in filenames:\n",
    "            if filename in recording_list:\n",
    "                # Remove the filename from the list\n",
    "                recording_list.remove(filename)\n",
    "\n",
    "print(everything_list)"
   ]
  },
  {
   "cell_type": "code",
   "execution_count": 71,
   "metadata": {},
   "outputs": [],
   "source": [
    "'''def predict(file,name):\n",
    "    prediction_scores_df = model.predict(file, activation_layer='sigmoid')\n",
    "\n",
    "    # Add a new column 'Presence' based on the value \n",
    "    #prediction_scores_df['Presence'] = ['Present' if float(score) > 0.99 else '' for score in prediction_scores_df['NOBO']]\n",
    "\n",
    "    prediction_scores_df.to_csv(name)\n",
    "    \n",
    "    # Read the CSV file into a pandas DataFrame\n",
    "    df = pd.read_csv(name)\n",
    "    \n",
    "    # Convert the seconds column to a \"minute:second\" format\n",
    "    df['start_time'] = pd.to_datetime(df['start_time'], unit='s').apply(lambda x: x.strftime('%H:%M:%S'))\n",
    "    df['end_time'] = pd.to_datetime(df['end_time'], unit='s').apply(lambda x: x.strftime('%H:%M:%S'))\n",
    "\n",
    "    # Save the updated DataFrame to the same CSV file\n",
    "    df.to_csv(name, index=False)'''"
   ]
  },
  {
   "cell_type": "code",
   "execution_count": 81,
   "metadata": {},
   "outputs": [],
   "source": [
    "def predict(file, name):\n",
    "    prediction_scores_df = model.predict(file, activation_layer='sigmoid')\n",
    "    \n",
    "    # Convert the seconds column to a \"hour:minute:second\" format\n",
    "    prediction_scores_df['start_time'] = pd.to_datetime(prediction_scores_df['start_time'], unit='s').apply(lambda x: x.strftime('%H:%M:%S'))\n",
    "    prediction_scores_df['end_time'] = pd.to_datetime(prediction_scores_df['end_time'], unit='s').apply(lambda x: x.strftime('%H:%M:%S'))\n",
    "\n",
    "    # Save the DataFrame to a CSV file\n",
    "    prediction_scores_df.to_csv(name, index=False)\n",
    "\n",
    "\n",
    "def add_presence_column(file_name):\n",
    "    # Read the CSV file into a pandas DataFrame\n",
    "    df = pd.read_csv(file_name)\n",
    "\n",
    "    # Add a new column 'Presence' based on the value of 'NOBO' column\n",
    "    df['Presence'] = ['Present' if float(score) > 0.8 else '' for score in df['NOBO']]\n",
    "\n",
    "    # Save the updated DataFrame to the same CSV file\n",
    "    df.to_csv(file_name, index=False)"
   ]
  },
  {
   "cell_type": "code",
   "execution_count": 82,
   "metadata": {},
   "outputs": [],
   "source": [
    "\n",
    "# import Audio and Spectrogram classes from OpenSoundscape\n",
    "from opensoundscape.audio import Audio\n",
    "from opensoundscape.spectrogram import Spectrogram\n",
    "\n",
    "count = 0\n",
    "     \n",
    "for recording_list in everything_list:\n",
    "    \n",
    "    if recording_list:\n",
    "        #doesnt work for multiple files, figure out\n",
    "        if count == 0:\n",
    "            for file in recording_list:\n",
    "                # Extract the base name of the file (excluding path and extension)\n",
    "                recording_name = os.path.splitext(os.path.basename(file))[0]\n",
    "                \n",
    "                # Construct the CSV file name using the recording name\n",
    "                name = f\"csv_output/forest_recordings_{recording_name}.csv\"\n",
    "                \n",
    "                \n",
    "                if not os.path.exists(name):\n",
    "                # Perform prediction and save to CSV\n",
    "                    print(f\"In progress: {recording_name}\")\n",
    "                    predict([file], name)\n",
    "                    \n",
    "                # Add the 'Presence' column to the CSV file\n",
    "                add_presence_column(name)\n",
    "        elif count == 1:\n",
    "             for file in recording_list:\n",
    "                # Extract the base name of the file (excluding path and extension)\n",
    "                recording_name = os.path.splitext(os.path.basename(file))[0]\n",
    "                \n",
    "                # Construct the CSV file name using the recording name\n",
    "                name = f\"csv_output/grasslandfall_recordings_{recording_name}.csv\"\n",
    "            \n",
    "                \n",
    "                if not os.path.exists(name):\n",
    "                # Perform prediction and save to CSV\n",
    "                    print(f\"In progress: {recording_name}\")\n",
    "                    predict([file], name)\n",
    "                    \n",
    "                # Add the 'Presence' column to the CSV file\n",
    "                add_presence_column(name)\n",
    "        elif count == 2:\n",
    "            for file in recording_list:\n",
    "                # Extract the base name of the file (excluding path and extension)\n",
    "                recording_name = os.path.splitext(os.path.basename(file))[0]\n",
    "                \n",
    "                # Construct the CSV file name using the recording name\n",
    "                name = f\"csv_output/grasslandsummer_recordings_{recording_name}.csv\"\n",
    "                \n",
    "                print(f\"In progress: {recording_name}\")\n",
    "                \n",
    "                if not os.path.exists(name):\n",
    "                # Perform prediction and save to CSV\n",
    "                    print(f\"In progress: {recording_name}\")\n",
    "                    predict([file], name)\n",
    "                    \n",
    "                # Add the 'Presence' column to the CSV file\n",
    "                add_presence_column(name)\n",
    "\n",
    "    count += 1\n",
    "        \n",
    "        "
   ]
  }
 ],
 "metadata": {
  "kernelspec": {
   "display_name": "bird",
   "language": "python",
   "name": "bird"
  },
  "language_info": {
   "codemirror_mode": {
    "name": "ipython",
    "version": 3
   },
   "file_extension": ".py",
   "mimetype": "text/x-python",
   "name": "python",
   "nbconvert_exporter": "python",
   "pygments_lexer": "ipython3",
   "version": "3.10.13"
  }
 },
 "nbformat": 4,
 "nbformat_minor": 2
}
