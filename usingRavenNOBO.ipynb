{
 "cells": [
  {
   "cell_type": "code",
   "execution_count": 1,
   "metadata": {},
   "outputs": [
    {
     "name": "stderr",
     "output_type": "stream",
     "text": [
      "c:\\Users\\jonat\\anaconda3\\envs\\bird\\lib\\site-packages\\opensoundscape\\ml\\cnn.py:18: TqdmExperimentalWarning: Using `tqdm.autonotebook.tqdm` in notebook mode. Use `tqdm.tqdm` instead to force console mode (e.g. in jupyter console)\n",
      "  from tqdm.autonotebook import tqdm\n"
     ]
    }
   ],
   "source": [
    "# OpenSoundscape imports\n",
    "from opensoundscape import Audio, Spectrogram\n",
    "from opensoundscape.annotations import BoxedAnnotations\n",
    "\n",
    "# General-purpose packages\n",
    "import numpy as np\n",
    "import pandas as pd\n",
    "from glob import glob\n",
    "from pathlib import Path\n",
    "\n",
    "\n",
    "from matplotlib import pyplot as plt\n",
    "plt.rcParams['figure.figsize']=[15,5] #for big visuals\n",
    "%config InlineBackend.figure_format = 'retina'\n"
   ]
  },
  {
   "cell_type": "markdown",
   "metadata": {},
   "source": [
    "Loading Raven Files"
   ]
  },
  {
   "cell_type": "code",
   "execution_count": 2,
   "metadata": {},
   "outputs": [
    {
     "name": "stdout",
     "output_type": "stream",
     "text": [
      "Renamed: c:\\Users\\jonat\\Documents\\bobwhite\\ravenSelectionTables\\20221022_060000.txt to c:\\Users\\jonat\\Documents\\bobwhite\\ravenSelectionTables\\20221022_060000.txt\n",
      "Renamed: c:\\Users\\jonat\\Documents\\bobwhite\\ravenSelectionTables\\20221024_060000.txt to c:\\Users\\jonat\\Documents\\bobwhite\\ravenSelectionTables\\20221024_060000.txt\n",
      "Renamed: c:\\Users\\jonat\\Documents\\bobwhite\\ravenSelectionTables\\20221025_060000.txt to c:\\Users\\jonat\\Documents\\bobwhite\\ravenSelectionTables\\20221025_060000.txt\n",
      "Renamed: c:\\Users\\jonat\\Documents\\bobwhite\\ravenSelectionTables\\20221027_060000.txt to c:\\Users\\jonat\\Documents\\bobwhite\\ravenSelectionTables\\20221027_060000.txt\n",
      "Renamed: c:\\Users\\jonat\\Documents\\bobwhite\\ravenSelectionTables\\20221029_060000.txt to c:\\Users\\jonat\\Documents\\bobwhite\\ravenSelectionTables\\20221029_060000.txt\n",
      "Renamed: c:\\Users\\jonat\\Documents\\bobwhite\\ravenSelectionTables\\20221101_060000.txt to c:\\Users\\jonat\\Documents\\bobwhite\\ravenSelectionTables\\20221101_060000.txt\n",
      "Renamed: c:\\Users\\jonat\\Documents\\bobwhite\\ravenSelectionTables\\20221103_060000.txt to c:\\Users\\jonat\\Documents\\bobwhite\\ravenSelectionTables\\20221103_060000.txt\n",
      "Renamed: c:\\Users\\jonat\\Documents\\bobwhite\\ravenSelectionTables\\20221104_060000.txt to c:\\Users\\jonat\\Documents\\bobwhite\\ravenSelectionTables\\20221104_060000.txt\n",
      "Renamed: c:\\Users\\jonat\\Documents\\bobwhite\\ravenSelectionTables\\20221106_060000.txt to c:\\Users\\jonat\\Documents\\bobwhite\\ravenSelectionTables\\20221106_060000.txt\n",
      "Renamed: c:\\Users\\jonat\\Documents\\bobwhite\\ravenSelectionTables\\20221108_060000.txt to c:\\Users\\jonat\\Documents\\bobwhite\\ravenSelectionTables\\20221108_060000.txt\n",
      "Renamed: c:\\Users\\jonat\\Documents\\bobwhite\\ravenSelectionTables\\20221109_060000.txt to c:\\Users\\jonat\\Documents\\bobwhite\\ravenSelectionTables\\20221109_060000.txt\n",
      "Renamed: c:\\Users\\jonat\\Documents\\bobwhite\\ravenSelectionTables\\20221111_060000.txt to c:\\Users\\jonat\\Documents\\bobwhite\\ravenSelectionTables\\20221111_060000.txt\n",
      "Renamed: c:\\Users\\jonat\\Documents\\bobwhite\\ravenSelectionTables\\20221113_060000.txt to c:\\Users\\jonat\\Documents\\bobwhite\\ravenSelectionTables\\20221113_060000.txt\n",
      "Renamed: c:\\Users\\jonat\\Documents\\bobwhite\\ravenSelectionTables\\20221114_060000.txt to c:\\Users\\jonat\\Documents\\bobwhite\\ravenSelectionTables\\20221114_060000.txt\n",
      "Renamed: c:\\Users\\jonat\\Documents\\bobwhite\\ravenSelectionTables\\20221116_060000.txt to c:\\Users\\jonat\\Documents\\bobwhite\\ravenSelectionTables\\20221116_060000.txt\n",
      "Renamed: c:\\Users\\jonat\\Documents\\bobwhite\\ravenSelectionTables\\20221118_060000.txt to c:\\Users\\jonat\\Documents\\bobwhite\\ravenSelectionTables\\20221118_060000.txt\n",
      "Renamed: c:\\Users\\jonat\\Documents\\bobwhite\\ravenSelectionTables\\20221119_060000.txt to c:\\Users\\jonat\\Documents\\bobwhite\\ravenSelectionTables\\20221119_060000.txt\n",
      "Renamed: c:\\Users\\jonat\\Documents\\bobwhite\\ravenSelectionTables\\20221123_060000.txt to c:\\Users\\jonat\\Documents\\bobwhite\\ravenSelectionTables\\20221123_060000.txt\n",
      "Renamed: c:\\Users\\jonat\\Documents\\bobwhite\\ravenSelectionTables\\20221124_060000.txt to c:\\Users\\jonat\\Documents\\bobwhite\\ravenSelectionTables\\20221124_060000.txt\n",
      "Renamed: c:\\Users\\jonat\\Documents\\bobwhite\\ravenSelectionTables\\20221128_060000.txt to c:\\Users\\jonat\\Documents\\bobwhite\\ravenSelectionTables\\20221128_060000.txt\n",
      "Renamed: c:\\Users\\jonat\\Documents\\bobwhite\\ravenSelectionTables\\20221129_060000.txt to c:\\Users\\jonat\\Documents\\bobwhite\\ravenSelectionTables\\20221129_060000.txt\n",
      "Renamed: c:\\Users\\jonat\\Documents\\bobwhite\\ravenSelectionTables\\20221203_060000.txt to c:\\Users\\jonat\\Documents\\bobwhite\\ravenSelectionTables\\20221203_060000.txt\n",
      "Renamed: c:\\Users\\jonat\\Documents\\bobwhite\\ravenSelectionTables\\20221204_060000.txt to c:\\Users\\jonat\\Documents\\bobwhite\\ravenSelectionTables\\20221204_060000.txt\n",
      "['c:\\\\Users\\\\jonat\\\\Documents\\\\bobwhite\\\\ravenSelectionTables\\\\20221022_060000.txt', 'c:\\\\Users\\\\jonat\\\\Documents\\\\bobwhite\\\\ravenSelectionTables\\\\20221024_060000.txt', 'c:\\\\Users\\\\jonat\\\\Documents\\\\bobwhite\\\\ravenSelectionTables\\\\20221025_060000.txt', 'c:\\\\Users\\\\jonat\\\\Documents\\\\bobwhite\\\\ravenSelectionTables\\\\20221027_060000.txt', 'c:\\\\Users\\\\jonat\\\\Documents\\\\bobwhite\\\\ravenSelectionTables\\\\20221029_060000.txt', 'c:\\\\Users\\\\jonat\\\\Documents\\\\bobwhite\\\\ravenSelectionTables\\\\20221101_060000.txt', 'c:\\\\Users\\\\jonat\\\\Documents\\\\bobwhite\\\\ravenSelectionTables\\\\20221103_060000.txt', 'c:\\\\Users\\\\jonat\\\\Documents\\\\bobwhite\\\\ravenSelectionTables\\\\20221104_060000.txt', 'c:\\\\Users\\\\jonat\\\\Documents\\\\bobwhite\\\\ravenSelectionTables\\\\20221106_060000.txt', 'c:\\\\Users\\\\jonat\\\\Documents\\\\bobwhite\\\\ravenSelectionTables\\\\20221108_060000.txt', 'c:\\\\Users\\\\jonat\\\\Documents\\\\bobwhite\\\\ravenSelectionTables\\\\20221109_060000.txt', 'c:\\\\Users\\\\jonat\\\\Documents\\\\bobwhite\\\\ravenSelectionTables\\\\20221111_060000.txt', 'c:\\\\Users\\\\jonat\\\\Documents\\\\bobwhite\\\\ravenSelectionTables\\\\20221113_060000.txt', 'c:\\\\Users\\\\jonat\\\\Documents\\\\bobwhite\\\\ravenSelectionTables\\\\20221114_060000.txt', 'c:\\\\Users\\\\jonat\\\\Documents\\\\bobwhite\\\\ravenSelectionTables\\\\20221116_060000.txt', 'c:\\\\Users\\\\jonat\\\\Documents\\\\bobwhite\\\\ravenSelectionTables\\\\20221118_060000.txt', 'c:\\\\Users\\\\jonat\\\\Documents\\\\bobwhite\\\\ravenSelectionTables\\\\20221119_060000.txt', 'c:\\\\Users\\\\jonat\\\\Documents\\\\bobwhite\\\\ravenSelectionTables\\\\20221123_060000.txt', 'c:\\\\Users\\\\jonat\\\\Documents\\\\bobwhite\\\\ravenSelectionTables\\\\20221124_060000.txt', 'c:\\\\Users\\\\jonat\\\\Documents\\\\bobwhite\\\\ravenSelectionTables\\\\20221128_060000.txt', 'c:\\\\Users\\\\jonat\\\\Documents\\\\bobwhite\\\\ravenSelectionTables\\\\20221129_060000.txt', 'c:\\\\Users\\\\jonat\\\\Documents\\\\bobwhite\\\\ravenSelectionTables\\\\20221203_060000.txt', 'c:\\\\Users\\\\jonat\\\\Documents\\\\bobwhite\\\\ravenSelectionTables\\\\20221204_060000.txt']\n"
     ]
    }
   ],
   "source": [
    "from glob import glob\n",
    "import os\n",
    "import re\n",
    "\n",
    "# Assuming your current working directory is the base path\n",
    "base_path = os.getcwd()\n",
    "\n",
    "# Folder name\n",
    "folder_name = \"ravenSelectionTables\"\n",
    "\n",
    "# Construct the relative path\n",
    "relative_folder_path = os.path.join(base_path, folder_name)\n",
    "\n",
    "# Use glob to find all .txt files directly in the folder\n",
    "selections = glob(os.path.join(relative_folder_path, \"*.txt\"))\n",
    "# Regular expression pattern to extract the date and time part\n",
    "pattern = r\"(\\d{8}_\\d{6})\" #NOTE THIS MAY NOT WORK FOR ALL RECORDINGS IN OTHER FILES\n",
    "\n",
    "# Iterate through files and rename to include only the date and time part\n",
    "for old_file_path in selections:\n",
    "    old_file_name = os.path.basename(old_file_path)\n",
    "    \n",
    "    # Use regex to find the date and time part\n",
    "    match = re.search(pattern, old_file_name)\n",
    "    \n",
    "    if match:\n",
    "        new_file_name = match.group(1)\n",
    "        \n",
    "        # Construct the new file path\n",
    "        new_file_path = os.path.join(relative_folder_path, new_file_name + \".txt\")\n",
    "        \n",
    "        # Rename the file\n",
    "        os.rename(old_file_path, new_file_path)\n",
    "        print(f\"Renamed: {old_file_path} to {new_file_path}\")\n",
    "    else:\n",
    "        print(f\"No match found in filename: {old_file_name}\")\n",
    "\n",
    "# Optional: Print the updated list of files in ravenSelectionTables\n",
    "updated_selections = glob(os.path.join(relative_folder_path, \"*.txt\"))\n",
    "print(updated_selections)\n",
    "\n",
    "\n"
   ]
  },
  {
   "cell_type": "markdown",
   "metadata": {},
   "source": [
    "Rename audio files to match raven txt selection file names"
   ]
  },
  {
   "cell_type": "code",
   "execution_count": 3,
   "metadata": {},
   "outputs": [
    {
     "name": "stdout",
     "output_type": "stream",
     "text": [
      "Renamed: c:\\Users\\jonat\\Documents\\bobwhite\\ravenSelectionTables\\20221022_060000.wav to c:\\Users\\jonat\\Documents\\bobwhite\\ravenSelectionTables\\20221022_060000.wav\n",
      "Renamed: c:\\Users\\jonat\\Documents\\bobwhite\\ravenSelectionTables\\20221024_060000.wav to c:\\Users\\jonat\\Documents\\bobwhite\\ravenSelectionTables\\20221024_060000.wav\n",
      "Renamed: c:\\Users\\jonat\\Documents\\bobwhite\\ravenSelectionTables\\20221025_060000.wav to c:\\Users\\jonat\\Documents\\bobwhite\\ravenSelectionTables\\20221025_060000.wav\n",
      "Renamed: c:\\Users\\jonat\\Documents\\bobwhite\\ravenSelectionTables\\20221027_060000.wav to c:\\Users\\jonat\\Documents\\bobwhite\\ravenSelectionTables\\20221027_060000.wav\n",
      "Renamed: c:\\Users\\jonat\\Documents\\bobwhite\\ravenSelectionTables\\20221029_060000.wav to c:\\Users\\jonat\\Documents\\bobwhite\\ravenSelectionTables\\20221029_060000.wav\n",
      "Renamed: c:\\Users\\jonat\\Documents\\bobwhite\\ravenSelectionTables\\20221101_060000.wav to c:\\Users\\jonat\\Documents\\bobwhite\\ravenSelectionTables\\20221101_060000.wav\n",
      "Renamed: c:\\Users\\jonat\\Documents\\bobwhite\\ravenSelectionTables\\20221103_060000.wav to c:\\Users\\jonat\\Documents\\bobwhite\\ravenSelectionTables\\20221103_060000.wav\n",
      "Renamed: c:\\Users\\jonat\\Documents\\bobwhite\\ravenSelectionTables\\20221104_060000.wav to c:\\Users\\jonat\\Documents\\bobwhite\\ravenSelectionTables\\20221104_060000.wav\n",
      "Renamed: c:\\Users\\jonat\\Documents\\bobwhite\\ravenSelectionTables\\20221106_060000.wav to c:\\Users\\jonat\\Documents\\bobwhite\\ravenSelectionTables\\20221106_060000.wav\n",
      "Renamed: c:\\Users\\jonat\\Documents\\bobwhite\\ravenSelectionTables\\20221108_060000.wav to c:\\Users\\jonat\\Documents\\bobwhite\\ravenSelectionTables\\20221108_060000.wav\n",
      "Renamed: c:\\Users\\jonat\\Documents\\bobwhite\\ravenSelectionTables\\20221109_060000.wav to c:\\Users\\jonat\\Documents\\bobwhite\\ravenSelectionTables\\20221109_060000.wav\n",
      "Renamed: c:\\Users\\jonat\\Documents\\bobwhite\\ravenSelectionTables\\20221111_060000.wav to c:\\Users\\jonat\\Documents\\bobwhite\\ravenSelectionTables\\20221111_060000.wav\n",
      "Renamed: c:\\Users\\jonat\\Documents\\bobwhite\\ravenSelectionTables\\20221113_060000.wav to c:\\Users\\jonat\\Documents\\bobwhite\\ravenSelectionTables\\20221113_060000.wav\n",
      "Renamed: c:\\Users\\jonat\\Documents\\bobwhite\\ravenSelectionTables\\20221114_060000.wav to c:\\Users\\jonat\\Documents\\bobwhite\\ravenSelectionTables\\20221114_060000.wav\n",
      "Renamed: c:\\Users\\jonat\\Documents\\bobwhite\\ravenSelectionTables\\20221116_060000.wav to c:\\Users\\jonat\\Documents\\bobwhite\\ravenSelectionTables\\20221116_060000.wav\n",
      "Renamed: c:\\Users\\jonat\\Documents\\bobwhite\\ravenSelectionTables\\20221118_060000.wav to c:\\Users\\jonat\\Documents\\bobwhite\\ravenSelectionTables\\20221118_060000.wav\n",
      "Renamed: c:\\Users\\jonat\\Documents\\bobwhite\\ravenSelectionTables\\20221119_060000.wav to c:\\Users\\jonat\\Documents\\bobwhite\\ravenSelectionTables\\20221119_060000.wav\n",
      "Renamed: c:\\Users\\jonat\\Documents\\bobwhite\\ravenSelectionTables\\20221123_060000.wav to c:\\Users\\jonat\\Documents\\bobwhite\\ravenSelectionTables\\20221123_060000.wav\n",
      "Renamed: c:\\Users\\jonat\\Documents\\bobwhite\\ravenSelectionTables\\20221124_060000.wav to c:\\Users\\jonat\\Documents\\bobwhite\\ravenSelectionTables\\20221124_060000.wav\n",
      "Renamed: c:\\Users\\jonat\\Documents\\bobwhite\\ravenSelectionTables\\20221128_060000.wav to c:\\Users\\jonat\\Documents\\bobwhite\\ravenSelectionTables\\20221128_060000.wav\n",
      "Renamed: c:\\Users\\jonat\\Documents\\bobwhite\\ravenSelectionTables\\20221129_060000.wav to c:\\Users\\jonat\\Documents\\bobwhite\\ravenSelectionTables\\20221129_060000.wav\n",
      "Renamed: c:\\Users\\jonat\\Documents\\bobwhite\\ravenSelectionTables\\20221203_060000.wav to c:\\Users\\jonat\\Documents\\bobwhite\\ravenSelectionTables\\20221203_060000.wav\n",
      "Renamed: c:\\Users\\jonat\\Documents\\bobwhite\\ravenSelectionTables\\20221204_060000.wav to c:\\Users\\jonat\\Documents\\bobwhite\\ravenSelectionTables\\20221204_060000.wav\n",
      "['c:\\\\Users\\\\jonat\\\\Documents\\\\bobwhite\\\\ravenSelectionTables\\\\20221022_060000.wav', 'c:\\\\Users\\\\jonat\\\\Documents\\\\bobwhite\\\\ravenSelectionTables\\\\20221024_060000.wav', 'c:\\\\Users\\\\jonat\\\\Documents\\\\bobwhite\\\\ravenSelectionTables\\\\20221025_060000.wav', 'c:\\\\Users\\\\jonat\\\\Documents\\\\bobwhite\\\\ravenSelectionTables\\\\20221027_060000.wav', 'c:\\\\Users\\\\jonat\\\\Documents\\\\bobwhite\\\\ravenSelectionTables\\\\20221029_060000.wav', 'c:\\\\Users\\\\jonat\\\\Documents\\\\bobwhite\\\\ravenSelectionTables\\\\20221101_060000.wav', 'c:\\\\Users\\\\jonat\\\\Documents\\\\bobwhite\\\\ravenSelectionTables\\\\20221103_060000.wav', 'c:\\\\Users\\\\jonat\\\\Documents\\\\bobwhite\\\\ravenSelectionTables\\\\20221104_060000.wav', 'c:\\\\Users\\\\jonat\\\\Documents\\\\bobwhite\\\\ravenSelectionTables\\\\20221106_060000.wav', 'c:\\\\Users\\\\jonat\\\\Documents\\\\bobwhite\\\\ravenSelectionTables\\\\20221108_060000.wav', 'c:\\\\Users\\\\jonat\\\\Documents\\\\bobwhite\\\\ravenSelectionTables\\\\20221109_060000.wav', 'c:\\\\Users\\\\jonat\\\\Documents\\\\bobwhite\\\\ravenSelectionTables\\\\20221111_060000.wav', 'c:\\\\Users\\\\jonat\\\\Documents\\\\bobwhite\\\\ravenSelectionTables\\\\20221113_060000.wav', 'c:\\\\Users\\\\jonat\\\\Documents\\\\bobwhite\\\\ravenSelectionTables\\\\20221114_060000.wav', 'c:\\\\Users\\\\jonat\\\\Documents\\\\bobwhite\\\\ravenSelectionTables\\\\20221116_060000.wav', 'c:\\\\Users\\\\jonat\\\\Documents\\\\bobwhite\\\\ravenSelectionTables\\\\20221118_060000.wav', 'c:\\\\Users\\\\jonat\\\\Documents\\\\bobwhite\\\\ravenSelectionTables\\\\20221119_060000.wav', 'c:\\\\Users\\\\jonat\\\\Documents\\\\bobwhite\\\\ravenSelectionTables\\\\20221123_060000.wav', 'c:\\\\Users\\\\jonat\\\\Documents\\\\bobwhite\\\\ravenSelectionTables\\\\20221124_060000.wav', 'c:\\\\Users\\\\jonat\\\\Documents\\\\bobwhite\\\\ravenSelectionTables\\\\20221128_060000.wav', 'c:\\\\Users\\\\jonat\\\\Documents\\\\bobwhite\\\\ravenSelectionTables\\\\20221129_060000.wav', 'c:\\\\Users\\\\jonat\\\\Documents\\\\bobwhite\\\\ravenSelectionTables\\\\20221203_060000.wav', 'c:\\\\Users\\\\jonat\\\\Documents\\\\bobwhite\\\\ravenSelectionTables\\\\20221204_060000.wav']\n"
     ]
    }
   ],
   "source": [
    "# create a list of audio files, one corresponding to each Raven file\n",
    "'''so this is going through the ravenSelectionTables folder and finidng the audio files. \n",
    "For now, we manually make sure the audio name is EXACT SAME as the txt file name.'''\n",
    "audio_files = glob(os.path.join(relative_folder_path, \"*.wav\"))\n",
    "\n",
    "# Regular expression pattern to extract the date and time part\n",
    "pattern = r\"(\\d{8}_\\d{6})\" #NOTE THIS MAY NOT WORK FOR ALL RECORDINGS IN OTHER FILES\n",
    "\n",
    "# Iterate through files and rename to include only the date and time part\n",
    "for old_file_path in audio_files:\n",
    "    old_file_name = os.path.basename(old_file_path)\n",
    "    \n",
    "    # Use regex to find the date and time part\n",
    "    match = re.search(pattern, old_file_name)\n",
    "    \n",
    "    if match:\n",
    "        new_file_name = match.group(1)\n",
    "        \n",
    "        # Construct the new file path\n",
    "        new_file_path = os.path.join(relative_folder_path, new_file_name + \".wav\")\n",
    "        \n",
    "        # Rename the file\n",
    "        os.rename(old_file_path, new_file_path)\n",
    "        print(f\"Renamed: {old_file_path} to {new_file_path}\")\n",
    "    else:\n",
    "        print(f\"No match found in filename: {old_file_name}\")\n",
    "\n",
    "# Optional: Print the updated list of files in ravenSelectionTables\n",
    "updated_audio_files = glob(os.path.join(relative_folder_path, \"*.wav\"))\n",
    "print(updated_audio_files)\n"
   ]
  },
  {
   "cell_type": "code",
   "execution_count": 4,
   "metadata": {},
   "outputs": [],
   "source": [
    "import os\n",
    "\n",
    "def find_matching_pairs(folder_path):\n",
    "    matching_pairs = []\n",
    "    missing_pairs = []\n",
    "    duplicate_files = []\n",
    "\n",
    "    all_files = [file for file in os.listdir(folder_path) if file.endswith((\".wav\", \".txt\"))]\n",
    "    wav_files = set(file for file in all_files if file.endswith(\".wav\"))\n",
    "    txt_files = set(file for file in all_files if file.endswith(\".txt\"))\n",
    "\n",
    "    # Check for matching pairs\n",
    "    for wav_file in wav_files:\n",
    "        txt_file = wav_file.replace(\".wav\", \".txt\")\n",
    "        if txt_file in txt_files:\n",
    "            matching_pairs.append((wav_file, txt_file))\n",
    "        else:\n",
    "            missing_pairs.append(wav_file)\n",
    "\n",
    "    for txt_file in txt_files:\n",
    "        wav_file = txt_file.replace(\".txt\", \".wav\")\n",
    "        if wav_file not in wav_files:\n",
    "            missing_pairs.append(txt_file)\n",
    "\n",
    "    # Check for duplicates\n",
    "    file_count = {}\n",
    "    for file in all_files:\n",
    "        if file in file_count:\n",
    "            file_count[file] += 1\n",
    "        else:\n",
    "            file_count[file] = 1\n",
    "\n",
    "    for file, count in file_count.items():\n",
    "        if count > 1:\n",
    "            duplicate_files.append(file)\n",
    "\n",
    "    # Print warnings\n",
    "    if missing_pairs:\n",
    "        print(\"Warning: Some files do not have corresponding pairs:\")\n",
    "        for file in missing_pairs:\n",
    "            print(file)\n",
    "\n",
    "    if duplicate_files:\n",
    "        print(\"Warning: Some files are duplicated:\")\n",
    "        for file in duplicate_files:\n",
    "            print(file)\n",
    "\n",
    "    return matching_pairs\n",
    "\n",
    "# Replace 'folder_path' with the path to your ravenSelectiontable folder\n",
    "folder_path = './ravenSelectionTables'\n",
    "matching_pairs = find_matching_pairs(folder_path)\n",
    "#for pair in matching_pairs:\n",
    "    #print(pair)\n"
   ]
  },
  {
   "cell_type": "markdown",
   "metadata": {},
   "source": [
    "It seems like the column \"annotations\" is a number, while at the end there is a column \"Annotations\" thats not supposed to be there"
   ]
  },
  {
   "cell_type": "code",
   "execution_count": 5,
   "metadata": {},
   "outputs": [
    {
     "name": "stderr",
     "output_type": "stream",
     "text": [
      "c:\\Users\\jonat\\anaconda3\\envs\\bird\\lib\\site-packages\\opensoundscape\\annotations.py:258: FutureWarning: The behavior of DataFrame concatenation with empty or all-NA entries is deprecated. In a future version, this will no longer exclude empty or all-NA columns when determining the result dtypes. To retain the old behavior, exclude the relevant entries before the concat operation.\n",
      "  all_annotations = pd.concat(all_file_dfs).reset_index(drop=True)\n"
     ]
    },
    {
     "data": {
      "text/html": [
       "<div>\n",
       "<style scoped>\n",
       "    .dataframe tbody tr th:only-of-type {\n",
       "        vertical-align: middle;\n",
       "    }\n",
       "\n",
       "    .dataframe tbody tr th {\n",
       "        vertical-align: top;\n",
       "    }\n",
       "\n",
       "    .dataframe thead th {\n",
       "        text-align: right;\n",
       "    }\n",
       "</style>\n",
       "<table border=\"1\" class=\"dataframe\">\n",
       "  <thead>\n",
       "    <tr style=\"text-align: right;\">\n",
       "      <th></th>\n",
       "      <th>audio_file</th>\n",
       "      <th>annotation_file</th>\n",
       "      <th>length</th>\n",
       "      <th>start_time</th>\n",
       "      <th>end_time</th>\n",
       "      <th>low_f</th>\n",
       "      <th>high_f</th>\n",
       "      <th>Delta Freq (Hz)</th>\n",
       "      <th>Selection</th>\n",
       "      <th>Avg Power Density (dB FS/Hz)</th>\n",
       "      <th>View</th>\n",
       "      <th>Channel</th>\n",
       "      <th>annotation</th>\n",
       "    </tr>\n",
       "  </thead>\n",
       "  <tbody>\n",
       "    <tr>\n",
       "      <th>0</th>\n",
       "      <td>c:\\Users\\jonat\\Documents\\bobwhite\\ravenSelecti...</td>\n",
       "      <td>c:\\Users\\jonat\\Documents\\bobwhite\\ravenSelecti...</td>\n",
       "      <td>0.4319</td>\n",
       "      <td>3.965968</td>\n",
       "      <td>4.397906</td>\n",
       "      <td>875.324</td>\n",
       "      <td>2379.786</td>\n",
       "      <td>1504.462</td>\n",
       "      <td>1</td>\n",
       "      <td>-69.59</td>\n",
       "      <td>Spectrogram 1</td>\n",
       "      <td>1</td>\n",
       "      <td>NOBO?</td>\n",
       "    </tr>\n",
       "    <tr>\n",
       "      <th>1</th>\n",
       "      <td>c:\\Users\\jonat\\Documents\\bobwhite\\ravenSelecti...</td>\n",
       "      <td>c:\\Users\\jonat\\Documents\\bobwhite\\ravenSelecti...</td>\n",
       "      <td>0.3829</td>\n",
       "      <td>6.253273</td>\n",
       "      <td>6.636125</td>\n",
       "      <td>711.201</td>\n",
       "      <td>2407.140</td>\n",
       "      <td>1695.939</td>\n",
       "      <td>2</td>\n",
       "      <td>-69.65</td>\n",
       "      <td>Spectrogram 1</td>\n",
       "      <td>1</td>\n",
       "      <td>NOBO?</td>\n",
       "    </tr>\n",
       "    <tr>\n",
       "      <th>2</th>\n",
       "      <td>c:\\Users\\jonat\\Documents\\bobwhite\\ravenSelecti...</td>\n",
       "      <td>c:\\Users\\jonat\\Documents\\bobwhite\\ravenSelecti...</td>\n",
       "      <td>0.4319</td>\n",
       "      <td>7.794502</td>\n",
       "      <td>8.226439</td>\n",
       "      <td>711.201</td>\n",
       "      <td>2407.140</td>\n",
       "      <td>1695.939</td>\n",
       "      <td>3</td>\n",
       "      <td>-71.17</td>\n",
       "      <td>Spectrogram 1</td>\n",
       "      <td>1</td>\n",
       "      <td>NOBO?</td>\n",
       "    </tr>\n",
       "    <tr>\n",
       "      <th>3</th>\n",
       "      <td>c:\\Users\\jonat\\Documents\\bobwhite\\ravenSelecti...</td>\n",
       "      <td>c:\\Users\\jonat\\Documents\\bobwhite\\ravenSelecti...</td>\n",
       "      <td>0.4319</td>\n",
       "      <td>9.090314</td>\n",
       "      <td>9.522251</td>\n",
       "      <td>656.493</td>\n",
       "      <td>2434.494</td>\n",
       "      <td>1778.001</td>\n",
       "      <td>4</td>\n",
       "      <td>-69.66</td>\n",
       "      <td>Spectrogram 1</td>\n",
       "      <td>1</td>\n",
       "      <td>NOBO?</td>\n",
       "    </tr>\n",
       "    <tr>\n",
       "      <th>4</th>\n",
       "      <td>c:\\Users\\jonat\\Documents\\bobwhite\\ravenSelecti...</td>\n",
       "      <td>c:\\Users\\jonat\\Documents\\bobwhite\\ravenSelecti...</td>\n",
       "      <td>0.3534</td>\n",
       "      <td>173.404513</td>\n",
       "      <td>173.757917</td>\n",
       "      <td>1340.340</td>\n",
       "      <td>2434.494</td>\n",
       "      <td>1094.154</td>\n",
       "      <td>5</td>\n",
       "      <td>-75.79</td>\n",
       "      <td>Spectrogram 1</td>\n",
       "      <td>1</td>\n",
       "      <td>NOBO?</td>\n",
       "    </tr>\n",
       "    <tr>\n",
       "      <th>5</th>\n",
       "      <td>c:\\Users\\jonat\\Documents\\bobwhite\\ravenSelecti...</td>\n",
       "      <td>c:\\Users\\jonat\\Documents\\bobwhite\\ravenSelecti...</td>\n",
       "      <td>0.5497</td>\n",
       "      <td>203.125508</td>\n",
       "      <td>203.675246</td>\n",
       "      <td>1312.986</td>\n",
       "      <td>2325.079</td>\n",
       "      <td>1012.093</td>\n",
       "      <td>6</td>\n",
       "      <td>-75.56</td>\n",
       "      <td>Spectrogram 1</td>\n",
       "      <td>1</td>\n",
       "      <td>NOBO?</td>\n",
       "    </tr>\n",
       "    <tr>\n",
       "      <th>6</th>\n",
       "      <td>c:\\Users\\jonat\\Documents\\bobwhite\\ravenSelecti...</td>\n",
       "      <td>c:\\Users\\jonat\\Documents\\bobwhite\\ravenSelecti...</td>\n",
       "      <td>0.9762</td>\n",
       "      <td>228.023939</td>\n",
       "      <td>229.000169</td>\n",
       "      <td>1340.340</td>\n",
       "      <td>2543.910</td>\n",
       "      <td>1203.570</td>\n",
       "      <td>7</td>\n",
       "      <td>-76.43</td>\n",
       "      <td>Spectrogram 1</td>\n",
       "      <td>1</td>\n",
       "      <td>NOBO?</td>\n",
       "    </tr>\n",
       "    <tr>\n",
       "      <th>7</th>\n",
       "      <td>c:\\Users\\jonat\\Documents\\bobwhite\\ravenSelecti...</td>\n",
       "      <td>c:\\Users\\jonat\\Documents\\bobwhite\\ravenSelecti...</td>\n",
       "      <td>1.0652</td>\n",
       "      <td>238.451164</td>\n",
       "      <td>239.516400</td>\n",
       "      <td>957.385</td>\n",
       "      <td>2352.433</td>\n",
       "      <td>1395.048</td>\n",
       "      <td>8</td>\n",
       "      <td>-73.78</td>\n",
       "      <td>Spectrogram 1</td>\n",
       "      <td>1</td>\n",
       "      <td>NOBO?</td>\n",
       "    </tr>\n",
       "    <tr>\n",
       "      <th>8</th>\n",
       "      <td>c:\\Users\\jonat\\Documents\\bobwhite\\ravenSelecti...</td>\n",
       "      <td>c:\\Users\\jonat\\Documents\\bobwhite\\ravenSelecti...</td>\n",
       "      <td>0.9087</td>\n",
       "      <td>381.698337</td>\n",
       "      <td>382.607028</td>\n",
       "      <td>1121.509</td>\n",
       "      <td>2243.017</td>\n",
       "      <td>1121.508</td>\n",
       "      <td>9</td>\n",
       "      <td>-69.67</td>\n",
       "      <td>Spectrogram 1</td>\n",
       "      <td>1</td>\n",
       "      <td>NOBO?</td>\n",
       "    </tr>\n",
       "    <tr>\n",
       "      <th>9</th>\n",
       "      <td>c:\\Users\\jonat\\Documents\\bobwhite\\ravenSelecti...</td>\n",
       "      <td>c:\\Users\\jonat\\Documents\\bobwhite\\ravenSelecti...</td>\n",
       "      <td>1.0671</td>\n",
       "      <td>389.420798</td>\n",
       "      <td>390.487866</td>\n",
       "      <td>1340.340</td>\n",
       "      <td>2379.786</td>\n",
       "      <td>1039.446</td>\n",
       "      <td>10</td>\n",
       "      <td>-74.70</td>\n",
       "      <td>Spectrogram 1</td>\n",
       "      <td>1</td>\n",
       "      <td>NOBO?</td>\n",
       "    </tr>\n",
       "  </tbody>\n",
       "</table>\n",
       "</div>"
      ],
      "text/plain": [
       "                                          audio_file  \\\n",
       "0  c:\\Users\\jonat\\Documents\\bobwhite\\ravenSelecti...   \n",
       "1  c:\\Users\\jonat\\Documents\\bobwhite\\ravenSelecti...   \n",
       "2  c:\\Users\\jonat\\Documents\\bobwhite\\ravenSelecti...   \n",
       "3  c:\\Users\\jonat\\Documents\\bobwhite\\ravenSelecti...   \n",
       "4  c:\\Users\\jonat\\Documents\\bobwhite\\ravenSelecti...   \n",
       "5  c:\\Users\\jonat\\Documents\\bobwhite\\ravenSelecti...   \n",
       "6  c:\\Users\\jonat\\Documents\\bobwhite\\ravenSelecti...   \n",
       "7  c:\\Users\\jonat\\Documents\\bobwhite\\ravenSelecti...   \n",
       "8  c:\\Users\\jonat\\Documents\\bobwhite\\ravenSelecti...   \n",
       "9  c:\\Users\\jonat\\Documents\\bobwhite\\ravenSelecti...   \n",
       "\n",
       "                                     annotation_file  length  start_time  \\\n",
       "0  c:\\Users\\jonat\\Documents\\bobwhite\\ravenSelecti...  0.4319    3.965968   \n",
       "1  c:\\Users\\jonat\\Documents\\bobwhite\\ravenSelecti...  0.3829    6.253273   \n",
       "2  c:\\Users\\jonat\\Documents\\bobwhite\\ravenSelecti...  0.4319    7.794502   \n",
       "3  c:\\Users\\jonat\\Documents\\bobwhite\\ravenSelecti...  0.4319    9.090314   \n",
       "4  c:\\Users\\jonat\\Documents\\bobwhite\\ravenSelecti...  0.3534  173.404513   \n",
       "5  c:\\Users\\jonat\\Documents\\bobwhite\\ravenSelecti...  0.5497  203.125508   \n",
       "6  c:\\Users\\jonat\\Documents\\bobwhite\\ravenSelecti...  0.9762  228.023939   \n",
       "7  c:\\Users\\jonat\\Documents\\bobwhite\\ravenSelecti...  1.0652  238.451164   \n",
       "8  c:\\Users\\jonat\\Documents\\bobwhite\\ravenSelecti...  0.9087  381.698337   \n",
       "9  c:\\Users\\jonat\\Documents\\bobwhite\\ravenSelecti...  1.0671  389.420798   \n",
       "\n",
       "     end_time     low_f    high_f  Delta Freq (Hz) Selection  \\\n",
       "0    4.397906   875.324  2379.786         1504.462         1   \n",
       "1    6.636125   711.201  2407.140         1695.939         2   \n",
       "2    8.226439   711.201  2407.140         1695.939         3   \n",
       "3    9.522251   656.493  2434.494         1778.001         4   \n",
       "4  173.757917  1340.340  2434.494         1094.154         5   \n",
       "5  203.675246  1312.986  2325.079         1012.093         6   \n",
       "6  229.000169  1340.340  2543.910         1203.570         7   \n",
       "7  239.516400   957.385  2352.433         1395.048         8   \n",
       "8  382.607028  1121.509  2243.017         1121.508         9   \n",
       "9  390.487866  1340.340  2379.786         1039.446        10   \n",
       "\n",
       "   Avg Power Density (dB FS/Hz)           View Channel annotation  \n",
       "0                        -69.59  Spectrogram 1       1      NOBO?  \n",
       "1                        -69.65  Spectrogram 1       1      NOBO?  \n",
       "2                        -71.17  Spectrogram 1       1      NOBO?  \n",
       "3                        -69.66  Spectrogram 1       1      NOBO?  \n",
       "4                        -75.79  Spectrogram 1       1      NOBO?  \n",
       "5                        -75.56  Spectrogram 1       1      NOBO?  \n",
       "6                        -76.43  Spectrogram 1       1      NOBO?  \n",
       "7                        -73.78  Spectrogram 1       1      NOBO?  \n",
       "8                        -69.67  Spectrogram 1       1      NOBO?  \n",
       "9                        -74.70  Spectrogram 1       1      NOBO?  "
      ]
     },
     "execution_count": 5,
     "metadata": {},
     "output_type": "execute_result"
    }
   ],
   "source": [
    "from opensoundscape import BoxedAnnotations\n",
    "\n",
    "all_annotations = BoxedAnnotations.from_raven_files(\n",
    "    updated_selections,audio_files)\n",
    "\n",
    "#RENAME DUPLICATE ANNOTATION TEST\n",
    "all_annotations.df.rename(columns={'annotation': 'length'}, inplace=True)\n",
    "all_annotations.df.rename(columns={'Annotation': 'annotation'}, inplace=True)\n",
    "\n",
    "all_annotations.df.head(10)\n",
    "\n",
    "\n"
   ]
  },
  {
   "cell_type": "code",
   "execution_count": 6,
   "metadata": {},
   "outputs": [
    {
     "data": {
      "text/plain": [
       "annotation\n",
       "NOBO     630\n",
       "NOBOF    120\n",
       "NOBO?     21\n",
       "NOOB       1\n",
       "Name: count, dtype: int64"
      ]
     },
     "execution_count": 6,
     "metadata": {},
     "output_type": "execute_result"
    }
   ],
   "source": [
    "all_annotations.df.annotation.value_counts() "
   ]
  },
  {
   "cell_type": "code",
   "execution_count": 7,
   "metadata": {},
   "outputs": [],
   "source": [
    "#keep only annotations that say \"NOBO\"\n",
    "class_list = ['NOBO']"
   ]
  },
  {
   "cell_type": "markdown",
   "metadata": {},
   "source": [
    "Now time for one hot encoding for the model\n"
   ]
  },
  {
   "cell_type": "code",
   "execution_count": 8,
   "metadata": {},
   "outputs": [
    {
     "data": {
      "text/html": [
       "<div>\n",
       "<style scoped>\n",
       "    .dataframe tbody tr th:only-of-type {\n",
       "        vertical-align: middle;\n",
       "    }\n",
       "\n",
       "    .dataframe tbody tr th {\n",
       "        vertical-align: top;\n",
       "    }\n",
       "\n",
       "    .dataframe thead th {\n",
       "        text-align: right;\n",
       "    }\n",
       "</style>\n",
       "<table border=\"1\" class=\"dataframe\">\n",
       "  <thead>\n",
       "    <tr style=\"text-align: right;\">\n",
       "      <th></th>\n",
       "      <th></th>\n",
       "      <th></th>\n",
       "      <th>NOBO</th>\n",
       "    </tr>\n",
       "    <tr>\n",
       "      <th>file</th>\n",
       "      <th>start_time</th>\n",
       "      <th>end_time</th>\n",
       "      <th></th>\n",
       "    </tr>\n",
       "  </thead>\n",
       "  <tbody>\n",
       "    <tr>\n",
       "      <th rowspan=\"5\" valign=\"top\">c:\\Users\\jonat\\Documents\\bobwhite\\ravenSelectionTables\\20221109_060000.wav</th>\n",
       "      <th>0.0</th>\n",
       "      <th>1.0</th>\n",
       "      <td>0.0</td>\n",
       "    </tr>\n",
       "    <tr>\n",
       "      <th>0.5</th>\n",
       "      <th>1.5</th>\n",
       "      <td>0.0</td>\n",
       "    </tr>\n",
       "    <tr>\n",
       "      <th>1.0</th>\n",
       "      <th>2.0</th>\n",
       "      <td>0.0</td>\n",
       "    </tr>\n",
       "    <tr>\n",
       "      <th>1.5</th>\n",
       "      <th>2.5</th>\n",
       "      <td>0.0</td>\n",
       "    </tr>\n",
       "    <tr>\n",
       "      <th>2.0</th>\n",
       "      <th>3.0</th>\n",
       "      <td>0.0</td>\n",
       "    </tr>\n",
       "  </tbody>\n",
       "</table>\n",
       "</div>"
      ],
      "text/plain": [
       "                                                                        NOBO\n",
       "file                                               start_time end_time      \n",
       "c:\\Users\\jonat\\Documents\\bobwhite\\ravenSelectio... 0.0        1.0        0.0\n",
       "                                                   0.5        1.5        0.0\n",
       "                                                   1.0        2.0        0.0\n",
       "                                                   1.5        2.5        0.0\n",
       "                                                   2.0        3.0        0.0"
      ]
     },
     "execution_count": 8,
     "metadata": {},
     "output_type": "execute_result"
    }
   ],
   "source": [
    "# create labels for fixed-duration (2 second) clips \n",
    "\n",
    "'''since we aren't in the ravenselectiontable directory since the beginning, \n",
    "I ASSUME that i need to reference the audio file path manually under audio_files parameter'''\n",
    "\n",
    "audio_location = glob(os.path.join(relative_folder_path, \"*.wav\"))\n",
    "\n",
    "#print(audio_location)\n",
    "\n",
    "#change labels\n",
    "labels = all_annotations.one_hot_clip_labels(\n",
    "  clip_duration=1,\n",
    "  clip_overlap=0.5,\n",
    "  min_label_overlap=0.1,\n",
    "  class_subset=class_list, #maybe we can add NOBO?\n",
    "  audio_files= audio_location\n",
    ")\n",
    "\n",
    "# Set the option to display all rows\n",
    "pd.set_option('display.max_rows', None)\n",
    "\n",
    "labels.head()\n",
    "\n"
   ]
  },
  {
   "cell_type": "code",
   "execution_count": 9,
   "metadata": {},
   "outputs": [
    {
     "name": "stdout",
     "output_type": "stream",
     "text": [
      "Number of 1s in 'NOBO': 1060\n",
      "Number of 0s in 'NOBO': 26516\n"
     ]
    }
   ],
   "source": [
    "# Count the occurrences of each value in the 'NOBO' column\n",
    "value_counts = labels['NOBO'].value_counts()\n",
    "\n",
    "# Get the count of 1s and 0s\n",
    "count_ones = value_counts.get(1, 0)  # Get the count of 1s, default to 0 if not found\n",
    "count_zeros = value_counts.get(0, 0)  # Get the count of 0s, default to 0 if not found\n",
    "\n",
    "print(\"Number of 1s in 'NOBO':\", count_ones)\n",
    "print(\"Number of 0s in 'NOBO':\", count_zeros)"
   ]
  },
  {
   "cell_type": "markdown",
   "metadata": {},
   "source": [
    "Training the model"
   ]
  },
  {
   "cell_type": "code",
   "execution_count": 10,
   "metadata": {},
   "outputs": [
    {
     "name": "stdout",
     "output_type": "stream",
     "text": [
      "Files to be removed:\n",
      "9554    c:\\Users\\jonat\\Documents\\bobwhite\\ravenSelectionTables\\20221203_060000.wav\n",
      "5172    c:\\Users\\jonat\\Documents\\bobwhite\\ravenSelectionTables\\20221204_060000.wav\n",
      "Name: file, dtype: object\n",
      "Final positive count: 1060, Final negative count: 2120\n"
     ]
    }
   ],
   "source": [
    "from sklearn.model_selection import train_test_split\n",
    "import shutup; shutup.please()\n",
    "from IPython.display import display\n",
    "\n",
    "# Set the option to display more characters per column\n",
    "pd.set_option('display.max_colwidth', None)\n",
    "\n",
    "\n",
    "# Reset the index to convert \"file\" index into a column\n",
    "labels_reset_index = labels.reset_index()\n",
    "\n",
    "# Calculate 20% of unique file names\n",
    "num_files_to_remove = int(0.1 * labels_reset_index['file'].nunique())\n",
    "\n",
    "# Get a random sample of file names to remove\n",
    "files_to_remove = labels_reset_index['file'].sample(n=num_files_to_remove, random_state=2)\n",
    "\n",
    "# Print the filenames that are being removed\n",
    "print(\"Files to be removed:\")\n",
    "print(files_to_remove)\n",
    "\n",
    "# Create a DataFrame containing the files to remove\n",
    "testing_df = labels_reset_index[labels_reset_index['file'].isin(files_to_remove)]\n",
    "\n",
    "# Remove the files to be removed from the original DataFrame\n",
    "labels_filtered = labels_reset_index[~labels_reset_index['file'].isin(files_to_remove)]\n",
    "\n",
    "# Calculate the number of positive and negative samples\n",
    "positive_count = (labels_filtered['NOBO'] > 0).sum()\n",
    "negative_count = (labels_filtered['NOBO'] == 0).sum()\n",
    "\n",
    "# Define the desired positive to negative ratio\n",
    "desired_ratio = 2\n",
    "\n",
    "# Calculate the number of negative samples to keep\n",
    "num_negative_to_keep = int(positive_count * desired_ratio)\n",
    "\n",
    "# Filter out negative samples randomly\n",
    "negative_indices_to_keep = labels_filtered[labels_filtered['NOBO'] == 0].sample(n=num_negative_to_keep, random_state=42).index\n",
    "\n",
    "# Filter the data based on the selected indices\n",
    "filtered_data = labels_filtered.loc[labels_filtered.index.union(negative_indices_to_keep)]\n",
    "\n",
    "# Print the final count of positive and negative samples after filtering\n",
    "print(f\"Final positive count: {positive_count}, Final negative count: {num_negative_to_keep}\")\n",
    "\n",
    "\n",
    "# Split the DataFrame based on unique values in the 'file' column\n",
    "train_files, validation_files = train_test_split(filtered_data['file'].unique(), test_size=0.2, random_state=1)\n",
    "\n",
    "# Filter the labels DataFrame based on the split file names\n",
    "train_df = filtered_data[filtered_data['file'].isin(train_files)]\n",
    "validation_df = filtered_data[filtered_data['file'].isin(validation_files)]\n",
    "\n",
    "# Set \"file\" column as the index again\n",
    "train_df = train_df.set_index(['file', 'start_time', 'end_time'])\n",
    "validation_df = validation_df.set_index(['file', 'start_time', 'end_time'])"
   ]
  },
  {
   "cell_type": "code",
   "execution_count": 11,
   "metadata": {},
   "outputs": [],
   "source": [
    "\n",
    "from opensoundscape import CNN\n",
    "from opensoundscape.ml.cnn import load_model\n",
    "\n",
    "import shutup; shutup.please()\n",
    "\n",
    "# just make two different csv of train and validation\n",
    "# Define constants\n",
    "SAMPLE_DURATION = 1.0 #what is this; has to be same as clip duration, so 1\n",
    "NUM_EPOCHS = 5\n",
    "BATCH_SIZE = 64 #too SLOW, maybe 256, \n",
    "SAVE_INTERVAL = 1000\n",
    "\n",
    "# Specify paths\n",
    "model_path = './bird_training/bobwhite/best.model'\n",
    "save_path = './bird_training/bobwhite'\n",
    "\n",
    "if os.path.exists(model_path):\n",
    "    model = load_model(model_path)\n",
    "else:\n",
    "    model = CNN('resnet18', classes=class_list, sample_duration=SAMPLE_DURATION) #resnet 18 previously\n",
    "\n",
    "    model.train(\n",
    "        train_df=train_df,\n",
    "        validation_df=validation_df,\n",
    "        save_path=save_path,\n",
    "        epochs=NUM_EPOCHS,\n",
    "        batch_size=BATCH_SIZE,\n",
    "        save_interval=SAVE_INTERVAL,\n",
    "        log_interval=720,\n",
    "        num_workers=4, #specify 4 if you have 4 CPU processes, eg; 0 means only the root process i have 8\n",
    "    )\n",
    "\n",
    "    model.save(model_path)\n",
    "    model = load_model(model_path)"
   ]
  },
  {
   "cell_type": "code",
   "execution_count": 12,
   "metadata": {},
   "outputs": [
    {
     "data": {
      "text/plain": [
       "Index(['NOBO'], dtype='object')"
      ]
     },
     "execution_count": 12,
     "metadata": {},
     "output_type": "execute_result"
    }
   ],
   "source": [
    "validation_df.columns"
   ]
  },
  {
   "cell_type": "code",
   "execution_count": 13,
   "metadata": {},
   "outputs": [],
   "source": [
    "validation_df.to_csv(\"test.csv\")\n",
    "len(validation_df)\n",
    "train_df.to_csv(\"train.csv\")\n"
   ]
  },
  {
   "cell_type": "code",
   "execution_count": 14,
   "metadata": {},
   "outputs": [
    {
     "data": {
      "text/plain": [
       "19183"
      ]
     },
     "execution_count": 14,
     "metadata": {},
     "output_type": "execute_result"
    }
   ],
   "source": [
    "len(train_df)\n"
   ]
  },
  {
   "cell_type": "code",
   "execution_count": 15,
   "metadata": {},
   "outputs": [
    {
     "data": {
      "text/plain": [
       "2398"
      ]
     },
     "execution_count": 15,
     "metadata": {},
     "output_type": "execute_result"
    }
   ],
   "source": [
    "len(testing_df)"
   ]
  },
  {
   "cell_type": "markdown",
   "metadata": {},
   "source": [
    "After training"
   ]
  },
  {
   "cell_type": "code",
   "execution_count": 16,
   "metadata": {},
   "outputs": [
    {
     "name": "stdout",
     "output_type": "stream",
     "text": [
      "[[], [], []]\n"
     ]
    }
   ],
   "source": [
    "from glob import glob\n",
    "\n",
    "# Search for .wav and .WAV files in all subdirectories of the directory\n",
    "forest_recordings = glob('./analysis_recording/2022Forest/**/*.[wW][aA][vV]', recursive=True)\n",
    "grasslandfall_recordings = glob('./analysis_recording/2022GrasslandFall/**/*.[wW][aA][vV]', recursive=True)\n",
    "grasslandsummer_recordings = glob('./analysis_recording/2022GrasslandSummer/**/*.[wW][aA][vV]', recursive=True)\n",
    "\n",
    "everything_list = [forest_recordings, grasslandfall_recordings, grasslandsummer_recordings]\n",
    "\n",
    "#maybe add code here that says if file name is in csv_output, remove from this list\n",
    "# Path to the csv_output folder\n",
    "csv_output_folder = './csv_output'\n",
    "\n",
    "# Iterate over files in the csv_output folder\n",
    "for file in os.listdir(csv_output_folder):\n",
    "    # Read the CSV file\n",
    "    csv_file_path = os.path.join(csv_output_folder, file)\n",
    "    df = pd.read_csv(csv_file_path)\n",
    "    # Get the filenames from the \"file\" column\n",
    "    filenames = df.iloc[:, 0].tolist()\n",
    "    # Iterate over each list in everything_list\n",
    "    for recording_list in everything_list:\n",
    "        # Check if any filename matches a value in the \"file\" column\n",
    "        for filename in filenames:\n",
    "            if filename in recording_list:\n",
    "                # Remove the filename from the list\n",
    "                recording_list.remove(filename)\n",
    "\n",
    "print(everything_list)"
   ]
  },
  {
   "cell_type": "code",
   "execution_count": 17,
   "metadata": {},
   "outputs": [],
   "source": [
    "def predict(file, name, overlap=0):\n",
    "    prediction_scores_df = model.predict(file, activation_layer='sigmoid', overlap_fraction=overlap)\n",
    "    \n",
    "    # Reset index to move index levels to columns\n",
    "    prediction_scores_df.reset_index(inplace=True)\n",
    "\n",
    "    # Convert the seconds column to a \"hour:minute:second\" format\n",
    "    prediction_scores_df['start_time'] = pd.to_datetime(prediction_scores_df['start_time'], unit='s').apply(lambda x: x.strftime('%H:%M:%S.%f'))\n",
    "    prediction_scores_df['end_time'] = pd.to_datetime(prediction_scores_df['end_time'], unit='s').apply(lambda x: x.strftime('%H:%M:%S.%f'))\n",
    "\n",
    "\n",
    "    # Save the DataFrame to a CSV file\n",
    "    prediction_scores_df.to_csv(name, index=False)\n",
    "    \n",
    "from sklearn.mixture import GaussianMixture\n",
    "\n",
    "def add_presence_column(file_name, cluster=4):\n",
    "    # Read the CSV file into a pandas DataFrame\n",
    "    df = pd.read_csv(file_name)\n",
    "\n",
    "    # Assuming 'NOBO' column contains the scores\n",
    "    scores = df['NOBO'].values.reshape(-1, 1)\n",
    "\n",
    "    # Fit GMM model\n",
    "    gmm = GaussianMixture(n_components=cluster)  # Assuming two clusters, adjust as needed\n",
    "    gmm.fit(scores)\n",
    "\n",
    "    # Get the cluster means\n",
    "    cluster_means = gmm.means_\n",
    "\n",
    "    # Determine the top cluster (highest mean)\n",
    "    top_cluster = cluster_means.argmax()\n",
    "\n",
    "    # Add a new column 'Presence' based on the top cluster\n",
    "    df['Presence'] = ['Present' if cluster == top_cluster else '' for cluster in gmm.predict(scores)]\n",
    "\n",
    "    # Save the updated DataFrame to the same CSV file\n",
    "    df.to_csv(file_name, index=False)\n"
   ]
  },
  {
   "cell_type": "code",
   "execution_count": 18,
   "metadata": {},
   "outputs": [],
   "source": [
    "\n",
    "# import Audio and Spectrogram classes from OpenSoundscape\n",
    "from opensoundscape.audio import Audio\n",
    "from opensoundscape.spectrogram import Spectrogram\n",
    "\n",
    "count = 0\n",
    "     \n",
    "for recording_list in everything_list:\n",
    "    \n",
    "    if recording_list:\n",
    "        #doesnt work for multiple files, figure out\n",
    "        if count == 0:\n",
    "            for file in recording_list:\n",
    "                # Extract the base name of the file (excluding path and extension)\n",
    "                recording_name = os.path.splitext(os.path.basename(file))[0]\n",
    "                \n",
    "                # Construct the CSV file name using the recording name\n",
    "                name = f\"csv_output/forest_recordings_{recording_name}.csv\"\n",
    "                \n",
    "                \n",
    "                if not os.path.exists(name):\n",
    "                # Perform prediction and save to CSV\n",
    "                    print(f\"In progress: {recording_name}\")\n",
    "                    predict([file], name)\n",
    "                    \n",
    "                # Add the 'Presence' column to the CSV file\n",
    "                add_presence_column(name)\n",
    "        elif count == 1:\n",
    "             for file in recording_list:\n",
    "                # Extract the base name of the file (excluding path and extension)\n",
    "                recording_name = os.path.splitext(os.path.basename(file))[0]\n",
    "                \n",
    "                # Construct the CSV file name using the recording name\n",
    "                name = f\"csv_output/grasslandfall_recordings_{recording_name}.csv\"\n",
    "            \n",
    "                \n",
    "                if not os.path.exists(name):\n",
    "                # Perform prediction and save to CSV\n",
    "                    print(f\"In progress: {recording_name}\")\n",
    "                    predict([file], name)\n",
    "                    \n",
    "                # Add the 'Presence' column to the CSV file\n",
    "                add_presence_column(name)\n",
    "        elif count == 2:\n",
    "            for file in recording_list:\n",
    "                # Extract the base name of the file (excluding path and extension)\n",
    "                recording_name = os.path.splitext(os.path.basename(file))[0]\n",
    "                \n",
    "                # Construct the CSV file name using the recording name\n",
    "                name = f\"csv_output/grasslandsummer_recordings_{recording_name}.csv\"\n",
    "                \n",
    "                print(f\"In progress: {recording_name}\")\n",
    "                \n",
    "                if not os.path.exists(name):\n",
    "                # Perform prediction and save to CSV\n",
    "                    print(f\"In progress: {recording_name}\")\n",
    "                    predict([file], name)\n",
    "                    \n",
    "                # Add the 'Presence' column to the CSV file\n",
    "                add_presence_column(name)\n",
    "\n",
    "    count += 1\n",
    "        \n",
    "        "
   ]
  },
  {
   "cell_type": "markdown",
   "metadata": {},
   "source": [
    "Check metrics"
   ]
  },
  {
   "cell_type": "code",
   "execution_count": 19,
   "metadata": {},
   "outputs": [
    {
     "name": "stdout",
     "output_type": "stream",
     "text": [
      "['20221204_060000', '20221203_060000']\n",
      "In progress: ravenSelectionTables/20221204_060000.WAV\n"
     ]
    },
    {
     "data": {
      "application/vnd.jupyter.widget-view+json": {
       "model_id": "49953f71499443be82c6da2c7a296c01",
       "version_major": 2,
       "version_minor": 0
      },
      "text/plain": [
       "  0%|          | 0/1199 [00:00<?, ?it/s]"
      ]
     },
     "metadata": {},
     "output_type": "display_data"
    },
    {
     "name": "stdout",
     "output_type": "stream",
     "text": [
      "Number of rows in testing_files/20221204_060000.csv: 1199\n",
      "In progress: ravenSelectionTables/20221203_060000.WAV\n"
     ]
    },
    {
     "data": {
      "application/vnd.jupyter.widget-view+json": {
       "model_id": "5ae30afcd5cf4ec78dc4434f0fe1c000",
       "version_major": 2,
       "version_minor": 0
      },
      "text/plain": [
       "  0%|          | 0/1199 [00:00<?, ?it/s]"
      ]
     },
     "metadata": {},
     "output_type": "display_data"
    },
    {
     "name": "stdout",
     "output_type": "stream",
     "text": [
      "Number of rows in testing_files/20221203_060000.csv: 1199\n",
      "Total number of rows from all CSV files: 2398\n"
     ]
    }
   ],
   "source": [
    "testing_df.to_csv(\"testing.csv\", index=False)\n",
    "\n",
    "import pandas as pd\n",
    "\n",
    "# Read the CSV file into a DataFrame\n",
    "testing_df = pd.read_csv(\"testing.csv\")\n",
    "\n",
    "# Define the regex pattern\n",
    "pattern = r\"(\\d{8}_\\d{6})\"\n",
    "\n",
    "# Extract the pattern from filenames and get unique values\n",
    "unique_patterns = testing_df['file'].str.extract(pattern).dropna().squeeze().unique().tolist()\n",
    "\n",
    "# Print the unique patterns\n",
    "print(unique_patterns)\n",
    "\n",
    "# List to store the total number of rows from each CSV\n",
    "total_rows = []\n",
    "\n",
    "for file in unique_patterns:\n",
    "    filename = f\"ravenSelectionTables/{file}.WAV\"\n",
    "    path = f\"testing_files/{file}.csv\"\n",
    "    \n",
    "    if not os.path.exists(path):\n",
    "    # Perform prediction and save to CSV\n",
    "        print(f\"In progress: {filename}\")\n",
    "        predict([filename], path, overlap=.5)\n",
    "        \n",
    "        add_presence_column(path,3)\n",
    "    \n",
    "    df = pd.read_csv(path)\n",
    "    \n",
    "    # Get the number of rows in the DataFrame\n",
    "    num_rows = len(df)\n",
    "    \n",
    "    # Print the number of rows for the current CSV file\n",
    "    print(f\"Number of rows in {path}: {num_rows}\")\n",
    "    \n",
    "    # Get the number of rows in the DataFrame and append to the list\n",
    "    total_rows.append(len(df))\n",
    "    \n",
    "# Calculate the total number of rows across all CSV files\n",
    "total_rows_all_files = sum(total_rows)\n",
    "\n",
    "# Print the total number of rows\n",
    "print(\"Total number of rows from all CSV files:\", total_rows_all_files)\n",
    "\n"
   ]
  },
  {
   "cell_type": "markdown",
   "metadata": {},
   "source": [
    "split testing.csv to separate csv based on unique filename"
   ]
  },
  {
   "cell_type": "code",
   "execution_count": 20,
   "metadata": {},
   "outputs": [
    {
     "name": "stdout",
     "output_type": "stream",
     "text": [
      "Number of rows in 20221204_060000: 1199\n",
      "Number of rows in 20221203_060000: 1199\n"
     ]
    }
   ],
   "source": [
    "# Define the regex pattern\n",
    "pattern = r\"(\\d{8}_\\d{6})\"\n",
    "\n",
    "# Get unique filenames and filter them to match the regex pattern\n",
    "unique_filenames = testing_df['file'].str.extract(pattern).dropna().squeeze().unique()\n",
    "\n",
    "# Iterate over unique filenames and create separate CSV files\n",
    "for filename in unique_filenames:\n",
    "    # Filter DataFrame for current filename\n",
    "    subset_df = testing_df[testing_df['file'].str.contains(filename)]\n",
    "    \n",
    "    # Print the number of rows in the subset DataFrame\n",
    "    num_rows = len(subset_df)\n",
    "    print(f\"Number of rows in {filename}: {num_rows}\")\n",
    "    \n",
    "    # Define the filename for the new CSV file\n",
    "    new_filename = f\"testing_files/original_{filename}.csv\"\n",
    "    \n",
    "    # Write the subset DataFrame to a new CSV file\n",
    "    subset_df.to_csv(new_filename, index=False)\n"
   ]
  },
  {
   "cell_type": "markdown",
   "metadata": {},
   "source": [
    "merge dataframes and get metrics"
   ]
  },
  {
   "cell_type": "code",
   "execution_count": 21,
   "metadata": {},
   "outputs": [
    {
     "name": "stdout",
     "output_type": "stream",
     "text": [
      "Merged CSV file for 20221203_060000 saved as: testing_files/merged_20221203_060000.csv\n",
      "Merged CSV file for 20221204_060000 saved as: testing_files/merged_20221204_060000.csv\n"
     ]
    }
   ],
   "source": [
    "import os\n",
    "import pandas as pd\n",
    "\n",
    "# Define the regex pattern\n",
    "pattern = r\"(\\d{8}_\\d{6})\"\n",
    "\n",
    "# Function to extract the filename pattern\n",
    "def extract_pattern(filename):\n",
    "    match = re.search(pattern, filename)\n",
    "    if match:\n",
    "        return match.group()\n",
    "    else:\n",
    "        return None\n",
    "\n",
    "# Dictionary to store DataFrames for each unique filename pattern\n",
    "merged_dfs = {}\n",
    "\n",
    "# Iterate over files in the testing_files folder\n",
    "for filename in os.listdir(\"testing_files\"):\n",
    "    if filename.endswith(\".csv\"):\n",
    "        # Read the CSV file into a DataFrame\n",
    "        df = pd.read_csv(os.path.join(\"testing_files\", filename))\n",
    "        \n",
    "        # Extract the filename pattern\n",
    "        file_pattern = extract_pattern(filename)\n",
    "        \n",
    "        if file_pattern:\n",
    "            # Check if the filename pattern already exists in the dictionary\n",
    "            if file_pattern in merged_dfs:\n",
    "                # Concatenate the current DataFrame with the existing one in the dictionary\n",
    "                merged_dfs[file_pattern] = pd.concat([merged_dfs[file_pattern], df], axis=1, join='inner')\n",
    "            else:\n",
    "                # If the filename pattern is not in the dictionary, add the DataFrame to the dictionary\n",
    "                merged_dfs[file_pattern] = df\n",
    "\n",
    "# Save each merged DataFrame to a separate CSV file with only the first 5 columns and the last one\n",
    "for pattern, df in merged_dfs.items():\n",
    "    merged_filename = f\"testing_files/merged_{pattern}.csv\"\n",
    "    \n",
    "    # Rename the last column to \"Actual NOBO\"\n",
    "    df.columns = list(df.columns[:-1]) + ['Actual NOBO']\n",
    "    \n",
    "    # Save the DataFrame to a CSV file\n",
    "    df.to_csv(merged_filename, index=False)\n",
    "    print(f\"Merged CSV file for {pattern} saved as: {merged_filename}\")\n"
   ]
  },
  {
   "cell_type": "code",
   "execution_count": 22,
   "metadata": {},
   "outputs": [
    {
     "name": "stdout",
     "output_type": "stream",
     "text": [
      "Columns in DataFrame for 20221203_060000: ['file', 'start_time', 'end_time', 'NOBO', 'Presence', 'file', 'start_time', 'end_time', 'Actual NOBO']\n",
      "Columns in DataFrame for 20221204_060000: ['file', 'start_time', 'end_time', 'NOBO', 'Presence', 'file', 'start_time', 'end_time', 'Actual NOBO']\n"
     ]
    }
   ],
   "source": [
    "# Iterate over merged files\n",
    "for pattern, df in merged_dfs.items():\n",
    "    # Print column names of the DataFrame\n",
    "    print(f\"Columns in DataFrame for {pattern}: {df.columns.tolist()}\")\n"
   ]
  },
  {
   "cell_type": "code",
   "execution_count": 23,
   "metadata": {},
   "outputs": [
    {
     "name": "stdout",
     "output_type": "stream",
     "text": [
      "Classification results for 20221203_060000:\n",
      "Precision: 0.0\n",
      "Recall: 0.0\n",
      "Accuracy: 0.9866555462885738\n",
      "F1 Score: 0.0\n",
      "Confusion Matrix:\n",
      "[[1183   16]\n",
      " [   0    0]]\n",
      "\n",
      "Classification results for 20221204_060000:\n",
      "Precision: 0.0\n",
      "Recall: 0.0\n",
      "Accuracy: 0.9933277731442869\n",
      "F1 Score: 0.0\n",
      "Confusion Matrix:\n",
      "[[1191    8]\n",
      " [   0    0]]\n",
      "\n"
     ]
    }
   ],
   "source": [
    "from sklearn.metrics import precision_score, recall_score, accuracy_score, f1_score, confusion_matrix\n",
    "\n",
    "# Dictionary to store classification metrics and confusion matrices for each merged file\n",
    "classification_results = {}\n",
    "\n",
    "# Iterate over merged files\n",
    "for pattern, df in merged_dfs.items():\n",
    "    \n",
    "    # Mapping string values to integers\n",
    "    presence_mapping = {'Present': 1, '': 0}\n",
    "    # Convert \"Presence\" column to integers\n",
    "    nobo_values = df['Presence'].map(presence_mapping).fillna(0).astype(int)\n",
    "    actual_nobo_values = df['Actual NOBO'].astype(int)\n",
    "    \n",
    "    # Compute classification metrics\n",
    "    precision = precision_score(actual_nobo_values, nobo_values)\n",
    "    recall = recall_score(actual_nobo_values, nobo_values)\n",
    "    accuracy = accuracy_score(actual_nobo_values, nobo_values)\n",
    "    f1 = f1_score(actual_nobo_values, nobo_values)\n",
    "    \n",
    "    # Compute confusion matrix\n",
    "    cm = confusion_matrix(actual_nobo_values, nobo_values)\n",
    "    \n",
    "    # Add classification metrics and confusion matrix to dictionary\n",
    "    classification_results[pattern] = {'Precision': precision,\n",
    "                                       'Recall': recall,\n",
    "                                       'Accuracy': accuracy,\n",
    "                                       'F1 Score': f1,\n",
    "                                       'Confusion Matrix': cm}\n",
    "\n",
    "# Print classification metrics and confusion matrices\n",
    "for pattern, results in classification_results.items():\n",
    "    print(f\"Classification results for {pattern}:\")\n",
    "    for metric, value in results.items():\n",
    "        if metric == 'Confusion Matrix':\n",
    "            print(f\"{metric}:\\n{value}\")\n",
    "        else:\n",
    "            print(f\"{metric}: {value}\")\n",
    "    print()\n"
   ]
  }
 ],
 "metadata": {
  "kernelspec": {
   "display_name": "bird",
   "language": "python",
   "name": "bird"
  },
  "language_info": {
   "codemirror_mode": {
    "name": "ipython",
    "version": 3
   },
   "file_extension": ".py",
   "mimetype": "text/x-python",
   "name": "python",
   "nbconvert_exporter": "python",
   "pygments_lexer": "ipython3",
   "version": "3.10.13"
  }
 },
 "nbformat": 4,
 "nbformat_minor": 2
}
