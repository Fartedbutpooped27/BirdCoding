{
 "cells": [
  {
   "cell_type": "code",
   "execution_count": 152,
   "metadata": {},
   "outputs": [],
   "source": [
    "# OpenSoundscape imports\n",
    "from opensoundscape import Audio, Spectrogram\n",
    "from opensoundscape.annotations import BoxedAnnotations\n",
    "\n",
    "# General-purpose packages\n",
    "import numpy as np\n",
    "import pandas as pd\n",
    "from glob import glob\n",
    "from pathlib import Path\n",
    "\n",
    "\n",
    "from matplotlib import pyplot as plt\n",
    "plt.rcParams['figure.figsize']=[15,5] #for big visuals\n",
    "%config InlineBackend.figure_format = 'retina'\n"
   ]
  },
  {
   "cell_type": "markdown",
   "metadata": {},
   "source": [
    "Loading Raven Files"
   ]
  },
  {
   "cell_type": "code",
   "execution_count": 153,
   "metadata": {},
   "outputs": [
    {
     "name": "stdout",
     "output_type": "stream",
     "text": [
      "Renamed: c:\\Users\\jonat\\Documents\\bobwhite\\ravenSelectionTables\\20221022_060000.txt to c:\\Users\\jonat\\Documents\\bobwhite\\ravenSelectionTables\\20221022_060000.txt\n",
      "Renamed: c:\\Users\\jonat\\Documents\\bobwhite\\ravenSelectionTables\\20221024_060000.txt to c:\\Users\\jonat\\Documents\\bobwhite\\ravenSelectionTables\\20221024_060000.txt\n",
      "Renamed: c:\\Users\\jonat\\Documents\\bobwhite\\ravenSelectionTables\\20221025_060000.txt to c:\\Users\\jonat\\Documents\\bobwhite\\ravenSelectionTables\\20221025_060000.txt\n",
      "Renamed: c:\\Users\\jonat\\Documents\\bobwhite\\ravenSelectionTables\\20221027_060000.txt to c:\\Users\\jonat\\Documents\\bobwhite\\ravenSelectionTables\\20221027_060000.txt\n",
      "Renamed: c:\\Users\\jonat\\Documents\\bobwhite\\ravenSelectionTables\\20221029_060000.txt to c:\\Users\\jonat\\Documents\\bobwhite\\ravenSelectionTables\\20221029_060000.txt\n",
      "Renamed: c:\\Users\\jonat\\Documents\\bobwhite\\ravenSelectionTables\\20221101_060000.txt to c:\\Users\\jonat\\Documents\\bobwhite\\ravenSelectionTables\\20221101_060000.txt\n",
      "Renamed: c:\\Users\\jonat\\Documents\\bobwhite\\ravenSelectionTables\\20221103_060000.txt to c:\\Users\\jonat\\Documents\\bobwhite\\ravenSelectionTables\\20221103_060000.txt\n",
      "Renamed: c:\\Users\\jonat\\Documents\\bobwhite\\ravenSelectionTables\\20221104_060000.txt to c:\\Users\\jonat\\Documents\\bobwhite\\ravenSelectionTables\\20221104_060000.txt\n",
      "Renamed: c:\\Users\\jonat\\Documents\\bobwhite\\ravenSelectionTables\\20221106_060000.txt to c:\\Users\\jonat\\Documents\\bobwhite\\ravenSelectionTables\\20221106_060000.txt\n",
      "Renamed: c:\\Users\\jonat\\Documents\\bobwhite\\ravenSelectionTables\\20221108_060000.txt to c:\\Users\\jonat\\Documents\\bobwhite\\ravenSelectionTables\\20221108_060000.txt\n",
      "Renamed: c:\\Users\\jonat\\Documents\\bobwhite\\ravenSelectionTables\\20221109_060000.txt to c:\\Users\\jonat\\Documents\\bobwhite\\ravenSelectionTables\\20221109_060000.txt\n",
      "Renamed: c:\\Users\\jonat\\Documents\\bobwhite\\ravenSelectionTables\\20221111_060000.txt to c:\\Users\\jonat\\Documents\\bobwhite\\ravenSelectionTables\\20221111_060000.txt\n",
      "Renamed: c:\\Users\\jonat\\Documents\\bobwhite\\ravenSelectionTables\\20221113_060000.txt to c:\\Users\\jonat\\Documents\\bobwhite\\ravenSelectionTables\\20221113_060000.txt\n",
      "Renamed: c:\\Users\\jonat\\Documents\\bobwhite\\ravenSelectionTables\\20221114_060000.txt to c:\\Users\\jonat\\Documents\\bobwhite\\ravenSelectionTables\\20221114_060000.txt\n",
      "Renamed: c:\\Users\\jonat\\Documents\\bobwhite\\ravenSelectionTables\\20221116_060000.txt to c:\\Users\\jonat\\Documents\\bobwhite\\ravenSelectionTables\\20221116_060000.txt\n",
      "Renamed: c:\\Users\\jonat\\Documents\\bobwhite\\ravenSelectionTables\\20221118_060000.txt to c:\\Users\\jonat\\Documents\\bobwhite\\ravenSelectionTables\\20221118_060000.txt\n",
      "Renamed: c:\\Users\\jonat\\Documents\\bobwhite\\ravenSelectionTables\\20221119_060000.txt to c:\\Users\\jonat\\Documents\\bobwhite\\ravenSelectionTables\\20221119_060000.txt\n",
      "Renamed: c:\\Users\\jonat\\Documents\\bobwhite\\ravenSelectionTables\\20221123_060000.txt to c:\\Users\\jonat\\Documents\\bobwhite\\ravenSelectionTables\\20221123_060000.txt\n",
      "Renamed: c:\\Users\\jonat\\Documents\\bobwhite\\ravenSelectionTables\\20221124_060000.txt to c:\\Users\\jonat\\Documents\\bobwhite\\ravenSelectionTables\\20221124_060000.txt\n",
      "Renamed: c:\\Users\\jonat\\Documents\\bobwhite\\ravenSelectionTables\\20221128_060000.txt to c:\\Users\\jonat\\Documents\\bobwhite\\ravenSelectionTables\\20221128_060000.txt\n",
      "Renamed: c:\\Users\\jonat\\Documents\\bobwhite\\ravenSelectionTables\\20221129_060000.txt to c:\\Users\\jonat\\Documents\\bobwhite\\ravenSelectionTables\\20221129_060000.txt\n",
      "Renamed: c:\\Users\\jonat\\Documents\\bobwhite\\ravenSelectionTables\\20221203_060000.txt to c:\\Users\\jonat\\Documents\\bobwhite\\ravenSelectionTables\\20221203_060000.txt\n",
      "Renamed: c:\\Users\\jonat\\Documents\\bobwhite\\ravenSelectionTables\\20221204_060000.txt to c:\\Users\\jonat\\Documents\\bobwhite\\ravenSelectionTables\\20221204_060000.txt\n",
      "['c:\\\\Users\\\\jonat\\\\Documents\\\\bobwhite\\\\ravenSelectionTables\\\\20221022_060000.txt', 'c:\\\\Users\\\\jonat\\\\Documents\\\\bobwhite\\\\ravenSelectionTables\\\\20221024_060000.txt', 'c:\\\\Users\\\\jonat\\\\Documents\\\\bobwhite\\\\ravenSelectionTables\\\\20221025_060000.txt', 'c:\\\\Users\\\\jonat\\\\Documents\\\\bobwhite\\\\ravenSelectionTables\\\\20221027_060000.txt', 'c:\\\\Users\\\\jonat\\\\Documents\\\\bobwhite\\\\ravenSelectionTables\\\\20221029_060000.txt', 'c:\\\\Users\\\\jonat\\\\Documents\\\\bobwhite\\\\ravenSelectionTables\\\\20221101_060000.txt', 'c:\\\\Users\\\\jonat\\\\Documents\\\\bobwhite\\\\ravenSelectionTables\\\\20221103_060000.txt', 'c:\\\\Users\\\\jonat\\\\Documents\\\\bobwhite\\\\ravenSelectionTables\\\\20221104_060000.txt', 'c:\\\\Users\\\\jonat\\\\Documents\\\\bobwhite\\\\ravenSelectionTables\\\\20221106_060000.txt', 'c:\\\\Users\\\\jonat\\\\Documents\\\\bobwhite\\\\ravenSelectionTables\\\\20221108_060000.txt', 'c:\\\\Users\\\\jonat\\\\Documents\\\\bobwhite\\\\ravenSelectionTables\\\\20221109_060000.txt', 'c:\\\\Users\\\\jonat\\\\Documents\\\\bobwhite\\\\ravenSelectionTables\\\\20221111_060000.txt', 'c:\\\\Users\\\\jonat\\\\Documents\\\\bobwhite\\\\ravenSelectionTables\\\\20221113_060000.txt', 'c:\\\\Users\\\\jonat\\\\Documents\\\\bobwhite\\\\ravenSelectionTables\\\\20221114_060000.txt', 'c:\\\\Users\\\\jonat\\\\Documents\\\\bobwhite\\\\ravenSelectionTables\\\\20221116_060000.txt', 'c:\\\\Users\\\\jonat\\\\Documents\\\\bobwhite\\\\ravenSelectionTables\\\\20221118_060000.txt', 'c:\\\\Users\\\\jonat\\\\Documents\\\\bobwhite\\\\ravenSelectionTables\\\\20221119_060000.txt', 'c:\\\\Users\\\\jonat\\\\Documents\\\\bobwhite\\\\ravenSelectionTables\\\\20221123_060000.txt', 'c:\\\\Users\\\\jonat\\\\Documents\\\\bobwhite\\\\ravenSelectionTables\\\\20221124_060000.txt', 'c:\\\\Users\\\\jonat\\\\Documents\\\\bobwhite\\\\ravenSelectionTables\\\\20221128_060000.txt', 'c:\\\\Users\\\\jonat\\\\Documents\\\\bobwhite\\\\ravenSelectionTables\\\\20221129_060000.txt', 'c:\\\\Users\\\\jonat\\\\Documents\\\\bobwhite\\\\ravenSelectionTables\\\\20221203_060000.txt', 'c:\\\\Users\\\\jonat\\\\Documents\\\\bobwhite\\\\ravenSelectionTables\\\\20221204_060000.txt']\n"
     ]
    }
   ],
   "source": [
    "from glob import glob\n",
    "import os\n",
    "import re\n",
    "\n",
    "# Assuming your current working directory is the base path\n",
    "base_path = os.getcwd()\n",
    "\n",
    "# Folder name\n",
    "folder_name = \"ravenSelectionTables\"\n",
    "\n",
    "# Construct the relative path\n",
    "relative_folder_path = os.path.join(base_path, folder_name)\n",
    "\n",
    "# Use glob to find all .txt files directly in the folder\n",
    "selections = glob(os.path.join(relative_folder_path, \"*.txt\"))\n",
    "# Regular expression pattern to extract the date and time part\n",
    "pattern = r\"(\\d{8}_\\d{6})\" #NOTE THIS MAY NOT WORK FOR ALL RECORDINGS IN OTHER FILES\n",
    "\n",
    "# Iterate through files and rename to include only the date and time part\n",
    "for old_file_path in selections:\n",
    "    old_file_name = os.path.basename(old_file_path)\n",
    "    \n",
    "    # Use regex to find the date and time part\n",
    "    match = re.search(pattern, old_file_name)\n",
    "    \n",
    "    if match:\n",
    "        new_file_name = match.group(1)\n",
    "        \n",
    "        # Construct the new file path\n",
    "        new_file_path = os.path.join(relative_folder_path, new_file_name + \".txt\")\n",
    "        \n",
    "        # Rename the file\n",
    "        os.rename(old_file_path, new_file_path)\n",
    "        print(f\"Renamed: {old_file_path} to {new_file_path}\")\n",
    "    else:\n",
    "        print(f\"No match found in filename: {old_file_name}\")\n",
    "\n",
    "# Optional: Print the updated list of files in ravenSelectionTables\n",
    "updated_selections = glob(os.path.join(relative_folder_path, \"*.txt\"))\n",
    "print(updated_selections)\n",
    "\n",
    "\n"
   ]
  },
  {
   "cell_type": "markdown",
   "metadata": {},
   "source": [
    "Rename audio files to match raven txt selection file names"
   ]
  },
  {
   "cell_type": "code",
   "execution_count": 154,
   "metadata": {},
   "outputs": [
    {
     "name": "stdout",
     "output_type": "stream",
     "text": [
      "Renamed: c:\\Users\\jonat\\Documents\\bobwhite\\ravenSelectionTables\\20221022_060000.wav to c:\\Users\\jonat\\Documents\\bobwhite\\ravenSelectionTables\\20221022_060000.wav\n",
      "Renamed: c:\\Users\\jonat\\Documents\\bobwhite\\ravenSelectionTables\\20221024_060000.wav to c:\\Users\\jonat\\Documents\\bobwhite\\ravenSelectionTables\\20221024_060000.wav\n",
      "Renamed: c:\\Users\\jonat\\Documents\\bobwhite\\ravenSelectionTables\\20221025_060000.wav to c:\\Users\\jonat\\Documents\\bobwhite\\ravenSelectionTables\\20221025_060000.wav\n",
      "Renamed: c:\\Users\\jonat\\Documents\\bobwhite\\ravenSelectionTables\\20221027_060000.wav to c:\\Users\\jonat\\Documents\\bobwhite\\ravenSelectionTables\\20221027_060000.wav\n",
      "Renamed: c:\\Users\\jonat\\Documents\\bobwhite\\ravenSelectionTables\\20221029_060000.wav to c:\\Users\\jonat\\Documents\\bobwhite\\ravenSelectionTables\\20221029_060000.wav\n",
      "Renamed: c:\\Users\\jonat\\Documents\\bobwhite\\ravenSelectionTables\\20221101_060000.wav to c:\\Users\\jonat\\Documents\\bobwhite\\ravenSelectionTables\\20221101_060000.wav\n",
      "Renamed: c:\\Users\\jonat\\Documents\\bobwhite\\ravenSelectionTables\\20221103_060000.wav to c:\\Users\\jonat\\Documents\\bobwhite\\ravenSelectionTables\\20221103_060000.wav\n",
      "Renamed: c:\\Users\\jonat\\Documents\\bobwhite\\ravenSelectionTables\\20221104_060000.wav to c:\\Users\\jonat\\Documents\\bobwhite\\ravenSelectionTables\\20221104_060000.wav\n",
      "Renamed: c:\\Users\\jonat\\Documents\\bobwhite\\ravenSelectionTables\\20221106_060000.wav to c:\\Users\\jonat\\Documents\\bobwhite\\ravenSelectionTables\\20221106_060000.wav\n",
      "Renamed: c:\\Users\\jonat\\Documents\\bobwhite\\ravenSelectionTables\\20221108_060000.wav to c:\\Users\\jonat\\Documents\\bobwhite\\ravenSelectionTables\\20221108_060000.wav\n",
      "Renamed: c:\\Users\\jonat\\Documents\\bobwhite\\ravenSelectionTables\\20221109_060000.wav to c:\\Users\\jonat\\Documents\\bobwhite\\ravenSelectionTables\\20221109_060000.wav\n",
      "Renamed: c:\\Users\\jonat\\Documents\\bobwhite\\ravenSelectionTables\\20221111_060000.wav to c:\\Users\\jonat\\Documents\\bobwhite\\ravenSelectionTables\\20221111_060000.wav\n",
      "Renamed: c:\\Users\\jonat\\Documents\\bobwhite\\ravenSelectionTables\\20221113_060000.wav to c:\\Users\\jonat\\Documents\\bobwhite\\ravenSelectionTables\\20221113_060000.wav\n",
      "Renamed: c:\\Users\\jonat\\Documents\\bobwhite\\ravenSelectionTables\\20221114_060000.wav to c:\\Users\\jonat\\Documents\\bobwhite\\ravenSelectionTables\\20221114_060000.wav\n",
      "Renamed: c:\\Users\\jonat\\Documents\\bobwhite\\ravenSelectionTables\\20221116_060000.wav to c:\\Users\\jonat\\Documents\\bobwhite\\ravenSelectionTables\\20221116_060000.wav\n",
      "Renamed: c:\\Users\\jonat\\Documents\\bobwhite\\ravenSelectionTables\\20221118_060000.wav to c:\\Users\\jonat\\Documents\\bobwhite\\ravenSelectionTables\\20221118_060000.wav\n",
      "Renamed: c:\\Users\\jonat\\Documents\\bobwhite\\ravenSelectionTables\\20221119_060000.wav to c:\\Users\\jonat\\Documents\\bobwhite\\ravenSelectionTables\\20221119_060000.wav\n",
      "Renamed: c:\\Users\\jonat\\Documents\\bobwhite\\ravenSelectionTables\\20221123_060000.wav to c:\\Users\\jonat\\Documents\\bobwhite\\ravenSelectionTables\\20221123_060000.wav\n",
      "Renamed: c:\\Users\\jonat\\Documents\\bobwhite\\ravenSelectionTables\\20221124_060000.wav to c:\\Users\\jonat\\Documents\\bobwhite\\ravenSelectionTables\\20221124_060000.wav\n",
      "Renamed: c:\\Users\\jonat\\Documents\\bobwhite\\ravenSelectionTables\\20221128_060000.wav to c:\\Users\\jonat\\Documents\\bobwhite\\ravenSelectionTables\\20221128_060000.wav\n",
      "Renamed: c:\\Users\\jonat\\Documents\\bobwhite\\ravenSelectionTables\\20221129_060000.wav to c:\\Users\\jonat\\Documents\\bobwhite\\ravenSelectionTables\\20221129_060000.wav\n",
      "Renamed: c:\\Users\\jonat\\Documents\\bobwhite\\ravenSelectionTables\\20221203_060000.wav to c:\\Users\\jonat\\Documents\\bobwhite\\ravenSelectionTables\\20221203_060000.wav\n",
      "Renamed: c:\\Users\\jonat\\Documents\\bobwhite\\ravenSelectionTables\\20221204_060000.wav to c:\\Users\\jonat\\Documents\\bobwhite\\ravenSelectionTables\\20221204_060000.wav\n",
      "['c:\\\\Users\\\\jonat\\\\Documents\\\\bobwhite\\\\ravenSelectionTables\\\\20221022_060000.wav', 'c:\\\\Users\\\\jonat\\\\Documents\\\\bobwhite\\\\ravenSelectionTables\\\\20221024_060000.wav', 'c:\\\\Users\\\\jonat\\\\Documents\\\\bobwhite\\\\ravenSelectionTables\\\\20221025_060000.wav', 'c:\\\\Users\\\\jonat\\\\Documents\\\\bobwhite\\\\ravenSelectionTables\\\\20221027_060000.wav', 'c:\\\\Users\\\\jonat\\\\Documents\\\\bobwhite\\\\ravenSelectionTables\\\\20221029_060000.wav', 'c:\\\\Users\\\\jonat\\\\Documents\\\\bobwhite\\\\ravenSelectionTables\\\\20221101_060000.wav', 'c:\\\\Users\\\\jonat\\\\Documents\\\\bobwhite\\\\ravenSelectionTables\\\\20221103_060000.wav', 'c:\\\\Users\\\\jonat\\\\Documents\\\\bobwhite\\\\ravenSelectionTables\\\\20221104_060000.wav', 'c:\\\\Users\\\\jonat\\\\Documents\\\\bobwhite\\\\ravenSelectionTables\\\\20221106_060000.wav', 'c:\\\\Users\\\\jonat\\\\Documents\\\\bobwhite\\\\ravenSelectionTables\\\\20221108_060000.wav', 'c:\\\\Users\\\\jonat\\\\Documents\\\\bobwhite\\\\ravenSelectionTables\\\\20221109_060000.wav', 'c:\\\\Users\\\\jonat\\\\Documents\\\\bobwhite\\\\ravenSelectionTables\\\\20221111_060000.wav', 'c:\\\\Users\\\\jonat\\\\Documents\\\\bobwhite\\\\ravenSelectionTables\\\\20221113_060000.wav', 'c:\\\\Users\\\\jonat\\\\Documents\\\\bobwhite\\\\ravenSelectionTables\\\\20221114_060000.wav', 'c:\\\\Users\\\\jonat\\\\Documents\\\\bobwhite\\\\ravenSelectionTables\\\\20221116_060000.wav', 'c:\\\\Users\\\\jonat\\\\Documents\\\\bobwhite\\\\ravenSelectionTables\\\\20221118_060000.wav', 'c:\\\\Users\\\\jonat\\\\Documents\\\\bobwhite\\\\ravenSelectionTables\\\\20221119_060000.wav', 'c:\\\\Users\\\\jonat\\\\Documents\\\\bobwhite\\\\ravenSelectionTables\\\\20221123_060000.wav', 'c:\\\\Users\\\\jonat\\\\Documents\\\\bobwhite\\\\ravenSelectionTables\\\\20221124_060000.wav', 'c:\\\\Users\\\\jonat\\\\Documents\\\\bobwhite\\\\ravenSelectionTables\\\\20221128_060000.wav', 'c:\\\\Users\\\\jonat\\\\Documents\\\\bobwhite\\\\ravenSelectionTables\\\\20221129_060000.wav', 'c:\\\\Users\\\\jonat\\\\Documents\\\\bobwhite\\\\ravenSelectionTables\\\\20221203_060000.wav', 'c:\\\\Users\\\\jonat\\\\Documents\\\\bobwhite\\\\ravenSelectionTables\\\\20221204_060000.wav']\n"
     ]
    }
   ],
   "source": [
    "# create a list of audio files, one corresponding to each Raven file\n",
    "'''so this is going through the ravenSelectionTables folder and finidng the audio files. \n",
    "For now, we manually make sure the audio name is EXACT SAME as the txt file name.'''\n",
    "audio_files = glob(os.path.join(relative_folder_path, \"*.wav\"))\n",
    "\n",
    "# Regular expression pattern to extract the date and time part\n",
    "pattern = r\"(\\d{8}_\\d{6})\" #NOTE THIS MAY NOT WORK FOR ALL RECORDINGS IN OTHER FILES\n",
    "\n",
    "# Iterate through files and rename to include only the date and time part\n",
    "for old_file_path in audio_files:\n",
    "    old_file_name = os.path.basename(old_file_path)\n",
    "    \n",
    "    # Use regex to find the date and time part\n",
    "    match = re.search(pattern, old_file_name)\n",
    "    \n",
    "    if match:\n",
    "        new_file_name = match.group(1)\n",
    "        \n",
    "        # Construct the new file path\n",
    "        new_file_path = os.path.join(relative_folder_path, new_file_name + \".wav\")\n",
    "        \n",
    "        # Rename the file\n",
    "        os.rename(old_file_path, new_file_path)\n",
    "        print(f\"Renamed: {old_file_path} to {new_file_path}\")\n",
    "    else:\n",
    "        print(f\"No match found in filename: {old_file_name}\")\n",
    "\n",
    "# Optional: Print the updated list of files in ravenSelectionTables\n",
    "updated_audio_files = glob(os.path.join(relative_folder_path, \"*.wav\"))\n",
    "print(updated_audio_files)\n"
   ]
  },
  {
   "cell_type": "code",
   "execution_count": 155,
   "metadata": {},
   "outputs": [],
   "source": [
    "import os\n",
    "\n",
    "def find_matching_pairs(folder_path):\n",
    "    matching_pairs = []\n",
    "    missing_pairs = []\n",
    "    duplicate_files = []\n",
    "\n",
    "    all_files = [file for file in os.listdir(folder_path) if file.endswith((\".wav\", \".txt\"))]\n",
    "    wav_files = set(file for file in all_files if file.endswith(\".wav\"))\n",
    "    txt_files = set(file for file in all_files if file.endswith(\".txt\"))\n",
    "\n",
    "    # Check for matching pairs\n",
    "    for wav_file in wav_files:\n",
    "        txt_file = wav_file.replace(\".wav\", \".txt\")\n",
    "        if txt_file in txt_files:\n",
    "            matching_pairs.append((wav_file, txt_file))\n",
    "        else:\n",
    "            missing_pairs.append(wav_file)\n",
    "\n",
    "    for txt_file in txt_files:\n",
    "        wav_file = txt_file.replace(\".txt\", \".wav\")\n",
    "        if wav_file not in wav_files:\n",
    "            missing_pairs.append(txt_file)\n",
    "\n",
    "    # Check for duplicates\n",
    "    file_count = {}\n",
    "    for file in all_files:\n",
    "        if file in file_count:\n",
    "            file_count[file] += 1\n",
    "        else:\n",
    "            file_count[file] = 1\n",
    "\n",
    "    for file, count in file_count.items():\n",
    "        if count > 1:\n",
    "            duplicate_files.append(file)\n",
    "\n",
    "    # Print warnings\n",
    "    if missing_pairs:\n",
    "        print(\"Warning: Some files do not have corresponding pairs:\")\n",
    "        for file in missing_pairs:\n",
    "            print(file)\n",
    "\n",
    "    if duplicate_files:\n",
    "        print(\"Warning: Some files are duplicated:\")\n",
    "        for file in duplicate_files:\n",
    "            print(file)\n",
    "\n",
    "    return matching_pairs\n",
    "\n",
    "# Replace 'folder_path' with the path to your ravenSelectiontable folder\n",
    "folder_path = './ravenSelectionTables'\n",
    "matching_pairs = find_matching_pairs(folder_path)\n",
    "#for pair in matching_pairs:\n",
    "    #print(pair)\n"
   ]
  },
  {
   "cell_type": "markdown",
   "metadata": {},
   "source": [
    "It seems like the column \"annotations\" is a number, while at the end there is a column \"Annotations\" thats not supposed to be there"
   ]
  },
  {
   "cell_type": "code",
   "execution_count": 156,
   "metadata": {},
   "outputs": [
    {
     "data": {
      "text/html": [
       "<div>\n",
       "<style scoped>\n",
       "    .dataframe tbody tr th:only-of-type {\n",
       "        vertical-align: middle;\n",
       "    }\n",
       "\n",
       "    .dataframe tbody tr th {\n",
       "        vertical-align: top;\n",
       "    }\n",
       "\n",
       "    .dataframe thead th {\n",
       "        text-align: right;\n",
       "    }\n",
       "</style>\n",
       "<table border=\"1\" class=\"dataframe\">\n",
       "  <thead>\n",
       "    <tr style=\"text-align: right;\">\n",
       "      <th></th>\n",
       "      <th>audio_file</th>\n",
       "      <th>annotation_file</th>\n",
       "      <th>length</th>\n",
       "      <th>start_time</th>\n",
       "      <th>end_time</th>\n",
       "      <th>low_f</th>\n",
       "      <th>high_f</th>\n",
       "      <th>Channel</th>\n",
       "      <th>Selection</th>\n",
       "      <th>annotation</th>\n",
       "      <th>Avg Power Density (dB FS/Hz)</th>\n",
       "      <th>View</th>\n",
       "      <th>Delta Freq (Hz)</th>\n",
       "    </tr>\n",
       "  </thead>\n",
       "  <tbody>\n",
       "    <tr>\n",
       "      <th>0</th>\n",
       "      <td>c:\\Users\\jonat\\Documents\\bobwhite\\ravenSelectionTables\\20221022_060000.wav</td>\n",
       "      <td>c:\\Users\\jonat\\Documents\\bobwhite\\ravenSelectionTables\\20221022_060000.txt</td>\n",
       "      <td>0.4319</td>\n",
       "      <td>3.965968</td>\n",
       "      <td>4.397906</td>\n",
       "      <td>875.324</td>\n",
       "      <td>2379.786</td>\n",
       "      <td>1</td>\n",
       "      <td>1</td>\n",
       "      <td>NOBO?</td>\n",
       "      <td>-69.59</td>\n",
       "      <td>Spectrogram 1</td>\n",
       "      <td>1504.462</td>\n",
       "    </tr>\n",
       "    <tr>\n",
       "      <th>1</th>\n",
       "      <td>c:\\Users\\jonat\\Documents\\bobwhite\\ravenSelectionTables\\20221022_060000.wav</td>\n",
       "      <td>c:\\Users\\jonat\\Documents\\bobwhite\\ravenSelectionTables\\20221022_060000.txt</td>\n",
       "      <td>0.3829</td>\n",
       "      <td>6.253273</td>\n",
       "      <td>6.636125</td>\n",
       "      <td>711.201</td>\n",
       "      <td>2407.140</td>\n",
       "      <td>1</td>\n",
       "      <td>2</td>\n",
       "      <td>NOBO?</td>\n",
       "      <td>-69.65</td>\n",
       "      <td>Spectrogram 1</td>\n",
       "      <td>1695.939</td>\n",
       "    </tr>\n",
       "    <tr>\n",
       "      <th>2</th>\n",
       "      <td>c:\\Users\\jonat\\Documents\\bobwhite\\ravenSelectionTables\\20221022_060000.wav</td>\n",
       "      <td>c:\\Users\\jonat\\Documents\\bobwhite\\ravenSelectionTables\\20221022_060000.txt</td>\n",
       "      <td>0.4319</td>\n",
       "      <td>7.794502</td>\n",
       "      <td>8.226439</td>\n",
       "      <td>711.201</td>\n",
       "      <td>2407.140</td>\n",
       "      <td>1</td>\n",
       "      <td>3</td>\n",
       "      <td>NOBO?</td>\n",
       "      <td>-71.17</td>\n",
       "      <td>Spectrogram 1</td>\n",
       "      <td>1695.939</td>\n",
       "    </tr>\n",
       "    <tr>\n",
       "      <th>3</th>\n",
       "      <td>c:\\Users\\jonat\\Documents\\bobwhite\\ravenSelectionTables\\20221022_060000.wav</td>\n",
       "      <td>c:\\Users\\jonat\\Documents\\bobwhite\\ravenSelectionTables\\20221022_060000.txt</td>\n",
       "      <td>0.4319</td>\n",
       "      <td>9.090314</td>\n",
       "      <td>9.522251</td>\n",
       "      <td>656.493</td>\n",
       "      <td>2434.494</td>\n",
       "      <td>1</td>\n",
       "      <td>4</td>\n",
       "      <td>NOBO?</td>\n",
       "      <td>-69.66</td>\n",
       "      <td>Spectrogram 1</td>\n",
       "      <td>1778.001</td>\n",
       "    </tr>\n",
       "    <tr>\n",
       "      <th>4</th>\n",
       "      <td>c:\\Users\\jonat\\Documents\\bobwhite\\ravenSelectionTables\\20221022_060000.wav</td>\n",
       "      <td>c:\\Users\\jonat\\Documents\\bobwhite\\ravenSelectionTables\\20221022_060000.txt</td>\n",
       "      <td>0.3534</td>\n",
       "      <td>173.404513</td>\n",
       "      <td>173.757917</td>\n",
       "      <td>1340.340</td>\n",
       "      <td>2434.494</td>\n",
       "      <td>1</td>\n",
       "      <td>5</td>\n",
       "      <td>NOBO?</td>\n",
       "      <td>-75.79</td>\n",
       "      <td>Spectrogram 1</td>\n",
       "      <td>1094.154</td>\n",
       "    </tr>\n",
       "    <tr>\n",
       "      <th>5</th>\n",
       "      <td>c:\\Users\\jonat\\Documents\\bobwhite\\ravenSelectionTables\\20221022_060000.wav</td>\n",
       "      <td>c:\\Users\\jonat\\Documents\\bobwhite\\ravenSelectionTables\\20221022_060000.txt</td>\n",
       "      <td>0.5497</td>\n",
       "      <td>203.125508</td>\n",
       "      <td>203.675246</td>\n",
       "      <td>1312.986</td>\n",
       "      <td>2325.079</td>\n",
       "      <td>1</td>\n",
       "      <td>6</td>\n",
       "      <td>NOBO?</td>\n",
       "      <td>-75.56</td>\n",
       "      <td>Spectrogram 1</td>\n",
       "      <td>1012.093</td>\n",
       "    </tr>\n",
       "    <tr>\n",
       "      <th>6</th>\n",
       "      <td>c:\\Users\\jonat\\Documents\\bobwhite\\ravenSelectionTables\\20221022_060000.wav</td>\n",
       "      <td>c:\\Users\\jonat\\Documents\\bobwhite\\ravenSelectionTables\\20221022_060000.txt</td>\n",
       "      <td>0.9762</td>\n",
       "      <td>228.023939</td>\n",
       "      <td>229.000169</td>\n",
       "      <td>1340.340</td>\n",
       "      <td>2543.910</td>\n",
       "      <td>1</td>\n",
       "      <td>7</td>\n",
       "      <td>NOBO?</td>\n",
       "      <td>-76.43</td>\n",
       "      <td>Spectrogram 1</td>\n",
       "      <td>1203.570</td>\n",
       "    </tr>\n",
       "    <tr>\n",
       "      <th>7</th>\n",
       "      <td>c:\\Users\\jonat\\Documents\\bobwhite\\ravenSelectionTables\\20221022_060000.wav</td>\n",
       "      <td>c:\\Users\\jonat\\Documents\\bobwhite\\ravenSelectionTables\\20221022_060000.txt</td>\n",
       "      <td>1.0652</td>\n",
       "      <td>238.451164</td>\n",
       "      <td>239.516400</td>\n",
       "      <td>957.385</td>\n",
       "      <td>2352.433</td>\n",
       "      <td>1</td>\n",
       "      <td>8</td>\n",
       "      <td>NOBO?</td>\n",
       "      <td>-73.78</td>\n",
       "      <td>Spectrogram 1</td>\n",
       "      <td>1395.048</td>\n",
       "    </tr>\n",
       "    <tr>\n",
       "      <th>8</th>\n",
       "      <td>c:\\Users\\jonat\\Documents\\bobwhite\\ravenSelectionTables\\20221022_060000.wav</td>\n",
       "      <td>c:\\Users\\jonat\\Documents\\bobwhite\\ravenSelectionTables\\20221022_060000.txt</td>\n",
       "      <td>0.9087</td>\n",
       "      <td>381.698337</td>\n",
       "      <td>382.607028</td>\n",
       "      <td>1121.509</td>\n",
       "      <td>2243.017</td>\n",
       "      <td>1</td>\n",
       "      <td>9</td>\n",
       "      <td>NOBO?</td>\n",
       "      <td>-69.67</td>\n",
       "      <td>Spectrogram 1</td>\n",
       "      <td>1121.508</td>\n",
       "    </tr>\n",
       "    <tr>\n",
       "      <th>9</th>\n",
       "      <td>c:\\Users\\jonat\\Documents\\bobwhite\\ravenSelectionTables\\20221022_060000.wav</td>\n",
       "      <td>c:\\Users\\jonat\\Documents\\bobwhite\\ravenSelectionTables\\20221022_060000.txt</td>\n",
       "      <td>1.0671</td>\n",
       "      <td>389.420798</td>\n",
       "      <td>390.487866</td>\n",
       "      <td>1340.340</td>\n",
       "      <td>2379.786</td>\n",
       "      <td>1</td>\n",
       "      <td>10</td>\n",
       "      <td>NOBO?</td>\n",
       "      <td>-74.70</td>\n",
       "      <td>Spectrogram 1</td>\n",
       "      <td>1039.446</td>\n",
       "    </tr>\n",
       "  </tbody>\n",
       "</table>\n",
       "</div>"
      ],
      "text/plain": [
       "                                                                   audio_file  \\\n",
       "0  c:\\Users\\jonat\\Documents\\bobwhite\\ravenSelectionTables\\20221022_060000.wav   \n",
       "1  c:\\Users\\jonat\\Documents\\bobwhite\\ravenSelectionTables\\20221022_060000.wav   \n",
       "2  c:\\Users\\jonat\\Documents\\bobwhite\\ravenSelectionTables\\20221022_060000.wav   \n",
       "3  c:\\Users\\jonat\\Documents\\bobwhite\\ravenSelectionTables\\20221022_060000.wav   \n",
       "4  c:\\Users\\jonat\\Documents\\bobwhite\\ravenSelectionTables\\20221022_060000.wav   \n",
       "5  c:\\Users\\jonat\\Documents\\bobwhite\\ravenSelectionTables\\20221022_060000.wav   \n",
       "6  c:\\Users\\jonat\\Documents\\bobwhite\\ravenSelectionTables\\20221022_060000.wav   \n",
       "7  c:\\Users\\jonat\\Documents\\bobwhite\\ravenSelectionTables\\20221022_060000.wav   \n",
       "8  c:\\Users\\jonat\\Documents\\bobwhite\\ravenSelectionTables\\20221022_060000.wav   \n",
       "9  c:\\Users\\jonat\\Documents\\bobwhite\\ravenSelectionTables\\20221022_060000.wav   \n",
       "\n",
       "                                                              annotation_file  \\\n",
       "0  c:\\Users\\jonat\\Documents\\bobwhite\\ravenSelectionTables\\20221022_060000.txt   \n",
       "1  c:\\Users\\jonat\\Documents\\bobwhite\\ravenSelectionTables\\20221022_060000.txt   \n",
       "2  c:\\Users\\jonat\\Documents\\bobwhite\\ravenSelectionTables\\20221022_060000.txt   \n",
       "3  c:\\Users\\jonat\\Documents\\bobwhite\\ravenSelectionTables\\20221022_060000.txt   \n",
       "4  c:\\Users\\jonat\\Documents\\bobwhite\\ravenSelectionTables\\20221022_060000.txt   \n",
       "5  c:\\Users\\jonat\\Documents\\bobwhite\\ravenSelectionTables\\20221022_060000.txt   \n",
       "6  c:\\Users\\jonat\\Documents\\bobwhite\\ravenSelectionTables\\20221022_060000.txt   \n",
       "7  c:\\Users\\jonat\\Documents\\bobwhite\\ravenSelectionTables\\20221022_060000.txt   \n",
       "8  c:\\Users\\jonat\\Documents\\bobwhite\\ravenSelectionTables\\20221022_060000.txt   \n",
       "9  c:\\Users\\jonat\\Documents\\bobwhite\\ravenSelectionTables\\20221022_060000.txt   \n",
       "\n",
       "   length  start_time    end_time     low_f    high_f Channel Selection  \\\n",
       "0  0.4319    3.965968    4.397906   875.324  2379.786       1         1   \n",
       "1  0.3829    6.253273    6.636125   711.201  2407.140       1         2   \n",
       "2  0.4319    7.794502    8.226439   711.201  2407.140       1         3   \n",
       "3  0.4319    9.090314    9.522251   656.493  2434.494       1         4   \n",
       "4  0.3534  173.404513  173.757917  1340.340  2434.494       1         5   \n",
       "5  0.5497  203.125508  203.675246  1312.986  2325.079       1         6   \n",
       "6  0.9762  228.023939  229.000169  1340.340  2543.910       1         7   \n",
       "7  1.0652  238.451164  239.516400   957.385  2352.433       1         8   \n",
       "8  0.9087  381.698337  382.607028  1121.509  2243.017       1         9   \n",
       "9  1.0671  389.420798  390.487866  1340.340  2379.786       1        10   \n",
       "\n",
       "  annotation  Avg Power Density (dB FS/Hz)           View  Delta Freq (Hz)  \n",
       "0      NOBO?                        -69.59  Spectrogram 1         1504.462  \n",
       "1      NOBO?                        -69.65  Spectrogram 1         1695.939  \n",
       "2      NOBO?                        -71.17  Spectrogram 1         1695.939  \n",
       "3      NOBO?                        -69.66  Spectrogram 1         1778.001  \n",
       "4      NOBO?                        -75.79  Spectrogram 1         1094.154  \n",
       "5      NOBO?                        -75.56  Spectrogram 1         1012.093  \n",
       "6      NOBO?                        -76.43  Spectrogram 1         1203.570  \n",
       "7      NOBO?                        -73.78  Spectrogram 1         1395.048  \n",
       "8      NOBO?                        -69.67  Spectrogram 1         1121.508  \n",
       "9      NOBO?                        -74.70  Spectrogram 1         1039.446  "
      ]
     },
     "execution_count": 156,
     "metadata": {},
     "output_type": "execute_result"
    }
   ],
   "source": [
    "from opensoundscape import BoxedAnnotations\n",
    "\n",
    "all_annotations = BoxedAnnotations.from_raven_files(\n",
    "    updated_selections,audio_files)\n",
    "\n",
    "#RENAME DUPLICATE ANNOTATION TEST\n",
    "all_annotations.df.rename(columns={'annotation': 'length'}, inplace=True)\n",
    "all_annotations.df.rename(columns={'Annotation': 'annotation'}, inplace=True)\n",
    "\n",
    "all_annotations.df.head(10)\n",
    "\n",
    "\n"
   ]
  },
  {
   "cell_type": "code",
   "execution_count": 157,
   "metadata": {},
   "outputs": [
    {
     "data": {
      "text/plain": [
       "annotation\n",
       "NOBO     630\n",
       "NOBOF    120\n",
       "NOBO?     21\n",
       "NOOB       1\n",
       "Name: count, dtype: int64"
      ]
     },
     "execution_count": 157,
     "metadata": {},
     "output_type": "execute_result"
    }
   ],
   "source": [
    "all_annotations.df.annotation.value_counts() "
   ]
  },
  {
   "cell_type": "code",
   "execution_count": 158,
   "metadata": {},
   "outputs": [],
   "source": [
    "#keep only annotations that say \"NOBO\"\n",
    "class_list = ['NOBO']"
   ]
  },
  {
   "cell_type": "markdown",
   "metadata": {},
   "source": [
    "Now time for one hot encoding for the model\n"
   ]
  },
  {
   "cell_type": "code",
   "execution_count": 159,
   "metadata": {},
   "outputs": [
    {
     "data": {
      "text/html": [
       "<div>\n",
       "<style scoped>\n",
       "    .dataframe tbody tr th:only-of-type {\n",
       "        vertical-align: middle;\n",
       "    }\n",
       "\n",
       "    .dataframe tbody tr th {\n",
       "        vertical-align: top;\n",
       "    }\n",
       "\n",
       "    .dataframe thead th {\n",
       "        text-align: right;\n",
       "    }\n",
       "</style>\n",
       "<table border=\"1\" class=\"dataframe\">\n",
       "  <thead>\n",
       "    <tr style=\"text-align: right;\">\n",
       "      <th></th>\n",
       "      <th></th>\n",
       "      <th></th>\n",
       "      <th>NOBO</th>\n",
       "    </tr>\n",
       "    <tr>\n",
       "      <th>file</th>\n",
       "      <th>start_time</th>\n",
       "      <th>end_time</th>\n",
       "      <th></th>\n",
       "    </tr>\n",
       "  </thead>\n",
       "  <tbody>\n",
       "    <tr>\n",
       "      <th rowspan=\"5\" valign=\"top\">c:\\Users\\jonat\\Documents\\bobwhite\\ravenSelectionTables\\20221123_060000.wav</th>\n",
       "      <th>0.0</th>\n",
       "      <th>1.0</th>\n",
       "      <td>0.0</td>\n",
       "    </tr>\n",
       "    <tr>\n",
       "      <th>0.5</th>\n",
       "      <th>1.5</th>\n",
       "      <td>0.0</td>\n",
       "    </tr>\n",
       "    <tr>\n",
       "      <th>1.0</th>\n",
       "      <th>2.0</th>\n",
       "      <td>0.0</td>\n",
       "    </tr>\n",
       "    <tr>\n",
       "      <th>1.5</th>\n",
       "      <th>2.5</th>\n",
       "      <td>0.0</td>\n",
       "    </tr>\n",
       "    <tr>\n",
       "      <th>2.0</th>\n",
       "      <th>3.0</th>\n",
       "      <td>0.0</td>\n",
       "    </tr>\n",
       "  </tbody>\n",
       "</table>\n",
       "</div>"
      ],
      "text/plain": [
       "                                                                                                NOBO\n",
       "file                                                                       start_time end_time      \n",
       "c:\\Users\\jonat\\Documents\\bobwhite\\ravenSelectionTables\\20221123_060000.wav 0.0        1.0        0.0\n",
       "                                                                           0.5        1.5        0.0\n",
       "                                                                           1.0        2.0        0.0\n",
       "                                                                           1.5        2.5        0.0\n",
       "                                                                           2.0        3.0        0.0"
      ]
     },
     "execution_count": 159,
     "metadata": {},
     "output_type": "execute_result"
    }
   ],
   "source": [
    "# create labels for fixed-duration (2 second) clips \n",
    "\n",
    "'''since we aren't in the ravenselectiontable directory since the beginning, \n",
    "I ASSUME that i need to reference the audio file path manually under audio_files parameter'''\n",
    "\n",
    "audio_location = glob(os.path.join(relative_folder_path, \"*.wav\"))\n",
    "\n",
    "#print(audio_location)\n",
    "\n",
    "#change labels\n",
    "labels = all_annotations.one_hot_clip_labels(\n",
    "  clip_duration=1,\n",
    "  clip_overlap=0.5,\n",
    "  min_label_overlap=0.1,\n",
    "  class_subset=class_list, #maybe we can add NOBO?\n",
    "  audio_files= audio_location\n",
    ")\n",
    "\n",
    "# Set the option to display all rows\n",
    "pd.set_option('display.max_rows', None)\n",
    "\n",
    "labels.head()\n",
    "\n"
   ]
  },
  {
   "cell_type": "markdown",
   "metadata": {},
   "source": [
    "Training the model"
   ]
  },
  {
   "cell_type": "code",
   "execution_count": 160,
   "metadata": {},
   "outputs": [
    {
     "name": "stdout",
     "output_type": "stream",
     "text": [
      "Files to be removed:\n",
      "9554    c:\\Users\\jonat\\Documents\\bobwhite\\ravenSelectionTables\\20221024_060000.wav\n",
      "5172    c:\\Users\\jonat\\Documents\\bobwhite\\ravenSelectionTables\\20221108_060000.wav\n",
      "Name: file, dtype: object\n"
     ]
    }
   ],
   "source": [
    "from sklearn.model_selection import train_test_split\n",
    "import shutup; shutup.please()\n",
    "from IPython.display import display\n",
    "\n",
    "# Set the option to display more characters per column\n",
    "pd.set_option('display.max_colwidth', None)\n",
    "\n",
    "\n",
    "# Reset the index to convert \"file\" index into a column\n",
    "labels_reset_index = labels.reset_index()\n",
    "\n",
    "# Calculate 20% of unique file names\n",
    "num_files_to_remove = int(0.1 * labels_reset_index['file'].nunique())\n",
    "\n",
    "# Get a random sample of file names to remove\n",
    "files_to_remove = labels_reset_index['file'].sample(n=num_files_to_remove, random_state=1)\n",
    "\n",
    "# Print the filenames that are being removed\n",
    "print(\"Files to be removed:\")\n",
    "print(files_to_remove)\n",
    "\n",
    "# Create a DataFrame containing the files to remove\n",
    "testing_df = labels_reset_index[labels_reset_index['file'].isin(files_to_remove)]\n",
    "\n",
    "# Remove the files to be removed from the original DataFrame\n",
    "labels_filtered = labels_reset_index[~labels_reset_index['file'].isin(files_to_remove)]\n",
    "\n",
    "# Split the DataFrame based on unique values in the 'file' column\n",
    "train_files, validation_files = train_test_split(labels_filtered['file'].unique(), test_size=0.2, random_state=1)\n",
    "\n",
    "# Filter the labels DataFrame based on the split file names\n",
    "train_df = labels_filtered[labels_filtered['file'].isin(train_files)]\n",
    "validation_df = labels_filtered[labels_filtered['file'].isin(validation_files)]\n",
    "\n",
    "# Set \"file\" column as the index again\n",
    "train_df = train_df.set_index(['file', 'start_time', 'end_time'])\n",
    "validation_df = validation_df.set_index(['file', 'start_time', 'end_time'])"
   ]
  },
  {
   "cell_type": "code",
   "execution_count": 161,
   "metadata": {},
   "outputs": [
    {
     "name": "stderr",
     "output_type": "stream",
     "text": [
      "Downloading: \"https://download.pytorch.org/models/resnet34-b627a593.pth\" to C:\\Users\\jonat/.cache\\torch\\hub\\checkpoints\\resnet34-b627a593.pth\n",
      "100%|██████████| 83.3M/83.3M [00:02<00:00, 31.9MB/s]\n"
     ]
    },
    {
     "name": "stdout",
     "output_type": "stream",
     "text": [
      "\n",
      "Training Epoch 0\n"
     ]
    },
    {
     "data": {
      "application/vnd.jupyter.widget-view+json": {
       "model_id": "c040448ea9e2420585a1203a896bb158",
       "version_major": 2,
       "version_minor": 0
      },
      "text/plain": [
       "  0%|          | 0/300 [00:00<?, ?it/s]"
      ]
     },
     "metadata": {},
     "output_type": "display_data"
    },
    {
     "name": "stdout",
     "output_type": "stream",
     "text": [
      "Epoch: 0 [batch 0/300, 0.00%] \n",
      "\tDistLoss: 0.465\n",
      "Metrics:\n",
      "Metrics:\n",
      "\tMAP: 0.310\n",
      "\n",
      "Validation.\n"
     ]
    },
    {
     "data": {
      "application/vnd.jupyter.widget-view+json": {
       "model_id": "ec8ee26de33a465b8b627eca7f432aa7",
       "version_major": 2,
       "version_minor": 0
      },
      "text/plain": [
       "  0%|          | 0/94 [00:00<?, ?it/s]"
      ]
     },
     "metadata": {},
     "output_type": "display_data"
    },
    {
     "name": "stdout",
     "output_type": "stream",
     "text": [
      "Metrics:\n",
      "\tMAP: 0.082\n",
      "\n",
      "Training Epoch 1\n"
     ]
    },
    {
     "data": {
      "application/vnd.jupyter.widget-view+json": {
       "model_id": "747c12e91b494b5da9fc85b94b5eadb4",
       "version_major": 2,
       "version_minor": 0
      },
      "text/plain": [
       "  0%|          | 0/300 [00:00<?, ?it/s]"
      ]
     },
     "metadata": {},
     "output_type": "display_data"
    },
    {
     "name": "stdout",
     "output_type": "stream",
     "text": [
      "Epoch: 1 [batch 0/300, 0.00%] \n",
      "\tDistLoss: 0.102\n",
      "Metrics:\n"
     ]
    },
    {
     "ename": "KeyboardInterrupt",
     "evalue": "",
     "output_type": "error",
     "traceback": [
      "\u001b[1;31m---------------------------------------------------------------------------\u001b[0m",
      "\u001b[1;31mKeyboardInterrupt\u001b[0m                         Traceback (most recent call last)",
      "Cell \u001b[1;32mIn[161], line 22\u001b[0m\n\u001b[0;32m     19\u001b[0m \u001b[38;5;28;01melse\u001b[39;00m:\n\u001b[0;32m     20\u001b[0m     model \u001b[38;5;241m=\u001b[39m CNN(\u001b[38;5;124m'\u001b[39m\u001b[38;5;124mresnet34\u001b[39m\u001b[38;5;124m'\u001b[39m, classes\u001b[38;5;241m=\u001b[39mclass_list, sample_duration\u001b[38;5;241m=\u001b[39mSAMPLE_DURATION) \u001b[38;5;66;03m#resnet 18\u001b[39;00m\n\u001b[1;32m---> 22\u001b[0m     \u001b[43mmodel\u001b[49m\u001b[38;5;241;43m.\u001b[39;49m\u001b[43mtrain\u001b[49m\u001b[43m(\u001b[49m\n\u001b[0;32m     23\u001b[0m \u001b[43m        \u001b[49m\u001b[43mtrain_df\u001b[49m\u001b[38;5;241;43m=\u001b[39;49m\u001b[43mtrain_df\u001b[49m\u001b[43m,\u001b[49m\n\u001b[0;32m     24\u001b[0m \u001b[43m        \u001b[49m\u001b[43mvalidation_df\u001b[49m\u001b[38;5;241;43m=\u001b[39;49m\u001b[43mtest_df\u001b[49m\u001b[43m,\u001b[49m\n\u001b[0;32m     25\u001b[0m \u001b[43m        \u001b[49m\u001b[43msave_path\u001b[49m\u001b[38;5;241;43m=\u001b[39;49m\u001b[43msave_path\u001b[49m\u001b[43m,\u001b[49m\n\u001b[0;32m     26\u001b[0m \u001b[43m        \u001b[49m\u001b[43mepochs\u001b[49m\u001b[38;5;241;43m=\u001b[39;49m\u001b[43mNUM_EPOCHS\u001b[49m\u001b[43m,\u001b[49m\n\u001b[0;32m     27\u001b[0m \u001b[43m        \u001b[49m\u001b[43mbatch_size\u001b[49m\u001b[38;5;241;43m=\u001b[39;49m\u001b[43mBATCH_SIZE\u001b[49m\u001b[43m,\u001b[49m\n\u001b[0;32m     28\u001b[0m \u001b[43m        \u001b[49m\u001b[43msave_interval\u001b[49m\u001b[38;5;241;43m=\u001b[39;49m\u001b[43mSAVE_INTERVAL\u001b[49m\u001b[43m,\u001b[49m\n\u001b[0;32m     29\u001b[0m \u001b[43m        \u001b[49m\u001b[43mlog_interval\u001b[49m\u001b[38;5;241;43m=\u001b[39;49m\u001b[38;5;241;43m720\u001b[39;49m\u001b[43m,\u001b[49m\n\u001b[0;32m     30\u001b[0m \u001b[43m        \u001b[49m\u001b[43mnum_workers\u001b[49m\u001b[38;5;241;43m=\u001b[39;49m\u001b[38;5;241;43m4\u001b[39;49m\u001b[43m,\u001b[49m\u001b[43m \u001b[49m\u001b[38;5;66;43;03m#specify 4 if you have 4 CPU processes, eg; 0 means only the root process i have 8\u001b[39;49;00m\n\u001b[0;32m     31\u001b[0m \u001b[43m    \u001b[49m\u001b[43m)\u001b[49m\n\u001b[0;32m     33\u001b[0m     model\u001b[38;5;241m.\u001b[39msave(model_path)\n\u001b[0;32m     34\u001b[0m     model \u001b[38;5;241m=\u001b[39m load_model(model_path)\n",
      "File \u001b[1;32mc:\\Users\\jonat\\anaconda3\\envs\\bird\\lib\\site-packages\\opensoundscape\\ml\\cnn.py:909\u001b[0m, in \u001b[0;36mCNN.train\u001b[1;34m(self, train_df, validation_df, epochs, batch_size, num_workers, save_path, save_interval, log_interval, validation_interval, invalid_samples_log, raise_errors, wandb_session, progress_bar)\u001b[0m\n\u001b[0;32m    903\u001b[0m \u001b[38;5;28;01mfor\u001b[39;00m epoch \u001b[38;5;129;01min\u001b[39;00m \u001b[38;5;28mrange\u001b[39m(epochs):\n\u001b[0;32m    904\u001b[0m     \u001b[38;5;66;03m# 1 epoch = 1 view of each training file\u001b[39;00m\n\u001b[0;32m    905\u001b[0m     \u001b[38;5;66;03m# loss fn & backpropogation occurs after each batch\u001b[39;00m\n\u001b[0;32m    906\u001b[0m \n\u001b[0;32m    907\u001b[0m     \u001b[38;5;66;03m### Training ###\u001b[39;00m\n\u001b[0;32m    908\u001b[0m     \u001b[38;5;28mself\u001b[39m\u001b[38;5;241m.\u001b[39m_log(\u001b[38;5;124mf\u001b[39m\u001b[38;5;124m\"\u001b[39m\u001b[38;5;130;01m\\n\u001b[39;00m\u001b[38;5;124mTraining Epoch \u001b[39m\u001b[38;5;132;01m{\u001b[39;00m\u001b[38;5;28mself\u001b[39m\u001b[38;5;241m.\u001b[39mcurrent_epoch\u001b[38;5;132;01m}\u001b[39;00m\u001b[38;5;124m\"\u001b[39m)\n\u001b[1;32m--> 909\u001b[0m     train_targets, train_scores \u001b[38;5;241m=\u001b[39m \u001b[38;5;28;43mself\u001b[39;49m\u001b[38;5;241;43m.\u001b[39;49m\u001b[43m_train_epoch\u001b[49m\u001b[43m(\u001b[49m\n\u001b[0;32m    910\u001b[0m \u001b[43m        \u001b[49m\u001b[43mdataloader\u001b[49m\u001b[43m,\u001b[49m\u001b[43m \u001b[49m\u001b[43mwandb_session\u001b[49m\u001b[43m,\u001b[49m\u001b[43m \u001b[49m\u001b[43mprogress_bar\u001b[49m\u001b[38;5;241;43m=\u001b[39;49m\u001b[43mprogress_bar\u001b[49m\n\u001b[0;32m    911\u001b[0m \u001b[43m    \u001b[49m\u001b[43m)\u001b[49m\n\u001b[0;32m    913\u001b[0m     \u001b[38;5;66;03m### Evaluate ###\u001b[39;00m\n\u001b[0;32m    914\u001b[0m     train_score, \u001b[38;5;28mself\u001b[39m\u001b[38;5;241m.\u001b[39mtrain_metrics[\u001b[38;5;28mself\u001b[39m\u001b[38;5;241m.\u001b[39mcurrent_epoch] \u001b[38;5;241m=\u001b[39m \u001b[38;5;28mself\u001b[39m\u001b[38;5;241m.\u001b[39meval(\n\u001b[0;32m    915\u001b[0m         train_targets, train_scores\n\u001b[0;32m    916\u001b[0m     )\n",
      "File \u001b[1;32mc:\\Users\\jonat\\anaconda3\\envs\\bird\\lib\\site-packages\\opensoundscape\\ml\\cnn.py:638\u001b[0m, in \u001b[0;36mCNN._train_epoch\u001b[1;34m(self, train_loader, wandb_session, progress_bar)\u001b[0m\n\u001b[0;32m    636\u001b[0m \u001b[38;5;28mself\u001b[39m\u001b[38;5;241m.\u001b[39mopt_net\u001b[38;5;241m.\u001b[39mzero_grad()\n\u001b[0;32m    637\u001b[0m \u001b[38;5;66;03m# backward pass: calculate the gradients\u001b[39;00m\n\u001b[1;32m--> 638\u001b[0m \u001b[43mloss\u001b[49m\u001b[38;5;241;43m.\u001b[39;49m\u001b[43mbackward\u001b[49m\u001b[43m(\u001b[49m\u001b[43m)\u001b[49m\n\u001b[0;32m    639\u001b[0m \u001b[38;5;66;03m# update the network using the gradients*lr\u001b[39;00m\n\u001b[0;32m    640\u001b[0m \u001b[38;5;28mself\u001b[39m\u001b[38;5;241m.\u001b[39mopt_net\u001b[38;5;241m.\u001b[39mstep()\n",
      "File \u001b[1;32mc:\\Users\\jonat\\anaconda3\\envs\\bird\\lib\\site-packages\\torch\\_tensor.py:492\u001b[0m, in \u001b[0;36mTensor.backward\u001b[1;34m(self, gradient, retain_graph, create_graph, inputs)\u001b[0m\n\u001b[0;32m    482\u001b[0m \u001b[38;5;28;01mif\u001b[39;00m has_torch_function_unary(\u001b[38;5;28mself\u001b[39m):\n\u001b[0;32m    483\u001b[0m     \u001b[38;5;28;01mreturn\u001b[39;00m handle_torch_function(\n\u001b[0;32m    484\u001b[0m         Tensor\u001b[38;5;241m.\u001b[39mbackward,\n\u001b[0;32m    485\u001b[0m         (\u001b[38;5;28mself\u001b[39m,),\n\u001b[1;32m   (...)\u001b[0m\n\u001b[0;32m    490\u001b[0m         inputs\u001b[38;5;241m=\u001b[39minputs,\n\u001b[0;32m    491\u001b[0m     )\n\u001b[1;32m--> 492\u001b[0m \u001b[43mtorch\u001b[49m\u001b[38;5;241;43m.\u001b[39;49m\u001b[43mautograd\u001b[49m\u001b[38;5;241;43m.\u001b[39;49m\u001b[43mbackward\u001b[49m\u001b[43m(\u001b[49m\n\u001b[0;32m    493\u001b[0m \u001b[43m    \u001b[49m\u001b[38;5;28;43mself\u001b[39;49m\u001b[43m,\u001b[49m\u001b[43m \u001b[49m\u001b[43mgradient\u001b[49m\u001b[43m,\u001b[49m\u001b[43m \u001b[49m\u001b[43mretain_graph\u001b[49m\u001b[43m,\u001b[49m\u001b[43m \u001b[49m\u001b[43mcreate_graph\u001b[49m\u001b[43m,\u001b[49m\u001b[43m \u001b[49m\u001b[43minputs\u001b[49m\u001b[38;5;241;43m=\u001b[39;49m\u001b[43minputs\u001b[49m\n\u001b[0;32m    494\u001b[0m \u001b[43m\u001b[49m\u001b[43m)\u001b[49m\n",
      "File \u001b[1;32mc:\\Users\\jonat\\anaconda3\\envs\\bird\\lib\\site-packages\\torch\\autograd\\__init__.py:251\u001b[0m, in \u001b[0;36mbackward\u001b[1;34m(tensors, grad_tensors, retain_graph, create_graph, grad_variables, inputs)\u001b[0m\n\u001b[0;32m    246\u001b[0m     retain_graph \u001b[38;5;241m=\u001b[39m create_graph\n\u001b[0;32m    248\u001b[0m \u001b[38;5;66;03m# The reason we repeat the same comment below is that\u001b[39;00m\n\u001b[0;32m    249\u001b[0m \u001b[38;5;66;03m# some Python versions print out the first line of a multi-line function\u001b[39;00m\n\u001b[0;32m    250\u001b[0m \u001b[38;5;66;03m# calls in the traceback and some print out the last line\u001b[39;00m\n\u001b[1;32m--> 251\u001b[0m \u001b[43mVariable\u001b[49m\u001b[38;5;241;43m.\u001b[39;49m\u001b[43m_execution_engine\u001b[49m\u001b[38;5;241;43m.\u001b[39;49m\u001b[43mrun_backward\u001b[49m\u001b[43m(\u001b[49m\u001b[43m  \u001b[49m\u001b[38;5;66;43;03m# Calls into the C++ engine to run the backward pass\u001b[39;49;00m\n\u001b[0;32m    252\u001b[0m \u001b[43m    \u001b[49m\u001b[43mtensors\u001b[49m\u001b[43m,\u001b[49m\n\u001b[0;32m    253\u001b[0m \u001b[43m    \u001b[49m\u001b[43mgrad_tensors_\u001b[49m\u001b[43m,\u001b[49m\n\u001b[0;32m    254\u001b[0m \u001b[43m    \u001b[49m\u001b[43mretain_graph\u001b[49m\u001b[43m,\u001b[49m\n\u001b[0;32m    255\u001b[0m \u001b[43m    \u001b[49m\u001b[43mcreate_graph\u001b[49m\u001b[43m,\u001b[49m\n\u001b[0;32m    256\u001b[0m \u001b[43m    \u001b[49m\u001b[43minputs\u001b[49m\u001b[43m,\u001b[49m\n\u001b[0;32m    257\u001b[0m \u001b[43m    \u001b[49m\u001b[43mallow_unreachable\u001b[49m\u001b[38;5;241;43m=\u001b[39;49m\u001b[38;5;28;43;01mTrue\u001b[39;49;00m\u001b[43m,\u001b[49m\n\u001b[0;32m    258\u001b[0m \u001b[43m    \u001b[49m\u001b[43maccumulate_grad\u001b[49m\u001b[38;5;241;43m=\u001b[39;49m\u001b[38;5;28;43;01mTrue\u001b[39;49;00m\u001b[43m,\u001b[49m\n\u001b[0;32m    259\u001b[0m \u001b[43m\u001b[49m\u001b[43m)\u001b[49m\n",
      "\u001b[1;31mKeyboardInterrupt\u001b[0m: "
     ]
    }
   ],
   "source": [
    "\n",
    "from opensoundscape import CNN\n",
    "from opensoundscape.ml.cnn import load_model\n",
    "\n",
    "import shutup; shutup.please()\n",
    "\n",
    "# just make two different csv of train and validation\n",
    "# Define constants\n",
    "SAMPLE_DURATION = 1.0 #what is this; has to be same as clip duration, so 1\n",
    "NUM_EPOCHS = 2\n",
    "BATCH_SIZE = 64 #too SLOW, maybe 256, \n",
    "SAVE_INTERVAL = 1000\n",
    "\n",
    "# Specify paths\n",
    "model_path = './bird_training/bobwhite/best.model'\n",
    "save_path = './bird_training/bobwhite'\n",
    "\n",
    "if os.path.exists(model_path):\n",
    "    model = load_model(model_path)\n",
    "else:\n",
    "    model = CNN('resnet34', classes=class_list, sample_duration=SAMPLE_DURATION) #resnet 18 previously\n",
    "\n",
    "    model.train(\n",
    "        train_df=train_df,\n",
    "        validation_df=validation_df,\n",
    "        save_path=save_path,\n",
    "        epochs=NUM_EPOCHS,\n",
    "        batch_size=BATCH_SIZE,\n",
    "        save_interval=SAVE_INTERVAL,\n",
    "        log_interval=720,\n",
    "        num_workers=4, #specify 4 if you have 4 CPU processes, eg; 0 means only the root process i have 8\n",
    "    )\n",
    "\n",
    "    model.save(model_path)\n",
    "    model = load_model(model_path)"
   ]
  },
  {
   "cell_type": "code",
   "execution_count": null,
   "metadata": {},
   "outputs": [
    {
     "data": {
      "text/plain": [
       "Index(['NOBO'], dtype='object')"
      ]
     },
     "execution_count": 144,
     "metadata": {},
     "output_type": "execute_result"
    }
   ],
   "source": [
    "test_df.columns"
   ]
  },
  {
   "cell_type": "code",
   "execution_count": 162,
   "metadata": {},
   "outputs": [
    {
     "data": {
      "text/plain": [
       "2397"
      ]
     },
     "execution_count": 162,
     "metadata": {},
     "output_type": "execute_result"
    }
   ],
   "source": [
    "test_df.to_csv(\"test.csv\")\n",
    "len(test_df)\n",
    "train_df.to_csv(\"train.csv\")\n"
   ]
  },
  {
   "cell_type": "code",
   "execution_count": 163,
   "metadata": {},
   "outputs": [
    {
     "data": {
      "text/plain": [
       "19184"
      ]
     },
     "execution_count": 163,
     "metadata": {},
     "output_type": "execute_result"
    }
   ],
   "source": [
    "len(train_df)\n"
   ]
  },
  {
   "cell_type": "code",
   "execution_count": 164,
   "metadata": {},
   "outputs": [
    {
     "data": {
      "text/plain": [
       "2397"
      ]
     },
     "execution_count": 164,
     "metadata": {},
     "output_type": "execute_result"
    }
   ],
   "source": [
    "len(testing_df)"
   ]
  },
  {
   "cell_type": "markdown",
   "metadata": {},
   "source": [
    "After training"
   ]
  },
  {
   "cell_type": "code",
   "execution_count": null,
   "metadata": {},
   "outputs": [
    {
     "name": "stdout",
     "output_type": "stream",
     "text": [
      "[[], [], []]\n"
     ]
    }
   ],
   "source": [
    "from glob import glob\n",
    "\n",
    "# Search for .wav and .WAV files in all subdirectories of the directory\n",
    "forest_recordings = glob('./analysis_recording/2022Forest/**/*.[wW][aA][vV]', recursive=True)\n",
    "grasslandfall_recordings = glob('./analysis_recording/2022GrasslandFall/**/*.[wW][aA][vV]', recursive=True)\n",
    "grasslandsummer_recordings = glob('./analysis_recording/2022GrasslandSummer/**/*.[wW][aA][vV]', recursive=True)\n",
    "\n",
    "everything_list = [forest_recordings, grasslandfall_recordings, grasslandsummer_recordings]\n",
    "\n",
    "#maybe add code here that says if file name is in csv_output, remove from this list\n",
    "# Path to the csv_output folder\n",
    "csv_output_folder = './csv_output'\n",
    "\n",
    "# Iterate over files in the csv_output folder\n",
    "for file in os.listdir(csv_output_folder):\n",
    "    # Read the CSV file\n",
    "    csv_file_path = os.path.join(csv_output_folder, file)\n",
    "    df = pd.read_csv(csv_file_path)\n",
    "    # Get the filenames from the \"file\" column\n",
    "    filenames = df.iloc[:, 0].tolist()\n",
    "    # Iterate over each list in everything_list\n",
    "    for recording_list in everything_list:\n",
    "        # Check if any filename matches a value in the \"file\" column\n",
    "        for filename in filenames:\n",
    "            if filename in recording_list:\n",
    "                # Remove the filename from the list\n",
    "                recording_list.remove(filename)\n",
    "\n",
    "print(everything_list)"
   ]
  },
  {
   "cell_type": "code",
   "execution_count": null,
   "metadata": {},
   "outputs": [],
   "source": [
    "def predict(file, name, overlap=0):\n",
    "    prediction_scores_df = model.predict(file, activation_layer='sigmoid', overlap_fraction=overlap)\n",
    "    \n",
    "    # Reset index to move index levels to columns\n",
    "    prediction_scores_df.reset_index(inplace=True)\n",
    "\n",
    "    # Convert the seconds column to a \"hour:minute:second\" format\n",
    "    prediction_scores_df['start_time'] = pd.to_datetime(prediction_scores_df['start_time'], unit='s').apply(lambda x: x.strftime('%H:%M:%S.%f'))\n",
    "    prediction_scores_df['end_time'] = pd.to_datetime(prediction_scores_df['end_time'], unit='s').apply(lambda x: x.strftime('%H:%M:%S.%f'))\n",
    "\n",
    "\n",
    "    # Save the DataFrame to a CSV file\n",
    "    prediction_scores_df.to_csv(name, index=False)\n",
    "    \n",
    "from sklearn.mixture import GaussianMixture\n",
    "\n",
    "def add_presence_column(file_name):\n",
    "    # Read the CSV file into a pandas DataFrame\n",
    "    df = pd.read_csv(file_name)\n",
    "\n",
    "    # Assuming 'NOBO' column contains the scores\n",
    "    scores = df['NOBO'].values.reshape(-1, 1)\n",
    "\n",
    "    # Fit GMM model\n",
    "    gmm = GaussianMixture(n_components=4)  # Assuming two clusters, adjust as needed\n",
    "    gmm.fit(scores)\n",
    "\n",
    "    # Get the cluster means\n",
    "    cluster_means = gmm.means_\n",
    "\n",
    "    # Determine the top cluster (highest mean)\n",
    "    top_cluster = cluster_means.argmax()\n",
    "\n",
    "    # Add a new column 'Presence' based on the top cluster\n",
    "    df['Presence'] = ['Present' if cluster == top_cluster else '' for cluster in gmm.predict(scores)]\n",
    "\n",
    "    # Save the updated DataFrame to the same CSV file\n",
    "    df.to_csv(file_name, index=False)\n"
   ]
  },
  {
   "cell_type": "code",
   "execution_count": null,
   "metadata": {},
   "outputs": [],
   "source": [
    "\n",
    "# import Audio and Spectrogram classes from OpenSoundscape\n",
    "from opensoundscape.audio import Audio\n",
    "from opensoundscape.spectrogram import Spectrogram\n",
    "\n",
    "count = 0\n",
    "     \n",
    "for recording_list in everything_list:\n",
    "    \n",
    "    if recording_list:\n",
    "        #doesnt work for multiple files, figure out\n",
    "        if count == 0:\n",
    "            for file in recording_list:\n",
    "                # Extract the base name of the file (excluding path and extension)\n",
    "                recording_name = os.path.splitext(os.path.basename(file))[0]\n",
    "                \n",
    "                # Construct the CSV file name using the recording name\n",
    "                name = f\"csv_output/forest_recordings_{recording_name}.csv\"\n",
    "                \n",
    "                \n",
    "                if not os.path.exists(name):\n",
    "                # Perform prediction and save to CSV\n",
    "                    print(f\"In progress: {recording_name}\")\n",
    "                    predict([file], name)\n",
    "                    \n",
    "                # Add the 'Presence' column to the CSV file\n",
    "                add_presence_column(name)\n",
    "        elif count == 1:\n",
    "             for file in recording_list:\n",
    "                # Extract the base name of the file (excluding path and extension)\n",
    "                recording_name = os.path.splitext(os.path.basename(file))[0]\n",
    "                \n",
    "                # Construct the CSV file name using the recording name\n",
    "                name = f\"csv_output/grasslandfall_recordings_{recording_name}.csv\"\n",
    "            \n",
    "                \n",
    "                if not os.path.exists(name):\n",
    "                # Perform prediction and save to CSV\n",
    "                    print(f\"In progress: {recording_name}\")\n",
    "                    predict([file], name)\n",
    "                    \n",
    "                # Add the 'Presence' column to the CSV file\n",
    "                add_presence_column(name)\n",
    "        elif count == 2:\n",
    "            for file in recording_list:\n",
    "                # Extract the base name of the file (excluding path and extension)\n",
    "                recording_name = os.path.splitext(os.path.basename(file))[0]\n",
    "                \n",
    "                # Construct the CSV file name using the recording name\n",
    "                name = f\"csv_output/grasslandsummer_recordings_{recording_name}.csv\"\n",
    "                \n",
    "                print(f\"In progress: {recording_name}\")\n",
    "                \n",
    "                if not os.path.exists(name):\n",
    "                # Perform prediction and save to CSV\n",
    "                    print(f\"In progress: {recording_name}\")\n",
    "                    predict([file], name)\n",
    "                    \n",
    "                # Add the 'Presence' column to the CSV file\n",
    "                add_presence_column(name)\n",
    "\n",
    "    count += 1\n",
    "        \n",
    "        "
   ]
  },
  {
   "cell_type": "markdown",
   "metadata": {},
   "source": [
    "Check metrics"
   ]
  },
  {
   "cell_type": "code",
   "execution_count": null,
   "metadata": {},
   "outputs": [
    {
     "name": "stdout",
     "output_type": "stream",
     "text": [
      "['20221108_060000', '20221024_060000']\n",
      "In progress: ravenSelectionTables/20221108_060000.WAV\n"
     ]
    },
    {
     "data": {
      "application/vnd.jupyter.widget-view+json": {
       "model_id": "564ef2dddf804fb29ab13aac76ed5a24",
       "version_major": 2,
       "version_minor": 0
      },
      "text/plain": [
       "  0%|          | 0/1199 [00:00<?, ?it/s]"
      ]
     },
     "metadata": {},
     "output_type": "display_data"
    },
    {
     "name": "stdout",
     "output_type": "stream",
     "text": [
      "Number of rows in testing_files/20221108_060000.csv: 1199\n",
      "In progress: ravenSelectionTables/20221024_060000.WAV\n"
     ]
    },
    {
     "data": {
      "application/vnd.jupyter.widget-view+json": {
       "model_id": "f315b4492780493c9ddbd67c5582468a",
       "version_major": 2,
       "version_minor": 0
      },
      "text/plain": [
       "  0%|          | 0/1198 [00:00<?, ?it/s]"
      ]
     },
     "metadata": {},
     "output_type": "display_data"
    },
    {
     "name": "stdout",
     "output_type": "stream",
     "text": [
      "Number of rows in testing_files/20221024_060000.csv: 1198\n",
      "Total number of rows from all CSV files: 2397\n"
     ]
    }
   ],
   "source": [
    "testing_df.to_csv(\"testing.csv\", index=False)\n",
    "\n",
    "import pandas as pd\n",
    "\n",
    "# Read the CSV file into a DataFrame\n",
    "testing_df = pd.read_csv(\"testing.csv\")\n",
    "\n",
    "# Define the regex pattern\n",
    "pattern = r\"(\\d{8}_\\d{6})\"\n",
    "\n",
    "# Extract the pattern from filenames and get unique values\n",
    "unique_patterns = testing_df['file'].str.extract(pattern).dropna().squeeze().unique().tolist()\n",
    "\n",
    "# Print the unique patterns\n",
    "print(unique_patterns)\n",
    "\n",
    "# List to store the total number of rows from each CSV\n",
    "total_rows = []\n",
    "\n",
    "for file in unique_patterns:\n",
    "    filename = f\"ravenSelectionTables/{file}.WAV\"\n",
    "    path = f\"testing_files/{file}.csv\"\n",
    "    \n",
    "    if not os.path.exists(path):\n",
    "    # Perform prediction and save to CSV\n",
    "        print(f\"In progress: {filename}\")\n",
    "        predict([filename], path, overlap=.5)\n",
    "        \n",
    "    add_presence_column(path)\n",
    "    \n",
    "    df = pd.read_csv(path)\n",
    "    \n",
    "    # Get the number of rows in the DataFrame\n",
    "    num_rows = len(df)\n",
    "    \n",
    "    # Print the number of rows for the current CSV file\n",
    "    print(f\"Number of rows in {path}: {num_rows}\")\n",
    "    \n",
    "    # Get the number of rows in the DataFrame and append to the list\n",
    "    total_rows.append(len(df))\n",
    "    \n",
    "# Calculate the total number of rows across all CSV files\n",
    "total_rows_all_files = sum(total_rows)\n",
    "\n",
    "# Print the total number of rows\n",
    "print(\"Total number of rows from all CSV files:\", total_rows_all_files)\n",
    "\n"
   ]
  },
  {
   "cell_type": "markdown",
   "metadata": {},
   "source": [
    "split testing.csv to separate csv based on unique filename"
   ]
  },
  {
   "cell_type": "code",
   "execution_count": null,
   "metadata": {},
   "outputs": [
    {
     "name": "stdout",
     "output_type": "stream",
     "text": [
      "Number of rows in 20221108_060000: 1199\n",
      "Number of rows in 20221024_060000: 1198\n"
     ]
    }
   ],
   "source": [
    "# Define the regex pattern\n",
    "pattern = r\"(\\d{8}_\\d{6})\"\n",
    "\n",
    "# Get unique filenames and filter them to match the regex pattern\n",
    "unique_filenames = testing_df['file'].str.extract(pattern).dropna().squeeze().unique()\n",
    "\n",
    "# Iterate over unique filenames and create separate CSV files\n",
    "for filename in unique_filenames:\n",
    "    # Filter DataFrame for current filename\n",
    "    subset_df = testing_df[testing_df['file'].str.contains(filename)]\n",
    "    \n",
    "    # Print the number of rows in the subset DataFrame\n",
    "    num_rows = len(subset_df)\n",
    "    print(f\"Number of rows in {filename}: {num_rows}\")\n",
    "    \n",
    "    # Define the filename for the new CSV file\n",
    "    new_filename = f\"testing_files/original_{filename}.csv\"\n",
    "    \n",
    "    # Write the subset DataFrame to a new CSV file\n",
    "    subset_df.to_csv(new_filename, index=False)\n"
   ]
  },
  {
   "cell_type": "markdown",
   "metadata": {},
   "source": [
    "merge dataframes and get metrics"
   ]
  },
  {
   "cell_type": "code",
   "execution_count": null,
   "metadata": {},
   "outputs": [
    {
     "name": "stdout",
     "output_type": "stream",
     "text": [
      "Merged CSV file for 20221024_060000 saved as: testing_files/merged_20221024_060000.csv\n",
      "Merged CSV file for 20221108_060000 saved as: testing_files/merged_20221108_060000.csv\n"
     ]
    }
   ],
   "source": [
    "import os\n",
    "import pandas as pd\n",
    "\n",
    "# Define the regex pattern\n",
    "pattern = r\"(\\d{8}_\\d{6})\"\n",
    "\n",
    "# Function to extract the filename pattern\n",
    "def extract_pattern(filename):\n",
    "    match = re.search(pattern, filename)\n",
    "    if match:\n",
    "        return match.group()\n",
    "    else:\n",
    "        return None\n",
    "\n",
    "# Dictionary to store DataFrames for each unique filename pattern\n",
    "merged_dfs = {}\n",
    "\n",
    "# Iterate over files in the testing_files folder\n",
    "for filename in os.listdir(\"testing_files\"):\n",
    "    if filename.endswith(\".csv\"):\n",
    "        # Read the CSV file into a DataFrame\n",
    "        df = pd.read_csv(os.path.join(\"testing_files\", filename))\n",
    "        \n",
    "        # Extract the filename pattern\n",
    "        file_pattern = extract_pattern(filename)\n",
    "        \n",
    "        if file_pattern:\n",
    "    \n",
    "            # Check if the filename pattern already exists in the dictionary\n",
    "            if file_pattern in merged_dfs:\n",
    "                # Concatenate the current DataFrame with the existing one in the dictionary\n",
    "                merged_dfs[file_pattern] = pd.concat([merged_dfs[file_pattern], df], axis=1, join='inner')\n",
    "            else:\n",
    "                # If the filename pattern is not in the dictionary, add the DataFrame to the dictionary\n",
    "                merged_dfs[file_pattern] = df\n",
    "\n",
    "# Save each merged DataFrame to a separate CSV file\n",
    "for pattern, df in merged_dfs.items():\n",
    "    merged_filename = f\"testing_files/merged_{pattern}.csv\"\n",
    "    df.to_csv(merged_filename, index=False)\n",
    "    print(f\"Merged CSV file for {pattern} saved as: {merged_filename}\")\n"
   ]
  }
 ],
 "metadata": {
  "kernelspec": {
   "display_name": "bird",
   "language": "python",
   "name": "bird"
  },
  "language_info": {
   "codemirror_mode": {
    "name": "ipython",
    "version": 3
   },
   "file_extension": ".py",
   "mimetype": "text/x-python",
   "name": "python",
   "nbconvert_exporter": "python",
   "pygments_lexer": "ipython3",
   "version": "3.10.13"
  }
 },
 "nbformat": 4,
 "nbformat_minor": 2
}
